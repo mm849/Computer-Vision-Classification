{
  "cells": [
    {
      "cell_type": "markdown",
      "metadata": {
        "id": "m_SLMzgGIpjE"
      },
      "source": [
        "Advanced Convolutional Neural Networks (CNNs) with CIFAR-10 dataset\n",
        "=========\n",
        "\n",
        "In this tutorial we will learn how to use more complex CNNs, showing that the training of a __deeper__ CNN can improve the performance of the model. We will also explore the concept of __data augmentation__ to understand how to increase the variability of the training set by, for example, rotating the original images to generate new training stimuli.\n",
        "\n",
        "This tutorail will use the CIFAR-10 training set.\n"
      ]
    },
    {
      "cell_type": "markdown",
      "metadata": {
        "id": "PKafL_SXIpjI"
      },
      "source": [
        "**CNN for CIFAR-10**\n",
        "\n",
        "To work with more complex CNNs, we will now use a more complex training dataset called __CIFAR-10__. https://www.cs.toronto.edu/~kriz/cifar.html . CIFAR-10 is a benchamark machine learning set of low-resolution, colour images. It includes 60000 32x32 colour (using 3 RGB colour channels) images in these 10 classes of objects: airplane, automobile, bird, cat, deer, dog, frog, horse, ship, truck. Each class has 6000. There are 50000 training images and 10000 test images. This dataset is enclosed in the default Anaconda KERAS package. \n"
      ]
    },
    {
      "attachments": {},
      "cell_type": "markdown",
      "metadata": {
        "id": "XSw16YYkIpjK"
      },
      "source": [
        "# **Initialisation of the program**\n",
        "\n",
        "The program starts with the importing of typical Keras and other Python service modules. "
      ]
    },
    {
      "cell_type": "code",
      "execution_count": 2,
      "metadata": {
        "colab": {
          "base_uri": "https://localhost:8080/"
        },
        "id": "x595vK3pIpjN",
        "outputId": "422206db-2d3f-4bd4-d07c-b205eb6007ec"
      },
      "outputs": [
        {
          "name": "stdout",
          "output_type": "stream",
          "text": [
            "Libraries imported.\n"
          ]
        }
      ],
      "source": [
        "# importing of modules for CIFAR-10 CNN \n",
        "from tensorflow.keras.datasets import cifar10\n",
        "from tensorflow.keras import utils\n",
        "from tensorflow.keras.models import Sequential\n",
        "from tensorflow.keras.layers import Dense, Dropout, Activation, Flatten\n",
        "from tensorflow.keras.layers import Conv2D, MaxPooling2D\n",
        "from tensorflow.keras.optimizers.legacy import SGD, Adam, RMSprop\n",
        "\n",
        "# importing of service libraries\n",
        "import numpy as np\n",
        "import matplotlib.pyplot as plt\n",
        "\n",
        "print('Libraries imported.')"
      ]
    },
    {
      "cell_type": "code",
      "execution_count": 3,
      "metadata": {},
      "outputs": [],
      "source": [
        "import tensorflow as tf"
      ]
    },
    {
      "cell_type": "markdown",
      "metadata": {
        "id": "Wx5--x5hIpjV"
      },
      "source": [
        "The following constant and variable definitions are needed for the network and training parameters.\n"
      ]
    },
    {
      "cell_type": "code",
      "execution_count": 4,
      "metadata": {
        "colab": {
          "base_uri": "https://localhost:8080/"
        },
        "id": "O1SvoRcMIpjX",
        "outputId": "51831c4b-8f85-4570-ee52-326ed271a935"
      },
      "outputs": [
        {
          "name": "stdout",
          "output_type": "stream",
          "text": [
            "Main variables initialised.\n"
          ]
        }
      ],
      "source": [
        "#training constants\n",
        "BATCH_SIZE = 128\n",
        "N_EPOCH = 20 # use 20 for best initial results\n",
        "N_CLASSES = 10\n",
        "VERBOSE = 1\n",
        "VALIDATION_SPLIT = 0.2\n",
        "OPTIM = RMSprop()\n",
        "\n",
        "print('Main variables initialised.')"
      ]
    },
    {
      "cell_type": "markdown",
      "metadata": {
        "id": "KpuekS__Ipjd"
      },
      "source": [
        "Constant definition for the training set images"
      ]
    },
    {
      "cell_type": "code",
      "execution_count": 5,
      "metadata": {
        "colab": {
          "base_uri": "https://localhost:8080/"
        },
        "id": "DWaibn5BIpje",
        "outputId": "c1855f56-e2f6-445c-9ec9-59b638dd6d1f"
      },
      "outputs": [
        {
          "name": "stdout",
          "output_type": "stream",
          "text": [
            "Image variables initialisation\n"
          ]
        }
      ],
      "source": [
        "# CIFAR_10 is a set of 60K images 32x32 pixels on 3 channels\n",
        "IMG_CHANNELS = 3\n",
        "IMG_ROWS = 32\n",
        "IMG_COLS = 32\n",
        "\n",
        "print('Image variables initialisation')"
      ]
    },
    {
      "attachments": {},
      "cell_type": "markdown",
      "metadata": {
        "id": "QcOhLgJ8Ipjk"
      },
      "source": [
        "# __CIFAR-10 data loading and processing__\n",
        "\n",
        "Loading and preparation of the CIFAR-10 training set."
      ]
    },
    {
      "cell_type": "code",
      "execution_count": 6,
      "metadata": {
        "colab": {
          "base_uri": "https://localhost:8080/"
        },
        "id": "uVzGwn80Ipjm",
        "outputId": "b5c2f64e-2821-4813-af77-ef63090b1887"
      },
      "outputs": [
        {
          "name": "stdout",
          "output_type": "stream",
          "text": [
            "input_X_train shape: (50000, 32, 32, 3)\n",
            "50000 train samples\n",
            "10000 test samples\n"
          ]
        }
      ],
      "source": [
        "#load dataset\n",
        "(input_X_train, output_y_train), (input_X_test, output_y_test) = cifar10.load_data()\n",
        "print('input_X_train shape:', input_X_train.shape)\n",
        "print(input_X_train.shape[0], 'train samples')\n",
        "print(input_X_test.shape[0], 'test samples')\n",
        " \n",
        "# convert to categorical\n",
        "output_Y_train = utils.to_categorical(output_y_train, N_CLASSES)\n",
        "output_Y_test = utils.to_categorical(output_y_test, N_CLASSES) \n",
        "\n",
        "# float and normalization\n",
        "input_X_train = input_X_train.astype('float32')\n",
        "input_X_test = input_X_test.astype('float32')\n",
        "input_X_train /= 255\n",
        "input_X_test /= 255\n"
      ]
    },
    {
      "attachments": {},
      "cell_type": "markdown",
      "metadata": {
        "id": "f6_L0SrmIpjr"
      },
      "source": [
        "# **Visualisation of two sample CIFAR-10 images**\n",
        "\n",
        "Here we will visualise two sample images from the dataset."
      ]
    },
    {
      "cell_type": "code",
      "execution_count": 57,
      "metadata": {
        "colab": {
          "base_uri": "https://localhost:8080/",
          "height": 1000
        },
        "id": "U2gu1BhgIpjs",
        "outputId": "5eb14947-6d18-460e-a3ee-d359681bbd1b"
      },
      "outputs": [
        {
          "name": "stdout",
          "output_type": "stream",
          "text": [
            "Sample input image: [[[0.10980392 0.09803922 0.03921569]\n",
            "  [0.14509805 0.13333334 0.07450981]\n",
            "  [0.14901961 0.13725491 0.07843138]\n",
            "  ...\n",
            "  [0.29803923 0.2627451  0.15294118]\n",
            "  [0.31764707 0.28235295 0.16862746]\n",
            "  [0.33333334 0.29803923 0.18431373]]\n",
            "\n",
            " [[0.12941177 0.10980392 0.05098039]\n",
            "  [0.13333334 0.11764706 0.05490196]\n",
            "  [0.1254902  0.10588235 0.04705882]\n",
            "  ...\n",
            "  [0.37254903 0.32156864 0.21568628]\n",
            "  [0.3764706  0.32156864 0.21960784]\n",
            "  [0.33333334 0.28235295 0.1764706 ]]\n",
            "\n",
            " [[0.15294118 0.1254902  0.05882353]\n",
            "  [0.15686275 0.12941177 0.06666667]\n",
            "  [0.22352941 0.19607843 0.12941177]\n",
            "  ...\n",
            "  [0.3647059  0.29803923 0.20392157]\n",
            "  [0.41960785 0.34901962 0.25882354]\n",
            "  [0.37254903 0.3019608  0.21176471]]\n",
            "\n",
            " ...\n",
            "\n",
            " [[0.3254902  0.28627452 0.20392157]\n",
            "  [0.34117648 0.3019608  0.21960784]\n",
            "  [0.32941177 0.2901961  0.20392157]\n",
            "  ...\n",
            "  [0.3882353  0.3647059  0.27450982]\n",
            "  [0.3529412  0.32941177 0.23921569]\n",
            "  [0.31764707 0.29411766 0.20392157]]\n",
            "\n",
            " [[0.34509805 0.28235295 0.2       ]\n",
            "  [0.3529412  0.2901961  0.20392157]\n",
            "  [0.3647059  0.3019608  0.21960784]\n",
            "  ...\n",
            "  [0.3137255  0.2901961  0.20784314]\n",
            "  [0.29803923 0.27450982 0.19215687]\n",
            "  [0.32156864 0.29803923 0.21568628]]\n",
            "\n",
            " [[0.38039216 0.30588236 0.21960784]\n",
            "  [0.36862746 0.29411766 0.20784314]\n",
            "  [0.3647059  0.29411766 0.20784314]\n",
            "  ...\n",
            "  [0.21176471 0.18431373 0.10980392]\n",
            "  [0.24705882 0.21960784 0.14509805]\n",
            "  [0.28235295 0.25490198 0.18039216]]]\n"
          ]
        },
        {
          "data": {
            "image/png": "[encoded data removed]",
            "text/plain": [
              "<Figure size 640x480 with 1 Axes>"
            ]
          },
          "metadata": {},
          "output_type": "display_data"
        },
        {
          "data": {
            "text/plain": [
              "'Selected_Image = 3\\nimage = input_X_train[Selected_Image]\\nprint (\"Sample input image: \" + str(image))\\nplt.imshow(image)\\nplt.show() '"
            ]
          },
          "execution_count": 57,
          "metadata": {},
          "output_type": "execute_result"
        }
      ],
      "source": [
        "# visualisation of the numerical vector and 2D colour plot of the sample CIFAR imnage 2\n",
        "Selected_Image = 3\n",
        "image = input_X_train[Selected_Image]\n",
        "print (\"Sample input image: \" + str(image))\n",
        "plt.imshow(image)\n",
        "plt.show() \n",
        "\n",
        "'''Selected_Image = 3\n",
        "image = input_X_train[Selected_Image]\n",
        "print (\"Sample input image: \" + str(image))\n",
        "plt.imshow(image)\n",
        "plt.show() '''\n"
      ]
    },
    {
      "attachments": {},
      "cell_type": "markdown",
      "metadata": {},
      "source": [
        "# __Configure the dataset for performance__"
      ]
    },
    {
      "cell_type": "code",
      "execution_count": 8,
      "metadata": {},
      "outputs": [
        {
          "data": {
            "text/plain": [
              "'AUTOTUNE = tf.data.AUTOTUNE'"
            ]
          },
          "execution_count": 8,
          "metadata": {},
          "output_type": "execute_result"
        }
      ],
      "source": [
        "'''AUTOTUNE = tf.data.AUTOTUNE'''"
      ]
    },
    {
      "attachments": {},
      "cell_type": "markdown",
      "metadata": {
        "id": "rTUkz65eIpjx"
      },
      "source": [
        "# **Simple CNN model definition**\n",
        "\n",
        "This code defines a simple CNN network.\n",
        "The model will learn 32 convolutional filters, each of a 3 x 3 size. The output dimension is the same one of the input shape, with a 32 x 32 filters (default stride of 1 is used). The activation function ReLU will be used. \n",
        "The network then has a max-pooling layer with pool size 2 x 2, and a dropout at 25%.\n",
        "\n",
        "The next level of depth has a dense layer with 512 units and ReLU activation, followed by a dropout at 50%.\n",
        "Finally, a softmax layer is used with 10 units/classes as output, i.e. one for each of the 10 classes of objects encoded with one-hot coding."
      ]
    },
    {
      "attachments": {},
      "cell_type": "markdown",
      "metadata": {},
      "source": [
        "## Baseline: 1 Lab model"
      ]
    },
    {
      "cell_type": "code",
      "execution_count": 9,
      "metadata": {
        "colab": {
          "base_uri": "https://localhost:8080/"
        },
        "id": "ZAWZ0UKzIpjz",
        "outputId": "2dccb2ca-7b79-4e6d-d155-0cf251e0bcd2"
      },
      "outputs": [
        {
          "name": "stdout",
          "output_type": "stream",
          "text": [
            "CNN network definition.\n"
          ]
        }
      ],
      "source": [
        "# network definition\n",
        "\n",
        "model = Sequential()\n",
        "model.add(Conv2D(32, (3, 3), padding='same', input_shape=(IMG_ROWS, IMG_COLS, IMG_CHANNELS)))\n",
        "model.add(Activation('relu'))\n",
        "model.add(MaxPooling2D(pool_size=(2, 2)))\n",
        "model.add(Dropout(0.25))\n",
        "  \n",
        "model.add(Flatten())\n",
        "model.add(Dense(512))\n",
        "model.add(Activation('relu'))\n",
        "model.add(Dropout(0.5))\n",
        "\n",
        "model.add(Dense(N_CLASSES))\n",
        "model.add(Activation('softmax'))\n",
        "\n",
        "print('CNN network definition.')"
      ]
    },
    {
      "cell_type": "markdown",
      "metadata": {
        "id": "M8B4dEyVIpj2"
      },
      "source": [
        "**Model compilation**\n",
        "\n",
        "This compiles the CNN model, and then shows its summary. \n"
      ]
    },
    {
      "cell_type": "code",
      "execution_count": 11,
      "metadata": {
        "colab": {
          "base_uri": "https://localhost:8080/"
        },
        "id": "rLrhT0HSIpj4",
        "outputId": "feaa2ef9-11af-4274-a5a5-4584e81b4569",
        "scrolled": true
      },
      "outputs": [
        {
          "name": "stdout",
          "output_type": "stream",
          "text": [
            "Model: \"sequential\"\n",
            "_________________________________________________________________\n",
            " Layer (type)                Output Shape              Param #   \n",
            "=================================================================\n",
            " conv2d (Conv2D)             (None, 32, 32, 32)        896       \n",
            "                                                                 \n",
            " activation (Activation)     (None, 32, 32, 32)        0         \n",
            "                                                                 \n",
            " max_pooling2d (MaxPooling2D  (None, 16, 16, 32)       0         \n",
            " )                                                               \n",
            "                                                                 \n",
            " dropout (Dropout)           (None, 16, 16, 32)        0         \n",
            "                                                                 \n",
            " flatten (Flatten)           (None, 8192)              0         \n",
            "                                                                 \n",
            " dense (Dense)               (None, 512)               4194816   \n",
            "                                                                 \n",
            " activation_1 (Activation)   (None, 512)               0         \n",
            "                                                                 \n",
            " dropout_1 (Dropout)         (None, 512)               0         \n",
            "                                                                 \n",
            " dense_1 (Dense)             (None, 10)                5130      \n",
            "                                                                 \n",
            " activation_2 (Activation)   (None, 10)                0         \n",
            "                                                                 \n",
            "=================================================================\n",
            "Total params: 4,200,842\n",
            "Trainable params: 4,200,842\n",
            "Non-trainable params: 0\n",
            "_________________________________________________________________\n"
          ]
        }
      ],
      "source": [
        "# compile the model\n",
        "model.compile(loss='categorical_crossentropy', optimizer=OPTIM, metrics=['accuracy'])\n",
        "\n",
        "model.summary()\n"
      ]
    },
    {
      "cell_type": "markdown",
      "metadata": {
        "id": "rAJPemJyIpj9"
      },
      "source": [
        "**Training of the CNN**\n",
        "\n",
        "This line of code trains the model, saving the results in the history variable.\n",
        "\n"
      ]
    },
    {
      "cell_type": "code",
      "execution_count": 13,
      "metadata": {
        "colab": {
          "base_uri": "https://localhost:8080/"
        },
        "id": "s9K5fqdXIpj-",
        "outputId": "d76c2448-a881-4625-b191-d097f29d2da2"
      },
      "outputs": [
        {
          "name": "stdout",
          "output_type": "stream",
          "text": [
            "Epoch 1/20\n",
            "313/313 [==============================] - 20s 63ms/step - loss: 1.3079 - accuracy: 0.5388 - val_loss: 1.2074 - val_accuracy: 0.5759\n",
            "Epoch 2/20\n",
            "313/313 [==============================] - 20s 64ms/step - loss: 1.2013 - accuracy: 0.5784 - val_loss: 1.1559 - val_accuracy: 0.5973\n",
            "Epoch 3/20\n",
            "313/313 [==============================] - 20s 64ms/step - loss: 1.1175 - accuracy: 0.6084 - val_loss: 1.2184 - val_accuracy: 0.5808\n",
            "Epoch 4/20\n",
            "313/313 [==============================] - 20s 63ms/step - loss: 1.0471 - accuracy: 0.6315 - val_loss: 1.1083 - val_accuracy: 0.6154\n",
            "Epoch 5/20\n",
            "313/313 [==============================] - 19s 60ms/step - loss: 0.9929 - accuracy: 0.6524 - val_loss: 1.0527 - val_accuracy: 0.6334\n",
            "Epoch 6/20\n",
            "313/313 [==============================] - 19s 60ms/step - loss: 0.9448 - accuracy: 0.6682 - val_loss: 1.1160 - val_accuracy: 0.6190\n",
            "Epoch 7/20\n",
            "313/313 [==============================] - 19s 60ms/step - loss: 0.8993 - accuracy: 0.6873 - val_loss: 1.0627 - val_accuracy: 0.6378\n",
            "Epoch 8/20\n",
            "313/313 [==============================] - 19s 61ms/step - loss: 0.8559 - accuracy: 0.6981 - val_loss: 1.0519 - val_accuracy: 0.6453\n",
            "Epoch 9/20\n",
            "313/313 [==============================] - 20s 65ms/step - loss: 0.8217 - accuracy: 0.7140 - val_loss: 0.9793 - val_accuracy: 0.6709\n",
            "Epoch 10/20\n",
            "313/313 [==============================] - 21s 67ms/step - loss: 0.7845 - accuracy: 0.7281 - val_loss: 0.9815 - val_accuracy: 0.6684\n",
            "Epoch 11/20\n",
            "313/313 [==============================] - 22s 71ms/step - loss: 0.7535 - accuracy: 0.7390 - val_loss: 0.9990 - val_accuracy: 0.6616\n",
            "Epoch 12/20\n",
            "313/313 [==============================] - 20s 65ms/step - loss: 0.7244 - accuracy: 0.7487 - val_loss: 1.0019 - val_accuracy: 0.6654\n",
            "Epoch 13/20\n",
            "313/313 [==============================] - 21s 67ms/step - loss: 0.6971 - accuracy: 0.7577 - val_loss: 1.0522 - val_accuracy: 0.6672\n",
            "Epoch 14/20\n",
            "313/313 [==============================] - 22s 70ms/step - loss: 0.6761 - accuracy: 0.7667 - val_loss: 1.0128 - val_accuracy: 0.6665\n",
            "Epoch 15/20\n",
            "313/313 [==============================] - 26s 82ms/step - loss: 0.6460 - accuracy: 0.7752 - val_loss: 1.0312 - val_accuracy: 0.6737\n",
            "Epoch 16/20\n",
            "313/313 [==============================] - 21s 66ms/step - loss: 0.6291 - accuracy: 0.7835 - val_loss: 0.9957 - val_accuracy: 0.6783\n",
            "Epoch 17/20\n",
            "313/313 [==============================] - 21s 67ms/step - loss: 0.6100 - accuracy: 0.7932 - val_loss: 1.0242 - val_accuracy: 0.6814\n",
            "Epoch 18/20\n",
            "313/313 [==============================] - 21s 68ms/step - loss: 0.5891 - accuracy: 0.7952 - val_loss: 1.0901 - val_accuracy: 0.6807\n",
            "Epoch 19/20\n",
            "313/313 [==============================] - 20s 64ms/step - loss: 0.5771 - accuracy: 0.8011 - val_loss: 1.0700 - val_accuracy: 0.6836\n",
            "Epoch 20/20\n",
            "313/313 [==============================] - 21s 68ms/step - loss: 0.5635 - accuracy: 0.8074 - val_loss: 1.1658 - val_accuracy: 0.6740\n"
          ]
        }
      ],
      "source": [
        "# training/fitting of the DNN model\n",
        "\n",
        "history = model.fit(input_X_train, output_Y_train, batch_size=BATCH_SIZE, epochs=N_EPOCH, validation_split=VALIDATION_SPLIT,  verbose=VERBOSE)\n"
      ]
    },
    {
      "cell_type": "markdown",
      "metadata": {
        "id": "7-kbN3RlIpkD"
      },
      "source": [
        "**Saving of the model and of the trained weights**\n",
        "\n",
        "This saves the model definition and the weights, after training.\n",
        "\n"
      ]
    },
    {
      "cell_type": "code",
      "execution_count": 9,
      "metadata": {
        "colab": {
          "base_uri": "https://localhost:8080/"
        },
        "id": "Z57S_sTRIpkF",
        "outputId": "72203aab-f064-473f-db85-5bfa788ad8f2"
      },
      "outputs": [
        {
          "name": "stdout",
          "output_type": "stream",
          "text": [
            "Files saved for model definition and for weights.\n"
          ]
        }
      ],
      "source": [
        "\"\"\"#save model in json format into a file\n",
        "model_json = model.to_json()\n",
        "open('cifar10_architecture.json', 'w').write(model_json)\n",
        "\n",
        "#save the trained weights\n",
        "model.save_weights('cifar10_weights.h5', overwrite=True)\n",
        "\n",
        "print('Files saved for model definition and for weights.')\"\"\""
      ]
    },
    {
      "cell_type": "markdown",
      "metadata": {
        "id": "7GvXVkx1IpkJ"
      },
      "source": [
        "**Analysis of the results**\n",
        "\n",
        "This code generates the test scores, so we can visualise and inspect the model's peformance.\n",
        "\n",
        "It also plots the accuracy and loss values along the training timescale.\n"
      ]
    },
    {
      "cell_type": "code",
      "execution_count": 14,
      "metadata": {
        "colab": {
          "base_uri": "https://localhost:8080/",
          "height": 660
        },
        "id": "N2XtixmtIpkL",
        "outputId": "df3e643a-21f6-4518-fdac-58fa34c17c52"
      },
      "outputs": [
        {
          "name": "stdout",
          "output_type": "stream",
          "text": [
            "79/79 [==============================] - 1s 12ms/step - loss: 1.1600 - accuracy: 0.6662\n",
            "\n",
            "Test score/loss: 1.1600341796875\n",
            "Test accuracy: 0.6661999821662903\n",
            "dict_keys(['loss', 'accuracy', 'val_loss', 'val_accuracy'])\n"
          ]
        },
        {
          "data": {
            "image/png": "[encoded data removed]",
            "text/plain": [
              "<Figure size 800x800 with 2 Axes>"
            ]
          },
          "metadata": {},
          "output_type": "display_data"
        }
      ],
      "source": [
        "#Testing\n",
        "score = model.evaluate(input_X_test, output_Y_test, batch_size=BATCH_SIZE, verbose=VERBOSE)\n",
        "print(\"\\nTest score/loss:\", score[0])\n",
        "print('Test accuracy:', score[1])\n",
        "\n",
        "# list all data in history\n",
        "print(history.history.keys())\n",
        "\n",
        "# summarize history for accuracy\n",
        "#plt.plot(mo)\n",
        "plt.figure(figsize=(8,8))\n",
        "plt.subplot(1,2,1)\n",
        "plt.plot(history.history['accuracy'])\n",
        "plt.plot(history.history['val_accuracy'])\n",
        "plt.title('model accuracy')\n",
        "plt.ylabel('accuracy')\n",
        "plt.xlabel('epoch')\n",
        "plt.legend(['train', 'test'], loc='upper left')\n",
        "\n",
        "# summarize history for loss\n",
        "plt.subplot(1,2,2)\n",
        "plt.plot(history.history['loss'])\n",
        "plt.plot(history.history['val_loss'])\n",
        "plt.title('model loss')\n",
        "plt.ylabel('loss')\n",
        "plt.xlabel('epoch')\n",
        "plt.legend(['train', 'test'], loc='upper left')\n",
        "plt.show()\n"
      ]
    },
    {
      "cell_type": "code",
      "execution_count": 16,
      "metadata": {},
      "outputs": [],
      "source": [
        "import pandas as pd"
      ]
    },
    {
      "cell_type": "code",
      "execution_count": 19,
      "metadata": {},
      "outputs": [
        {
          "name": "stdout",
          "output_type": "stream",
          "text": [
            "0 run------------------------\n",
            "CNN network definition.\n",
            "Epoch 1/20\n",
            "313/313 [==============================] - 21s 64ms/step - loss: 1.6851 - accuracy: 0.4015 - val_loss: 1.3551 - val_accuracy: 0.5181\n",
            "Epoch 2/20\n",
            "313/313 [==============================] - 19s 61ms/step - loss: 1.3453 - accuracy: 0.5242 - val_loss: 1.2623 - val_accuracy: 0.5482\n",
            "Epoch 3/20\n",
            "313/313 [==============================] - 18s 59ms/step - loss: 1.2141 - accuracy: 0.5709 - val_loss: 1.1909 - val_accuracy: 0.5850\n",
            "Epoch 4/20\n",
            "313/313 [==============================] - 18s 59ms/step - loss: 1.1234 - accuracy: 0.6053 - val_loss: 1.0999 - val_accuracy: 0.6139\n",
            "Epoch 5/20\n",
            "313/313 [==============================] - 19s 60ms/step - loss: 1.0515 - accuracy: 0.6309 - val_loss: 1.0915 - val_accuracy: 0.6215\n",
            "Epoch 6/20\n",
            "313/313 [==============================] - 19s 59ms/step - loss: 0.9858 - accuracy: 0.6578 - val_loss: 1.0823 - val_accuracy: 0.6196\n",
            "Epoch 7/20\n",
            "313/313 [==============================] - 19s 60ms/step - loss: 0.9362 - accuracy: 0.6779 - val_loss: 1.0765 - val_accuracy: 0.6343\n",
            "Epoch 8/20\n",
            "313/313 [==============================] - 19s 60ms/step - loss: 0.8882 - accuracy: 0.6892 - val_loss: 1.0008 - val_accuracy: 0.6643\n",
            "Epoch 9/20\n",
            "313/313 [==============================] - 19s 61ms/step - loss: 0.8467 - accuracy: 0.7068 - val_loss: 1.1588 - val_accuracy: 0.6295\n",
            "Epoch 10/20\n",
            "313/313 [==============================] - 19s 62ms/step - loss: 0.8020 - accuracy: 0.7229 - val_loss: 1.0290 - val_accuracy: 0.6536\n",
            "Epoch 11/20\n",
            "313/313 [==============================] - 19s 60ms/step - loss: 0.7687 - accuracy: 0.7325 - val_loss: 1.0202 - val_accuracy: 0.6552\n",
            "Epoch 12/20\n",
            "313/313 [==============================] - 18s 59ms/step - loss: 0.7379 - accuracy: 0.7452 - val_loss: 0.9966 - val_accuracy: 0.6704\n",
            "Epoch 13/20\n",
            "313/313 [==============================] - 18s 58ms/step - loss: 0.7039 - accuracy: 0.7581 - val_loss: 0.9967 - val_accuracy: 0.6742\n",
            "Epoch 14/20\n",
            "313/313 [==============================] - 19s 59ms/step - loss: 0.6700 - accuracy: 0.7663 - val_loss: 1.0202 - val_accuracy: 0.6714\n",
            "Epoch 15/20\n",
            "313/313 [==============================] - 19s 60ms/step - loss: 0.6503 - accuracy: 0.7762 - val_loss: 1.0417 - val_accuracy: 0.6720\n",
            "Epoch 16/20\n",
            "313/313 [==============================] - 19s 61ms/step - loss: 0.6216 - accuracy: 0.7853 - val_loss: 1.0398 - val_accuracy: 0.6730\n",
            "Epoch 17/20\n",
            "313/313 [==============================] - 20s 64ms/step - loss: 0.5988 - accuracy: 0.7956 - val_loss: 1.0192 - val_accuracy: 0.6797\n",
            "Epoch 18/20\n",
            "313/313 [==============================] - 24s 78ms/step - loss: 0.5788 - accuracy: 0.8015 - val_loss: 1.0644 - val_accuracy: 0.6784\n",
            "Epoch 19/20\n",
            "313/313 [==============================] - 21s 66ms/step - loss: 0.5593 - accuracy: 0.8082 - val_loss: 1.0850 - val_accuracy: 0.6781\n",
            "Epoch 20/20\n",
            "313/313 [==============================] - 19s 62ms/step - loss: 0.5437 - accuracy: 0.8140 - val_loss: 1.0554 - val_accuracy: 0.6834\n",
            "79/79 [==============================] - 1s 10ms/step - loss: 1.0476 - accuracy: 0.6816\n",
            "\n",
            "Test score/loss: 1.047616958618164\n",
            "Test accuracy: 0.6815999746322632\n",
            "1 run------------------------\n",
            "CNN network definition.\n",
            "Epoch 1/20\n",
            "313/313 [==============================] - 20s 61ms/step - loss: 1.7316 - accuracy: 0.3832 - val_loss: 1.4557 - val_accuracy: 0.4741\n",
            "Epoch 2/20\n",
            "313/313 [==============================] - 19s 61ms/step - loss: 1.3733 - accuracy: 0.5136 - val_loss: 1.3380 - val_accuracy: 0.5463\n",
            "Epoch 3/20\n",
            "313/313 [==============================] - 22s 69ms/step - loss: 1.2455 - accuracy: 0.5604 - val_loss: 1.1741 - val_accuracy: 0.5895\n",
            "Epoch 4/20\n",
            "313/313 [==============================] - 19s 60ms/step - loss: 1.1581 - accuracy: 0.5919 - val_loss: 1.1656 - val_accuracy: 0.5930\n",
            "Epoch 5/20\n",
            "313/313 [==============================] - 19s 60ms/step - loss: 1.0847 - accuracy: 0.6180 - val_loss: 1.1695 - val_accuracy: 0.5871\n",
            "Epoch 6/20\n",
            "313/313 [==============================] - 20s 63ms/step - loss: 1.0324 - accuracy: 0.6345 - val_loss: 1.0933 - val_accuracy: 0.6161\n",
            "Epoch 7/20\n",
            "313/313 [==============================] - 20s 64ms/step - loss: 0.9791 - accuracy: 0.6551 - val_loss: 1.0178 - val_accuracy: 0.6493\n",
            "Epoch 8/20\n",
            "313/313 [==============================] - 20s 63ms/step - loss: 0.9399 - accuracy: 0.6713 - val_loss: 1.0738 - val_accuracy: 0.6316\n",
            "Epoch 9/20\n",
            "313/313 [==============================] - 21s 69ms/step - loss: 0.8924 - accuracy: 0.6901 - val_loss: 1.0090 - val_accuracy: 0.6562\n",
            "Epoch 10/20\n",
            "313/313 [==============================] - 21s 66ms/step - loss: 0.8563 - accuracy: 0.7005 - val_loss: 1.0226 - val_accuracy: 0.6515\n",
            "Epoch 11/20\n",
            "313/313 [==============================] - 21s 66ms/step - loss: 0.8230 - accuracy: 0.7165 - val_loss: 1.0574 - val_accuracy: 0.6407\n",
            "Epoch 12/20\n",
            "313/313 [==============================] - 20s 63ms/step - loss: 0.7886 - accuracy: 0.7264 - val_loss: 1.0225 - val_accuracy: 0.6622\n",
            "Epoch 13/20\n",
            "313/313 [==============================] - 23s 74ms/step - loss: 0.7631 - accuracy: 0.7329 - val_loss: 1.0500 - val_accuracy: 0.6520\n",
            "Epoch 14/20\n",
            "313/313 [==============================] - 23s 74ms/step - loss: 0.7358 - accuracy: 0.7424 - val_loss: 1.0707 - val_accuracy: 0.6483\n",
            "Epoch 15/20\n",
            "313/313 [==============================] - 23s 74ms/step - loss: 0.7091 - accuracy: 0.7537 - val_loss: 1.0266 - val_accuracy: 0.6666\n",
            "Epoch 16/20\n",
            "313/313 [==============================] - 21s 69ms/step - loss: 0.6925 - accuracy: 0.7616 - val_loss: 1.0124 - val_accuracy: 0.6791\n",
            "Epoch 17/20\n",
            "313/313 [==============================] - 20s 63ms/step - loss: 0.6651 - accuracy: 0.7696 - val_loss: 1.0444 - val_accuracy: 0.6721\n",
            "Epoch 18/20\n",
            "313/313 [==============================] - 18s 58ms/step - loss: 0.6444 - accuracy: 0.7768 - val_loss: 1.0787 - val_accuracy: 0.6615\n",
            "Epoch 19/20\n",
            "313/313 [==============================] - 19s 61ms/step - loss: 0.6245 - accuracy: 0.7852 - val_loss: 1.0543 - val_accuracy: 0.6649\n",
            "Epoch 20/20\n",
            "313/313 [==============================] - 21s 66ms/step - loss: 0.6105 - accuracy: 0.7922 - val_loss: 1.0424 - val_accuracy: 0.6694\n",
            "79/79 [==============================] - 1s 11ms/step - loss: 1.0379 - accuracy: 0.6657\n",
            "\n",
            "Test score/loss: 1.0378594398498535\n",
            "Test accuracy: 0.6657000184059143\n",
            "2 run------------------------\n",
            "CNN network definition.\n",
            "Epoch 1/20\n",
            "313/313 [==============================] - 23s 69ms/step - loss: 1.7179 - accuracy: 0.3939 - val_loss: 1.3726 - val_accuracy: 0.5120\n",
            "Epoch 2/20\n",
            "313/313 [==============================] - 20s 63ms/step - loss: 1.3589 - accuracy: 0.5205 - val_loss: 1.2751 - val_accuracy: 0.5570\n",
            "Epoch 3/20\n",
            "313/313 [==============================] - 19s 60ms/step - loss: 1.2288 - accuracy: 0.5649 - val_loss: 1.1541 - val_accuracy: 0.5971\n",
            "Epoch 4/20\n",
            "313/313 [==============================] - 20s 65ms/step - loss: 1.1411 - accuracy: 0.5975 - val_loss: 1.1354 - val_accuracy: 0.5997\n",
            "Epoch 5/20\n",
            "313/313 [==============================] - 20s 63ms/step - loss: 1.0688 - accuracy: 0.6252 - val_loss: 1.0784 - val_accuracy: 0.6252\n",
            "Epoch 6/20\n",
            "313/313 [==============================] - 20s 64ms/step - loss: 1.0111 - accuracy: 0.6449 - val_loss: 1.1437 - val_accuracy: 0.6026\n",
            "Epoch 7/20\n",
            "313/313 [==============================] - 20s 63ms/step - loss: 0.9573 - accuracy: 0.6648 - val_loss: 1.0229 - val_accuracy: 0.6476\n",
            "Epoch 8/20\n",
            "313/313 [==============================] - 20s 64ms/step - loss: 0.9152 - accuracy: 0.6796 - val_loss: 1.0421 - val_accuracy: 0.6482\n",
            "Epoch 9/20\n",
            "313/313 [==============================] - 20s 64ms/step - loss: 0.8677 - accuracy: 0.6956 - val_loss: 1.0220 - val_accuracy: 0.6558\n",
            "Epoch 10/20\n",
            "313/313 [==============================] - 20s 65ms/step - loss: 0.8365 - accuracy: 0.7096 - val_loss: 1.0030 - val_accuracy: 0.6595\n",
            "Epoch 11/20\n",
            "313/313 [==============================] - 21s 67ms/step - loss: 0.8034 - accuracy: 0.7198 - val_loss: 1.0298 - val_accuracy: 0.6597\n",
            "Epoch 12/20\n",
            "313/313 [==============================] - 20s 64ms/step - loss: 0.7652 - accuracy: 0.7336 - val_loss: 0.9659 - val_accuracy: 0.6803\n",
            "Epoch 13/20\n",
            "313/313 [==============================] - 19s 61ms/step - loss: 0.7443 - accuracy: 0.7421 - val_loss: 1.0388 - val_accuracy: 0.6649\n",
            "Epoch 14/20\n",
            "313/313 [==============================] - 21s 66ms/step - loss: 0.7092 - accuracy: 0.7582 - val_loss: 1.0276 - val_accuracy: 0.6617\n",
            "Epoch 15/20\n",
            "313/313 [==============================] - 22s 70ms/step - loss: 0.6893 - accuracy: 0.7629 - val_loss: 1.0126 - val_accuracy: 0.6800\n",
            "Epoch 16/20\n",
            "313/313 [==============================] - 20s 65ms/step - loss: 0.6633 - accuracy: 0.7706 - val_loss: 0.9929 - val_accuracy: 0.6775\n",
            "Epoch 17/20\n",
            "313/313 [==============================] - 21s 67ms/step - loss: 0.6374 - accuracy: 0.7800 - val_loss: 1.1868 - val_accuracy: 0.6576\n",
            "Epoch 18/20\n",
            "313/313 [==============================] - 20s 65ms/step - loss: 0.6201 - accuracy: 0.7863 - val_loss: 1.1112 - val_accuracy: 0.6633\n",
            "Epoch 19/20\n",
            "313/313 [==============================] - 21s 68ms/step - loss: 0.6067 - accuracy: 0.7893 - val_loss: 1.1807 - val_accuracy: 0.6558\n",
            "Epoch 20/20\n",
            "313/313 [==============================] - 22s 70ms/step - loss: 0.5791 - accuracy: 0.8003 - val_loss: 1.0396 - val_accuracy: 0.6818\n",
            "79/79 [==============================] - 1s 11ms/step - loss: 1.0419 - accuracy: 0.6750\n",
            "\n",
            "Test score/loss: 1.0419241189956665\n",
            "Test accuracy: 0.675000011920929\n",
            "3 run------------------------\n",
            "CNN network definition.\n",
            "Epoch 1/20\n",
            "313/313 [==============================] - 20s 63ms/step - loss: 1.7416 - accuracy: 0.3866 - val_loss: 1.4068 - val_accuracy: 0.5110\n",
            "Epoch 2/20\n",
            "313/313 [==============================] - 19s 62ms/step - loss: 1.3697 - accuracy: 0.5128 - val_loss: 1.2420 - val_accuracy: 0.5678\n",
            "Epoch 3/20\n",
            "313/313 [==============================] - 17s 56ms/step - loss: 1.2401 - accuracy: 0.5615 - val_loss: 1.1950 - val_accuracy: 0.5785\n",
            "Epoch 4/20\n",
            "313/313 [==============================] - 18s 56ms/step - loss: 1.1489 - accuracy: 0.5939 - val_loss: 1.2612 - val_accuracy: 0.5753\n",
            "Epoch 5/20\n",
            "313/313 [==============================] - 18s 56ms/step - loss: 1.0853 - accuracy: 0.6204 - val_loss: 1.0965 - val_accuracy: 0.6207\n",
            "Epoch 6/20\n",
            "313/313 [==============================] - 18s 58ms/step - loss: 1.0294 - accuracy: 0.6386 - val_loss: 1.0807 - val_accuracy: 0.6208\n",
            "Epoch 7/20\n",
            "313/313 [==============================] - 20s 65ms/step - loss: 0.9750 - accuracy: 0.6551 - val_loss: 1.0642 - val_accuracy: 0.6303\n",
            "Epoch 8/20\n",
            "313/313 [==============================] - 18s 58ms/step - loss: 0.9382 - accuracy: 0.6708 - val_loss: 1.0299 - val_accuracy: 0.6418\n",
            "Epoch 9/20\n",
            "313/313 [==============================] - 20s 63ms/step - loss: 0.8965 - accuracy: 0.6878 - val_loss: 1.0120 - val_accuracy: 0.6505\n",
            "Epoch 10/20\n",
            "313/313 [==============================] - 19s 60ms/step - loss: 0.8562 - accuracy: 0.7010 - val_loss: 1.0691 - val_accuracy: 0.6412\n",
            "Epoch 11/20\n",
            "313/313 [==============================] - 21s 66ms/step - loss: 0.8233 - accuracy: 0.7109 - val_loss: 1.1237 - val_accuracy: 0.6305\n",
            "Epoch 12/20\n",
            "313/313 [==============================] - 19s 60ms/step - loss: 0.7970 - accuracy: 0.7217 - val_loss: 1.0147 - val_accuracy: 0.6653\n",
            "Epoch 13/20\n",
            "313/313 [==============================] - 18s 58ms/step - loss: 0.7671 - accuracy: 0.7341 - val_loss: 1.0572 - val_accuracy: 0.6512\n",
            "Epoch 14/20\n",
            "313/313 [==============================] - 18s 59ms/step - loss: 0.7361 - accuracy: 0.7445 - val_loss: 1.0022 - val_accuracy: 0.6669\n",
            "Epoch 15/20\n",
            "313/313 [==============================] - 19s 61ms/step - loss: 0.7107 - accuracy: 0.7524 - val_loss: 1.0028 - val_accuracy: 0.6765\n",
            "Epoch 16/20\n",
            "313/313 [==============================] - 19s 61ms/step - loss: 0.6845 - accuracy: 0.7633 - val_loss: 1.0421 - val_accuracy: 0.6586\n",
            "Epoch 17/20\n",
            "313/313 [==============================] - 22s 70ms/step - loss: 0.6569 - accuracy: 0.7720 - val_loss: 1.1708 - val_accuracy: 0.6271\n",
            "Epoch 18/20\n",
            "313/313 [==============================] - 20s 63ms/step - loss: 0.6377 - accuracy: 0.7781 - val_loss: 1.0734 - val_accuracy: 0.6593\n",
            "Epoch 19/20\n",
            "313/313 [==============================] - 19s 61ms/step - loss: 0.6248 - accuracy: 0.7853 - val_loss: 1.1283 - val_accuracy: 0.6566\n",
            "Epoch 20/20\n",
            "313/313 [==============================] - 20s 63ms/step - loss: 0.6100 - accuracy: 0.7892 - val_loss: 1.0844 - val_accuracy: 0.6791\n",
            "79/79 [==============================] - 1s 9ms/step - loss: 1.0907 - accuracy: 0.6724\n",
            "\n",
            "Test score/loss: 1.0907295942306519\n",
            "Test accuracy: 0.6723999977111816\n",
            "4 run------------------------\n",
            "CNN network definition.\n",
            "Epoch 1/20\n",
            "313/313 [==============================] - 20s 63ms/step - loss: 1.7886 - accuracy: 0.3789 - val_loss: 1.5086 - val_accuracy: 0.4611\n",
            "Epoch 2/20\n",
            "313/313 [==============================] - 18s 57ms/step - loss: 1.3912 - accuracy: 0.5070 - val_loss: 1.3209 - val_accuracy: 0.5467\n",
            "Epoch 3/20\n",
            "313/313 [==============================] - 18s 58ms/step - loss: 1.2603 - accuracy: 0.5558 - val_loss: 1.2030 - val_accuracy: 0.5777\n",
            "Epoch 4/20\n",
            "313/313 [==============================] - 18s 59ms/step - loss: 1.1686 - accuracy: 0.5890 - val_loss: 1.1392 - val_accuracy: 0.6000\n",
            "Epoch 5/20\n",
            "313/313 [==============================] - 20s 63ms/step - loss: 1.1006 - accuracy: 0.6141 - val_loss: 1.1205 - val_accuracy: 0.6062\n",
            "Epoch 6/20\n",
            "313/313 [==============================] - 20s 64ms/step - loss: 1.0448 - accuracy: 0.6316 - val_loss: 1.0759 - val_accuracy: 0.6262\n",
            "Epoch 7/20\n",
            "313/313 [==============================] - 20s 63ms/step - loss: 0.9941 - accuracy: 0.6556 - val_loss: 1.0209 - val_accuracy: 0.6481\n",
            "Epoch 8/20\n",
            "313/313 [==============================] - 19s 61ms/step - loss: 0.9576 - accuracy: 0.6655 - val_loss: 1.0232 - val_accuracy: 0.6512\n",
            "Epoch 9/20\n",
            "313/313 [==============================] - 19s 61ms/step - loss: 0.9119 - accuracy: 0.6829 - val_loss: 1.0128 - val_accuracy: 0.6637\n",
            "Epoch 10/20\n",
            "313/313 [==============================] - 19s 60ms/step - loss: 0.8801 - accuracy: 0.6938 - val_loss: 1.0867 - val_accuracy: 0.6387\n",
            "Epoch 11/20\n",
            "313/313 [==============================] - 20s 63ms/step - loss: 0.8481 - accuracy: 0.7047 - val_loss: 1.0049 - val_accuracy: 0.6635\n",
            "Epoch 12/20\n",
            "313/313 [==============================] - 22s 70ms/step - loss: 0.8244 - accuracy: 0.7139 - val_loss: 1.0318 - val_accuracy: 0.6627\n",
            "Epoch 13/20\n",
            "313/313 [==============================] - 22s 70ms/step - loss: 0.7873 - accuracy: 0.7279 - val_loss: 0.9770 - val_accuracy: 0.6769\n",
            "Epoch 14/20\n",
            "313/313 [==============================] - 21s 68ms/step - loss: 0.7647 - accuracy: 0.7321 - val_loss: 1.0110 - val_accuracy: 0.6669\n",
            "Epoch 15/20\n",
            "313/313 [==============================] - 22s 72ms/step - loss: 0.7408 - accuracy: 0.7399 - val_loss: 1.0981 - val_accuracy: 0.6446\n",
            "Epoch 16/20\n",
            "313/313 [==============================] - 22s 69ms/step - loss: 0.7182 - accuracy: 0.7503 - val_loss: 0.9609 - val_accuracy: 0.6860\n",
            "Epoch 17/20\n",
            "313/313 [==============================] - 21s 68ms/step - loss: 0.7012 - accuracy: 0.7574 - val_loss: 1.0195 - val_accuracy: 0.6797\n",
            "Epoch 18/20\n",
            "313/313 [==============================] - 20s 65ms/step - loss: 0.6852 - accuracy: 0.7625 - val_loss: 1.0375 - val_accuracy: 0.6790\n",
            "Epoch 19/20\n",
            "313/313 [==============================] - 20s 65ms/step - loss: 0.6635 - accuracy: 0.7720 - val_loss: 1.0166 - val_accuracy: 0.6774\n",
            "Epoch 20/20\n",
            "313/313 [==============================] - 23s 72ms/step - loss: 0.6449 - accuracy: 0.7766 - val_loss: 1.0783 - val_accuracy: 0.6795\n",
            "79/79 [==============================] - 1s 12ms/step - loss: 1.0917 - accuracy: 0.6671\n",
            "\n",
            "Test score/loss: 1.0916533470153809\n",
            "Test accuracy: 0.6671000123023987\n"
          ]
        }
      ],
      "source": [
        "# 5 runs\n",
        "result_df = pd.DataFrame(columns=['accuracy', 'loss'])\n",
        "for i in range(5):\n",
        "    print(f'{i} run------------------------')\n",
        "    # network definition\n",
        "    model = Sequential()\n",
        "    model.add(Conv2D(32, (3, 3), padding='same', input_shape=(IMG_ROWS, IMG_COLS, IMG_CHANNELS)))\n",
        "    model.add(Activation('relu'))\n",
        "    model.add(MaxPooling2D(pool_size=(2, 2)))\n",
        "    model.add(Dropout(0.25))\n",
        "    \n",
        "    model.add(Flatten())\n",
        "    model.add(Dense(512))\n",
        "    model.add(Activation('relu'))\n",
        "    model.add(Dropout(0.5))\n",
        "\n",
        "    model.add(Dense(N_CLASSES))\n",
        "    model.add(Activation('softmax'))\n",
        "\n",
        "    print('CNN network definition.')\n",
        "\n",
        "    model.compile(loss='categorical_crossentropy', optimizer=OPTIM, metrics=['accuracy'])\n",
        "    # training/fitting of the DNN model\n",
        "    history = model.fit(input_X_train, output_Y_train, batch_size=BATCH_SIZE, epochs=N_EPOCH, validation_split=VALIDATION_SPLIT,  verbose=VERBOSE)\n",
        "\n",
        "    #Testing\n",
        "    score = model.evaluate(input_X_test, output_Y_test, batch_size=BATCH_SIZE, verbose=VERBOSE)\n",
        "    print(\"\\nTest score/loss:\", score[0])\n",
        "    print('Test accuracy:', score[1])\n",
        "    result_df.loc[i, 'accuracy'] = score[1]\n",
        "    result_df.loc[i, 'loss'] = score[0]"
      ]
    },
    {
      "cell_type": "code",
      "execution_count": 20,
      "metadata": {},
      "outputs": [
        {
          "data": {
            "text/html": [
              "<div>\n",
              "<style scoped>\n",
              "    .dataframe tbody tr th:only-of-type {\n",
              "        vertical-align: middle;\n",
              "    }\n",
              "\n",
              "    .dataframe tbody tr th {\n",
              "        vertical-align: top;\n",
              "    }\n",
              "\n",
              "    .dataframe thead th {\n",
              "        text-align: right;\n",
              "    }\n",
              "</style>\n",
              "<table border=\"1\" class=\"dataframe\">\n",
              "  <thead>\n",
              "    <tr style=\"text-align: right;\">\n",
              "      <th></th>\n",
              "      <th>accuracy</th>\n",
              "      <th>loss</th>\n",
              "    </tr>\n",
              "  </thead>\n",
              "  <tbody>\n",
              "    <tr>\n",
              "      <th>0</th>\n",
              "      <td>0.6816</td>\n",
              "      <td>1.047617</td>\n",
              "    </tr>\n",
              "    <tr>\n",
              "      <th>1</th>\n",
              "      <td>0.6657</td>\n",
              "      <td>1.037859</td>\n",
              "    </tr>\n",
              "    <tr>\n",
              "      <th>2</th>\n",
              "      <td>0.675</td>\n",
              "      <td>1.041924</td>\n",
              "    </tr>\n",
              "    <tr>\n",
              "      <th>3</th>\n",
              "      <td>0.6724</td>\n",
              "      <td>1.09073</td>\n",
              "    </tr>\n",
              "    <tr>\n",
              "      <th>4</th>\n",
              "      <td>0.6671</td>\n",
              "      <td>1.091653</td>\n",
              "    </tr>\n",
              "  </tbody>\n",
              "</table>\n",
              "</div>"
            ],
            "text/plain": [
              "  accuracy      loss\n",
              "0   0.6816  1.047617\n",
              "1   0.6657  1.037859\n",
              "2    0.675  1.041924\n",
              "3   0.6724   1.09073\n",
              "4   0.6671  1.091653"
            ]
          },
          "execution_count": 20,
          "metadata": {},
          "output_type": "execute_result"
        }
      ],
      "source": [
        "result_df"
      ]
    },
    {
      "cell_type": "code",
      "execution_count": 21,
      "metadata": {},
      "outputs": [
        {
          "data": {
            "text/plain": [
              "accuracy    0.672360\n",
              "loss        1.061957\n",
              "dtype: float64"
            ]
          },
          "execution_count": 21,
          "metadata": {},
          "output_type": "execute_result"
        }
      ],
      "source": [
        "result_df[['accuracy', 'loss']].mean()"
      ]
    },
    {
      "cell_type": "code",
      "execution_count": 27,
      "metadata": {},
      "outputs": [
        {
          "name": "stdout",
          "output_type": "stream",
          "text": [
            "79/79 [==============================] - 1s 11ms/step - loss: 1.0917 - accuracy: 0.6671\n",
            "\n",
            "Test score/loss: 1.0916533470153809\n",
            "Test accuracy: 0.6671000123023987\n",
            "dict_keys(['loss', 'accuracy', 'val_loss', 'val_accuracy'])\n"
          ]
        },
        {
          "data": {
            "image/png": "[encoded data removed]",
            "text/plain": [
              "<Figure size 800x300 with 2 Axes>"
            ]
          },
          "metadata": {},
          "output_type": "display_data"
        }
      ],
      "source": [
        "#Testing\n",
        "score = model.evaluate(input_X_test, output_Y_test, batch_size=BATCH_SIZE, verbose=VERBOSE)\n",
        "print(\"\\nTest score/loss:\", score[0])\n",
        "print('Test accuracy:', score[1])\n",
        "\n",
        "# list all data in history\n",
        "print(history.history.keys())\n",
        "\n",
        "# summarize history for accuracy\n",
        "#plt.plot(mo)\n",
        "plt.figure(figsize=(8,3))\n",
        "plt.subplot(1,2,1)\n",
        "plt.plot(history.history['accuracy'])\n",
        "plt.plot(history.history['val_accuracy'])\n",
        "plt.title('model accuracy')\n",
        "plt.ylabel('accuracy')\n",
        "plt.xlabel('epoch')\n",
        "plt.legend(['train', 'val'], loc='upper left')\n",
        "\n",
        "# summarize history for loss\n",
        "plt.subplot(1,2,2)\n",
        "plt.plot(history.history['loss'])\n",
        "plt.plot(history.history['val_loss'])\n",
        "plt.title('model loss')\n",
        "plt.ylabel('loss')\n",
        "plt.xlabel('epoch')\n",
        "plt.legend(['train', 'val'], loc='upper left')\n",
        "plt.show()\n"
      ]
    },
    {
      "attachments": {},
      "cell_type": "markdown",
      "metadata": {},
      "source": [
        "## Model 2: Deeper model"
      ]
    },
    {
      "cell_type": "code",
      "execution_count": 35,
      "metadata": {},
      "outputs": [
        {
          "name": "stdout",
          "output_type": "stream",
          "text": [
            "0 run------------------------\n",
            "CNN network definition.\n",
            "Epoch 1/20\n",
            "313/313 [==============================] - 31s 95ms/step - loss: 1.9853 - accuracy: 0.2659 - val_loss: 1.7646 - val_accuracy: 0.3590\n",
            "Epoch 2/20\n",
            "313/313 [==============================] - 27s 87ms/step - loss: 1.6270 - accuracy: 0.4027 - val_loss: 1.4378 - val_accuracy: 0.4808\n",
            "Epoch 3/20\n",
            "313/313 [==============================] - 25s 79ms/step - loss: 1.4690 - accuracy: 0.4640 - val_loss: 1.5145 - val_accuracy: 0.4685\n",
            "Epoch 4/20\n",
            "313/313 [==============================] - 26s 84ms/step - loss: 1.3469 - accuracy: 0.5128 - val_loss: 1.3551 - val_accuracy: 0.5167\n",
            "Epoch 5/20\n",
            "313/313 [==============================] - 26s 82ms/step - loss: 1.2530 - accuracy: 0.5516 - val_loss: 1.4691 - val_accuracy: 0.5077\n",
            "Epoch 6/20\n",
            "313/313 [==============================] - 26s 83ms/step - loss: 1.1881 - accuracy: 0.5784 - val_loss: 1.0448 - val_accuracy: 0.6347\n",
            "Epoch 7/20\n",
            "313/313 [==============================] - 28s 90ms/step - loss: 1.1275 - accuracy: 0.6028 - val_loss: 1.0207 - val_accuracy: 0.6451\n",
            "Epoch 8/20\n",
            "313/313 [==============================] - 24s 78ms/step - loss: 1.0762 - accuracy: 0.6224 - val_loss: 1.0487 - val_accuracy: 0.6312\n",
            "Epoch 9/20\n",
            "313/313 [==============================] - 29s 94ms/step - loss: 1.0383 - accuracy: 0.6352 - val_loss: 0.9131 - val_accuracy: 0.6786\n",
            "Epoch 10/20\n",
            "313/313 [==============================] - 29s 92ms/step - loss: 1.0080 - accuracy: 0.6461 - val_loss: 0.8845 - val_accuracy: 0.6909\n",
            "Epoch 11/20\n",
            "313/313 [==============================] - 31s 99ms/step - loss: 0.9840 - accuracy: 0.6550 - val_loss: 0.9414 - val_accuracy: 0.6769\n",
            "Epoch 12/20\n",
            "313/313 [==============================] - 30s 95ms/step - loss: 0.9557 - accuracy: 0.6655 - val_loss: 0.8513 - val_accuracy: 0.7014\n",
            "Epoch 13/20\n",
            "313/313 [==============================] - 29s 94ms/step - loss: 0.9396 - accuracy: 0.6745 - val_loss: 0.8722 - val_accuracy: 0.6921\n",
            "Epoch 14/20\n",
            "313/313 [==============================] - 28s 90ms/step - loss: 0.9287 - accuracy: 0.6784 - val_loss: 0.8521 - val_accuracy: 0.7072\n",
            "Epoch 15/20\n",
            "313/313 [==============================] - 27s 86ms/step - loss: 0.9081 - accuracy: 0.6828 - val_loss: 0.8867 - val_accuracy: 0.6964\n",
            "Epoch 16/20\n",
            "313/313 [==============================] - 32s 102ms/step - loss: 0.8994 - accuracy: 0.6899 - val_loss: 0.8741 - val_accuracy: 0.6958\n",
            "Epoch 17/20\n",
            "313/313 [==============================] - 31s 99ms/step - loss: 0.8906 - accuracy: 0.6933 - val_loss: 0.7978 - val_accuracy: 0.7235\n",
            "Epoch 18/20\n",
            "313/313 [==============================] - 31s 98ms/step - loss: 0.8843 - accuracy: 0.6956 - val_loss: 0.8545 - val_accuracy: 0.7067\n",
            "Epoch 19/20\n",
            "313/313 [==============================] - 30s 97ms/step - loss: 0.8721 - accuracy: 0.7012 - val_loss: 0.7417 - val_accuracy: 0.7444\n",
            "Epoch 20/20\n",
            "313/313 [==============================] - 31s 99ms/step - loss: 0.8647 - accuracy: 0.7053 - val_loss: 0.8276 - val_accuracy: 0.7249\n",
            "79/79 [==============================] - 2s 22ms/step - loss: 0.8407 - accuracy: 0.7216\n",
            "\n",
            "Test score/loss: 0.8406581878662109\n",
            "Test accuracy: 0.7215999960899353\n",
            "1 run------------------------\n",
            "CNN network definition.\n",
            "Epoch 1/20\n"
          ]
        },
        {
          "name": "stderr",
          "output_type": "stream",
          "text": [
            "Exception ignored in: <function UniquePtr.__del__ at 0x0000024B51A0EB80>\n",
            "Traceback (most recent call last):\n",
            "  File \"c:\\Users\\1192k\\anaconda3\\envs\\sml1\\lib\\site-packages\\tensorflow\\python\\framework\\c_api_util.py\", line 71, in __del__\n",
            "    obj = self._obj\n",
            "AttributeError: _obj\n"
          ]
        },
        {
          "name": "stdout",
          "output_type": "stream",
          "text": [
            "313/313 [==============================] - 34s 103ms/step - loss: 2.0322 - accuracy: 0.2506 - val_loss: 1.7834 - val_accuracy: 0.3484\n",
            "Epoch 2/20\n",
            "313/313 [==============================] - 29s 94ms/step - loss: 1.6662 - accuracy: 0.3902 - val_loss: 1.4445 - val_accuracy: 0.4642\n",
            "Epoch 3/20\n",
            "313/313 [==============================] - 30s 95ms/step - loss: 1.4986 - accuracy: 0.4536 - val_loss: 1.4717 - val_accuracy: 0.4597\n",
            "Epoch 4/20\n",
            "313/313 [==============================] - 27s 86ms/step - loss: 1.3864 - accuracy: 0.4990 - val_loss: 1.3315 - val_accuracy: 0.5093\n",
            "Epoch 5/20\n",
            "313/313 [==============================] - 25s 80ms/step - loss: 1.2942 - accuracy: 0.5376 - val_loss: 1.1481 - val_accuracy: 0.5842\n",
            "Epoch 6/20\n",
            "313/313 [==============================] - 27s 88ms/step - loss: 1.2247 - accuracy: 0.5646 - val_loss: 1.1222 - val_accuracy: 0.6030\n",
            "Epoch 7/20\n",
            "313/313 [==============================] - 30s 96ms/step - loss: 1.1633 - accuracy: 0.5862 - val_loss: 1.0068 - val_accuracy: 0.6365\n",
            "Epoch 8/20\n",
            "313/313 [==============================] - 26s 82ms/step - loss: 1.1119 - accuracy: 0.6090 - val_loss: 0.9895 - val_accuracy: 0.6500\n",
            "Epoch 9/20\n",
            "313/313 [==============================] - 28s 89ms/step - loss: 1.0702 - accuracy: 0.6250 - val_loss: 0.9876 - val_accuracy: 0.6526\n",
            "Epoch 10/20\n",
            "313/313 [==============================] - 29s 92ms/step - loss: 1.0356 - accuracy: 0.6356 - val_loss: 0.9254 - val_accuracy: 0.6805\n",
            "Epoch 11/20\n",
            "313/313 [==============================] - 29s 93ms/step - loss: 1.0023 - accuracy: 0.6490 - val_loss: 0.8845 - val_accuracy: 0.6933\n",
            "Epoch 12/20\n",
            "313/313 [==============================] - 28s 90ms/step - loss: 0.9832 - accuracy: 0.6593 - val_loss: 0.8776 - val_accuracy: 0.6884\n",
            "Epoch 13/20\n",
            "313/313 [==============================] - 30s 95ms/step - loss: 0.9577 - accuracy: 0.6678 - val_loss: 0.9142 - val_accuracy: 0.6865\n",
            "Epoch 14/20\n",
            "313/313 [==============================] - 29s 94ms/step - loss: 0.9364 - accuracy: 0.6751 - val_loss: 0.8543 - val_accuracy: 0.6991\n",
            "Epoch 15/20\n",
            "313/313 [==============================] - 28s 89ms/step - loss: 0.9252 - accuracy: 0.6804 - val_loss: 0.8687 - val_accuracy: 0.7035\n",
            "Epoch 16/20\n",
            "313/313 [==============================] - 31s 98ms/step - loss: 0.9139 - accuracy: 0.6854 - val_loss: 0.8720 - val_accuracy: 0.6990\n",
            "Epoch 17/20\n",
            "313/313 [==============================] - 27s 87ms/step - loss: 0.9048 - accuracy: 0.6884 - val_loss: 0.8343 - val_accuracy: 0.7111\n",
            "Epoch 18/20\n",
            "313/313 [==============================] - 28s 89ms/step - loss: 0.8954 - accuracy: 0.6892 - val_loss: 0.7860 - val_accuracy: 0.7212\n",
            "Epoch 19/20\n",
            "313/313 [==============================] - 30s 96ms/step - loss: 0.8848 - accuracy: 0.6945 - val_loss: 0.7832 - val_accuracy: 0.7243\n",
            "Epoch 20/20\n",
            "313/313 [==============================] - 31s 98ms/step - loss: 0.8752 - accuracy: 0.6992 - val_loss: 0.8100 - val_accuracy: 0.7169\n",
            "79/79 [==============================] - 2s 19ms/step - loss: 0.8213 - accuracy: 0.7149\n",
            "\n",
            "Test score/loss: 0.8212836980819702\n",
            "Test accuracy: 0.714900016784668\n",
            "2 run------------------------\n",
            "CNN network definition.\n",
            "Epoch 1/20\n",
            "313/313 [==============================] - 30s 91ms/step - loss: 1.9922 - accuracy: 0.2603 - val_loss: 1.7147 - val_accuracy: 0.3734\n",
            "Epoch 2/20\n",
            "313/313 [==============================] - 25s 80ms/step - loss: 1.6257 - accuracy: 0.3991 - val_loss: 1.3893 - val_accuracy: 0.4801\n",
            "Epoch 3/20\n",
            "313/313 [==============================] - 30s 96ms/step - loss: 1.4389 - accuracy: 0.4762 - val_loss: 1.3417 - val_accuracy: 0.5142\n",
            "Epoch 4/20\n",
            "313/313 [==============================] - 31s 98ms/step - loss: 1.3173 - accuracy: 0.5307 - val_loss: 1.2137 - val_accuracy: 0.5590\n",
            "Epoch 5/20\n",
            "313/313 [==============================] - 29s 92ms/step - loss: 1.2268 - accuracy: 0.5620 - val_loss: 1.2030 - val_accuracy: 0.5702\n",
            "Epoch 6/20\n",
            "313/313 [==============================] - 30s 96ms/step - loss: 1.1628 - accuracy: 0.5860 - val_loss: 1.0523 - val_accuracy: 0.6282\n",
            "Epoch 7/20\n",
            "313/313 [==============================] - 31s 100ms/step - loss: 1.1158 - accuracy: 0.6038 - val_loss: 1.0356 - val_accuracy: 0.6296\n",
            "Epoch 8/20\n",
            "313/313 [==============================] - 31s 100ms/step - loss: 1.0671 - accuracy: 0.6228 - val_loss: 0.9676 - val_accuracy: 0.6585\n",
            "Epoch 9/20\n",
            "313/313 [==============================] - 28s 90ms/step - loss: 1.0316 - accuracy: 0.6377 - val_loss: 0.8892 - val_accuracy: 0.6869\n",
            "Epoch 10/20\n",
            "313/313 [==============================] - 27s 85ms/step - loss: 1.0033 - accuracy: 0.6507 - val_loss: 0.9386 - val_accuracy: 0.6671\n",
            "Epoch 11/20\n",
            "313/313 [==============================] - 25s 81ms/step - loss: 0.9759 - accuracy: 0.6605 - val_loss: 0.8884 - val_accuracy: 0.6870\n",
            "Epoch 12/20\n",
            "313/313 [==============================] - 25s 80ms/step - loss: 0.9610 - accuracy: 0.6668 - val_loss: 0.8850 - val_accuracy: 0.6924\n",
            "Epoch 13/20\n",
            "313/313 [==============================] - 26s 82ms/step - loss: 0.9341 - accuracy: 0.6746 - val_loss: 0.8246 - val_accuracy: 0.7142\n",
            "Epoch 14/20\n",
            "313/313 [==============================] - 26s 84ms/step - loss: 0.9231 - accuracy: 0.6834 - val_loss: 0.8775 - val_accuracy: 0.7002\n",
            "Epoch 15/20\n",
            "313/313 [==============================] - 27s 86ms/step - loss: 0.8972 - accuracy: 0.6882 - val_loss: 0.8560 - val_accuracy: 0.7086\n",
            "Epoch 16/20\n",
            "313/313 [==============================] - 31s 99ms/step - loss: 0.8969 - accuracy: 0.6937 - val_loss: 0.8658 - val_accuracy: 0.6993\n",
            "Epoch 17/20\n",
            "313/313 [==============================] - 28s 88ms/step - loss: 0.8915 - accuracy: 0.6938 - val_loss: 0.8279 - val_accuracy: 0.7149\n",
            "Epoch 18/20\n",
            "313/313 [==============================] - 25s 79ms/step - loss: 0.8768 - accuracy: 0.6984 - val_loss: 0.8419 - val_accuracy: 0.7118\n",
            "Epoch 19/20\n",
            "313/313 [==============================] - 29s 93ms/step - loss: 0.8698 - accuracy: 0.7012 - val_loss: 0.8938 - val_accuracy: 0.7066\n",
            "Epoch 20/20\n",
            "313/313 [==============================] - 29s 92ms/step - loss: 0.8641 - accuracy: 0.7080 - val_loss: 0.8199 - val_accuracy: 0.7215\n",
            "79/79 [==============================] - 2s 20ms/step - loss: 0.8314 - accuracy: 0.7159\n",
            "\n",
            "Test score/loss: 0.8313692212104797\n",
            "Test accuracy: 0.7159000039100647\n",
            "3 run------------------------\n",
            "CNN network definition.\n",
            "Epoch 1/20\n",
            "313/313 [==============================] - 32s 99ms/step - loss: 1.9900 - accuracy: 0.2645 - val_loss: 1.6315 - val_accuracy: 0.4109\n",
            "Epoch 2/20\n",
            "313/313 [==============================] - 31s 100ms/step - loss: 1.6272 - accuracy: 0.4027 - val_loss: 1.4309 - val_accuracy: 0.4776\n",
            "Epoch 3/20\n",
            "313/313 [==============================] - 31s 98ms/step - loss: 1.4683 - accuracy: 0.4688 - val_loss: 1.3018 - val_accuracy: 0.5333\n",
            "Epoch 4/20\n",
            "313/313 [==============================] - 33s 105ms/step - loss: 1.3374 - accuracy: 0.5196 - val_loss: 1.2478 - val_accuracy: 0.5479\n",
            "Epoch 5/20\n",
            "313/313 [==============================] - 32s 101ms/step - loss: 1.2487 - accuracy: 0.5541 - val_loss: 1.1095 - val_accuracy: 0.6001\n",
            "Epoch 6/20\n",
            "313/313 [==============================] - 30s 95ms/step - loss: 1.1755 - accuracy: 0.5813 - val_loss: 1.0707 - val_accuracy: 0.6288\n",
            "Epoch 7/20\n",
            "313/313 [==============================] - 33s 105ms/step - loss: 1.1255 - accuracy: 0.6028 - val_loss: 1.1889 - val_accuracy: 0.5718\n",
            "Epoch 8/20\n",
            "313/313 [==============================] - 27s 86ms/step - loss: 1.0799 - accuracy: 0.6191 - val_loss: 0.9122 - val_accuracy: 0.6796\n",
            "Epoch 9/20\n",
            "313/313 [==============================] - 104s 332ms/step - loss: 1.0439 - accuracy: 0.6315 - val_loss: 1.0304 - val_accuracy: 0.6373\n",
            "Epoch 10/20\n",
            "313/313 [==============================] - 39s 124ms/step - loss: 1.0183 - accuracy: 0.6435 - val_loss: 0.9543 - val_accuracy: 0.6600\n",
            "Epoch 11/20\n",
            "313/313 [==============================] - 38s 121ms/step - loss: 0.9906 - accuracy: 0.6534 - val_loss: 1.1168 - val_accuracy: 0.6224\n",
            "Epoch 12/20\n",
            "313/313 [==============================] - 36s 114ms/step - loss: 0.9671 - accuracy: 0.6625 - val_loss: 1.2298 - val_accuracy: 0.5913\n",
            "Epoch 13/20\n",
            "313/313 [==============================] - 31s 100ms/step - loss: 0.9532 - accuracy: 0.6680 - val_loss: 0.8761 - val_accuracy: 0.6965\n",
            "Epoch 14/20\n",
            "313/313 [==============================] - 35s 112ms/step - loss: 0.9353 - accuracy: 0.6745 - val_loss: 0.8524 - val_accuracy: 0.7058\n",
            "Epoch 15/20\n",
            "313/313 [==============================] - 32s 102ms/step - loss: 0.9175 - accuracy: 0.6823 - val_loss: 0.8123 - val_accuracy: 0.7187\n",
            "Epoch 16/20\n",
            "313/313 [==============================] - 31s 100ms/step - loss: 0.9005 - accuracy: 0.6882 - val_loss: 0.8418 - val_accuracy: 0.7127\n",
            "Epoch 17/20\n",
            "313/313 [==============================] - 36s 116ms/step - loss: 0.8906 - accuracy: 0.6910 - val_loss: 0.8233 - val_accuracy: 0.7161\n",
            "Epoch 18/20\n",
            "313/313 [==============================] - 44s 141ms/step - loss: 0.8880 - accuracy: 0.6952 - val_loss: 0.7899 - val_accuracy: 0.7331\n",
            "Epoch 19/20\n",
            "313/313 [==============================] - 35s 111ms/step - loss: 0.8781 - accuracy: 0.6994 - val_loss: 0.8123 - val_accuracy: 0.7185\n",
            "Epoch 20/20\n",
            "313/313 [==============================] - 35s 111ms/step - loss: 0.8761 - accuracy: 0.7020 - val_loss: 0.7490 - val_accuracy: 0.7395\n",
            "79/79 [==============================] - 2s 29ms/step - loss: 0.7825 - accuracy: 0.7328\n",
            "\n",
            "Test score/loss: 0.7825190424919128\n",
            "Test accuracy: 0.7328000068664551\n",
            "4 run------------------------\n",
            "CNN network definition.\n",
            "Epoch 1/20\n",
            "313/313 [==============================] - 37s 105ms/step - loss: 1.9804 - accuracy: 0.2680 - val_loss: 1.7211 - val_accuracy: 0.3550\n",
            "Epoch 2/20\n",
            "313/313 [==============================] - 31s 99ms/step - loss: 1.6304 - accuracy: 0.4044 - val_loss: 1.6084 - val_accuracy: 0.4150\n",
            "Epoch 3/20\n",
            "313/313 [==============================] - 38s 121ms/step - loss: 1.4482 - accuracy: 0.4720 - val_loss: 1.2625 - val_accuracy: 0.5440\n",
            "Epoch 4/20\n",
            "313/313 [==============================] - 35s 113ms/step - loss: 1.3310 - accuracy: 0.5206 - val_loss: 1.2048 - val_accuracy: 0.5630\n",
            "Epoch 5/20\n",
            "313/313 [==============================] - 35s 113ms/step - loss: 1.2469 - accuracy: 0.5555 - val_loss: 1.1063 - val_accuracy: 0.6123\n",
            "Epoch 6/20\n",
            "313/313 [==============================] - 35s 112ms/step - loss: 1.1683 - accuracy: 0.5846 - val_loss: 1.1012 - val_accuracy: 0.6091\n",
            "Epoch 7/20\n",
            "313/313 [==============================] - 32s 102ms/step - loss: 1.1224 - accuracy: 0.6027 - val_loss: 1.1718 - val_accuracy: 0.5908\n",
            "Epoch 8/20\n",
            "313/313 [==============================] - 27s 86ms/step - loss: 1.0783 - accuracy: 0.6241 - val_loss: 0.9820 - val_accuracy: 0.6566\n",
            "Epoch 9/20\n",
            "313/313 [==============================] - 26s 82ms/step - loss: 1.0340 - accuracy: 0.6348 - val_loss: 0.9930 - val_accuracy: 0.6538\n",
            "Epoch 10/20\n",
            "313/313 [==============================] - 26s 83ms/step - loss: 1.0057 - accuracy: 0.6483 - val_loss: 0.8787 - val_accuracy: 0.6950\n",
            "Epoch 11/20\n",
            "313/313 [==============================] - 26s 82ms/step - loss: 0.9862 - accuracy: 0.6595 - val_loss: 0.9099 - val_accuracy: 0.6832\n",
            "Epoch 12/20\n",
            "313/313 [==============================] - 27s 85ms/step - loss: 0.9608 - accuracy: 0.6691 - val_loss: 0.8516 - val_accuracy: 0.7074\n",
            "Epoch 13/20\n",
            "313/313 [==============================] - 25s 81ms/step - loss: 0.9365 - accuracy: 0.6759 - val_loss: 0.8543 - val_accuracy: 0.7054\n",
            "Epoch 14/20\n",
            "313/313 [==============================] - 25s 81ms/step - loss: 0.9240 - accuracy: 0.6797 - val_loss: 0.8269 - val_accuracy: 0.7196\n",
            "Epoch 15/20\n",
            "313/313 [==============================] - 27s 87ms/step - loss: 0.9010 - accuracy: 0.6897 - val_loss: 0.8319 - val_accuracy: 0.7166\n",
            "Epoch 16/20\n",
            "313/313 [==============================] - 26s 82ms/step - loss: 0.8879 - accuracy: 0.6943 - val_loss: 1.0093 - val_accuracy: 0.6526\n",
            "Epoch 17/20\n",
            "313/313 [==============================] - 25s 81ms/step - loss: 0.8867 - accuracy: 0.6959 - val_loss: 0.8217 - val_accuracy: 0.7212\n",
            "Epoch 18/20\n",
            "313/313 [==============================] - 26s 82ms/step - loss: 0.8639 - accuracy: 0.7060 - val_loss: 0.8155 - val_accuracy: 0.7234\n",
            "Epoch 19/20\n",
            "313/313 [==============================] - 28s 88ms/step - loss: 0.8629 - accuracy: 0.7060 - val_loss: 0.8040 - val_accuracy: 0.7248\n",
            "Epoch 20/20\n",
            "313/313 [==============================] - 25s 79ms/step - loss: 0.8552 - accuracy: 0.7069 - val_loss: 0.7720 - val_accuracy: 0.7318\n",
            "79/79 [==============================] - 1s 18ms/step - loss: 0.7876 - accuracy: 0.7293\n",
            "\n",
            "Test score/loss: 0.787563145160675\n",
            "Test accuracy: 0.7293000221252441\n"
          ]
        }
      ],
      "source": [
        "# 5 runs\n",
        "result_df = pd.DataFrame(columns=['accuracy', 'loss'])\n",
        "for i in range(5):\n",
        "    print(f'{i} run------------------------')\n",
        "    # network definition\n",
        "\n",
        "    deeper_model = Sequential()\n",
        "    deeper_model.add(Conv2D(32, (3, 3), padding='same', input_shape=(IMG_ROWS, IMG_COLS, IMG_CHANNELS)))\n",
        "    deeper_model.add(Activation('relu'))\n",
        "    deeper_model.add(Conv2D(32, (3, 3), padding='same', input_shape=(IMG_ROWS, IMG_COLS, IMG_CHANNELS)))\n",
        "    deeper_model.add(Activation('relu'))\n",
        "    deeper_model.add(MaxPooling2D(pool_size=(2, 2)))\n",
        "    deeper_model.add(Dropout(0.25))\n",
        "\n",
        "    deeper_model.add(Conv2D(32, (3, 3), padding='same', input_shape=(IMG_ROWS, IMG_COLS, IMG_CHANNELS)))\n",
        "    deeper_model.add(Activation('relu'))\n",
        "    deeper_model.add(Conv2D(32, (3, 3), padding='same', input_shape=(IMG_ROWS, IMG_COLS, IMG_CHANNELS)))\n",
        "    deeper_model.add(Activation('relu'))\n",
        "    deeper_model.add(MaxPooling2D(pool_size=(2, 2)))\n",
        "    deeper_model.add(Dropout(0.25))\n",
        "\n",
        "    deeper_model.add(Conv2D(32, (3, 3), padding='same', input_shape=(IMG_ROWS, IMG_COLS, IMG_CHANNELS)))\n",
        "    deeper_model.add(Activation('relu'))\n",
        "    deeper_model.add(Conv2D(32, (3, 3), padding='same', input_shape=(IMG_ROWS, IMG_COLS, IMG_CHANNELS)))\n",
        "    deeper_model.add(Activation('relu'))\n",
        "    deeper_model.add(MaxPooling2D(pool_size=(2, 2)))\n",
        "    deeper_model.add(Dropout(0.25))\n",
        "    \n",
        "    deeper_model.add(Flatten())\n",
        "    deeper_model.add(Dense(512))\n",
        "    deeper_model.add(Activation('relu'))\n",
        "    deeper_model.add(Dropout(0.5))\n",
        "\n",
        "    deeper_model.add(Flatten())\n",
        "    deeper_model.add(Dense(512))\n",
        "    deeper_model.add(Activation('relu'))\n",
        "    deeper_model.add(Dropout(0.5))\n",
        "\n",
        "    deeper_model.add(Dense(N_CLASSES))\n",
        "    deeper_model.add(Activation('softmax'))\n",
        "\n",
        "    print('CNN network definition.')\n",
        "\n",
        "\n",
        "    deeper_model.compile(loss='categorical_crossentropy', optimizer=OPTIM, metrics=['accuracy'])\n",
        "    # training/fitting of the DNN model\n",
        "    history = deeper_model.fit(input_X_train, output_Y_train, batch_size=BATCH_SIZE, epochs=N_EPOCH, validation_split=VALIDATION_SPLIT,  verbose=VERBOSE)\n",
        "\n",
        "    #Testing\n",
        "    score = deeper_model.evaluate(input_X_test, output_Y_test, batch_size=BATCH_SIZE, verbose=VERBOSE)\n",
        "    print(\"\\nTest score/loss:\", score[0])\n",
        "    print('Test accuracy:', score[1])\n",
        "    result_df.loc[i, 'accuracy'] = score[1]\n",
        "    result_df.loc[i, 'loss'] = score[0]"
      ]
    },
    {
      "cell_type": "code",
      "execution_count": 36,
      "metadata": {},
      "outputs": [
        {
          "data": {
            "text/html": [
              "<div>\n",
              "<style scoped>\n",
              "    .dataframe tbody tr th:only-of-type {\n",
              "        vertical-align: middle;\n",
              "    }\n",
              "\n",
              "    .dataframe tbody tr th {\n",
              "        vertical-align: top;\n",
              "    }\n",
              "\n",
              "    .dataframe thead th {\n",
              "        text-align: right;\n",
              "    }\n",
              "</style>\n",
              "<table border=\"1\" class=\"dataframe\">\n",
              "  <thead>\n",
              "    <tr style=\"text-align: right;\">\n",
              "      <th></th>\n",
              "      <th>accuracy</th>\n",
              "      <th>loss</th>\n",
              "    </tr>\n",
              "  </thead>\n",
              "  <tbody>\n",
              "    <tr>\n",
              "      <th>0</th>\n",
              "      <td>0.7216</td>\n",
              "      <td>0.840658</td>\n",
              "    </tr>\n",
              "    <tr>\n",
              "      <th>1</th>\n",
              "      <td>0.7149</td>\n",
              "      <td>0.821284</td>\n",
              "    </tr>\n",
              "    <tr>\n",
              "      <th>2</th>\n",
              "      <td>0.7159</td>\n",
              "      <td>0.831369</td>\n",
              "    </tr>\n",
              "    <tr>\n",
              "      <th>3</th>\n",
              "      <td>0.7328</td>\n",
              "      <td>0.782519</td>\n",
              "    </tr>\n",
              "    <tr>\n",
              "      <th>4</th>\n",
              "      <td>0.7293</td>\n",
              "      <td>0.787563</td>\n",
              "    </tr>\n",
              "  </tbody>\n",
              "</table>\n",
              "</div>"
            ],
            "text/plain": [
              "  accuracy      loss\n",
              "0   0.7216  0.840658\n",
              "1   0.7149  0.821284\n",
              "2   0.7159  0.831369\n",
              "3   0.7328  0.782519\n",
              "4   0.7293  0.787563"
            ]
          },
          "execution_count": 36,
          "metadata": {},
          "output_type": "execute_result"
        }
      ],
      "source": [
        "result_df"
      ]
    },
    {
      "cell_type": "code",
      "execution_count": 37,
      "metadata": {},
      "outputs": [
        {
          "data": {
            "text/plain": [
              "accuracy    0.722900\n",
              "loss        0.812679\n",
              "dtype: float64"
            ]
          },
          "execution_count": 37,
          "metadata": {},
          "output_type": "execute_result"
        }
      ],
      "source": [
        "result_df[['accuracy', 'loss']].mean()"
      ]
    },
    {
      "cell_type": "code",
      "execution_count": 38,
      "metadata": {},
      "outputs": [
        {
          "name": "stdout",
          "output_type": "stream",
          "text": [
            "79/79 [==============================] - 1s 18ms/step - loss: 0.7876 - accuracy: 0.7293\n",
            "\n",
            "Test score/loss: 0.787563145160675\n",
            "Test accuracy: 0.7293000221252441\n",
            "dict_keys(['loss', 'accuracy', 'val_loss', 'val_accuracy'])\n"
          ]
        },
        {
          "data": {
            "image/png": "[encoded data removed]",
            "text/plain": [
              "<Figure size 800x300 with 2 Axes>"
            ]
          },
          "metadata": {},
          "output_type": "display_data"
        }
      ],
      "source": [
        "#Testing\n",
        "score = deeper_model.evaluate(input_X_test, output_Y_test, batch_size=BATCH_SIZE, verbose=VERBOSE)\n",
        "print(\"\\nTest score/loss:\", score[0])\n",
        "print('Test accuracy:', score[1])\n",
        "\n",
        "# list all data in history\n",
        "print(history.history.keys())\n",
        "\n",
        "# summarize history for accuracy\n",
        "#plt.plot(mo)\n",
        "plt.figure(figsize=(8,3))\n",
        "plt.subplot(1,2,1)\n",
        "plt.plot(history.history['accuracy'])\n",
        "plt.plot(history.history['val_accuracy'])\n",
        "plt.title('model accuracy')\n",
        "plt.ylabel('accuracy')\n",
        "plt.xlabel('epoch')\n",
        "plt.legend(['train', 'val'], loc='upper left')\n",
        "\n",
        "# summarize history for loss\n",
        "plt.subplot(1,2,2)\n",
        "plt.plot(history.history['loss'])\n",
        "plt.plot(history.history['val_loss'])\n",
        "plt.title('model loss')\n",
        "plt.ylabel('loss')\n",
        "plt.xlabel('epoch')\n",
        "plt.legend(['train', 'val'], loc='upper left')\n",
        "plt.show()\n"
      ]
    },
    {
      "attachments": {},
      "cell_type": "markdown",
      "metadata": {},
      "source": [
        "## Model 3: Data Augmentation"
      ]
    },
    {
      "cell_type": "code",
      "execution_count": 132,
      "metadata": {},
      "outputs": [],
      "source": [
        "from tqdm import tqdm"
      ]
    },
    {
      "cell_type": "code",
      "execution_count": 133,
      "metadata": {},
      "outputs": [
        {
          "name": "stdout",
          "output_type": "stream",
          "text": [
            "Augmenting training set images...\n"
          ]
        }
      ],
      "source": [
        "from tensorflow.keras.preprocessing.image import ImageDataGenerator\n",
        "#from keras.datasets import cifar10\n",
        "\n",
        "#load dataset\n",
        "#(input_X_train, output_y_train), (input_X_test, output_y_test) = cifar10.load_data()\n",
        "\n",
        "# augumenting\n",
        "print(\"Augmenting training set images...\")\n",
        "    \n",
        "datagen = ImageDataGenerator(\n",
        "   rotation_range=40,\n",
        "   width_shift_range=0.2,\n",
        "   height_shift_range=0.2,\n",
        "   zoom_range=0.2,\n",
        "   horizontal_flip=True,\n",
        "   fill_mode='nearest',\n",
        "   validation_split=VALIDATION_SPLIT)\n",
        "\n",
        "# rotation_range is a value in degrees (0 - 180) for randomly rotating pictures\n",
        "# width_shift and height_shift are ranges for randomly translating pictures vertically or horizontally\n",
        "# zoom_range is for randomly zooming pictures \n",
        "# horizontal_flip is for randomly flipping the images horizontally\n",
        "# fill_mode fills in new pixels that can appear after a rotation or a shift\n",
        "\n",
        "\n",
        "#fit the dataset\n",
        "datagen.fit(input_X_train)\n"
      ]
    },
    {
      "cell_type": "code",
      "execution_count": 134,
      "metadata": {},
      "outputs": [
        {
          "name": "stdout",
          "output_type": "stream",
          "text": [
            "CNN network definition.\n"
          ]
        }
      ],
      "source": [
        "deeper_model = Sequential()\n",
        "deeper_model.add(Conv2D(32, (3, 3), padding='same', input_shape=(IMG_ROWS, IMG_COLS, IMG_CHANNELS)))\n",
        "deeper_model.add(Activation('relu'))\n",
        "deeper_model.add(Conv2D(32, (3, 3), padding='same', input_shape=(IMG_ROWS, IMG_COLS, IMG_CHANNELS)))\n",
        "deeper_model.add(Activation('relu'))\n",
        "deeper_model.add(MaxPooling2D(pool_size=(2, 2)))\n",
        "deeper_model.add(Dropout(0.25))\n",
        "\n",
        "deeper_model.add(Conv2D(32, (3, 3), padding='same', input_shape=(IMG_ROWS, IMG_COLS, IMG_CHANNELS)))\n",
        "deeper_model.add(Activation('relu'))\n",
        "deeper_model.add(Conv2D(32, (3, 3), padding='same', input_shape=(IMG_ROWS, IMG_COLS, IMG_CHANNELS)))\n",
        "deeper_model.add(Activation('relu'))\n",
        "deeper_model.add(MaxPooling2D(pool_size=(2, 2)))\n",
        "deeper_model.add(Dropout(0.25))\n",
        "\n",
        "deeper_model.add(Conv2D(32, (3, 3), padding='same', input_shape=(IMG_ROWS, IMG_COLS, IMG_CHANNELS)))\n",
        "deeper_model.add(Activation('relu'))\n",
        "deeper_model.add(Conv2D(32, (3, 3), padding='same', input_shape=(IMG_ROWS, IMG_COLS, IMG_CHANNELS)))\n",
        "deeper_model.add(Activation('relu'))\n",
        "deeper_model.add(MaxPooling2D(pool_size=(2, 2)))\n",
        "deeper_model.add(Dropout(0.25))\n",
        "\n",
        "deeper_model.add(Flatten())\n",
        "deeper_model.add(Dense(512))\n",
        "deeper_model.add(Activation('relu'))\n",
        "deeper_model.add(Dropout(0.5))\n",
        "\n",
        "deeper_model.add(Flatten())\n",
        "deeper_model.add(Dense(512))\n",
        "deeper_model.add(Activation('relu'))\n",
        "deeper_model.add(Dropout(0.5))\n",
        "\n",
        "deeper_model.add(Dense(N_CLASSES))\n",
        "deeper_model.add(Activation('softmax'))\n",
        "\n",
        "print('CNN network definition.')\n",
        "\n",
        "\n",
        "deeper_model.compile(loss='categorical_crossentropy', optimizer=OPTIM, metrics=['accuracy'])"
      ]
    },
    {
      "cell_type": "code",
      "execution_count": 135,
      "metadata": {},
      "outputs": [
        {
          "name": "stdout",
          "output_type": "stream",
          "text": [
            "Epoch 1/5\n",
            "  1/390 [..............................] - ETA: 42s - loss: 1.4412 - accuracy: 0.5156"
          ]
        },
        {
          "name": "stderr",
          "output_type": "stream",
          "text": [
            "C:\\Users\\1192k\\AppData\\Local\\Temp\\ipykernel_30880\\2157172187.py:4: UserWarning: `Model.fit_generator` is deprecated and will be removed in a future version. Please use `Model.fit`, which supports generators.\n",
            "  history = model.fit_generator(\n"
          ]
        },
        {
          "name": "stdout",
          "output_type": "stream",
          "text": [
            "313/390 [=======================>......] - ETA: 7s - loss: 1.5122 - accuracy: 0.4721WARNING:tensorflow:Your input ran out of data; interrupting training. Make sure that your dataset or generator can generate at least `steps_per_epoch * epochs` batches (in this case, 1950 batches). You may need to use the repeat() function when building your dataset.\n",
            "390/390 [==============================] - 38s 97ms/step - loss: 1.5122 - accuracy: 0.4721 - val_loss: 1.3594 - val_accuracy: 0.5247\n"
          ]
        }
      ],
      "source": [
        "# https://www.tensorflow.org/api_docs/python/tf/keras/preprocessing/image/ImageDataGenerator\n",
        "\n",
        "# train by fitting the model on batches with real-time data augmentation\n",
        "history = model.fit_generator(\n",
        "    datagen.flow(input_X_train, output_Y_train, batch_size=BATCH_SIZE, subset='training'), \n",
        "    validation_data=datagen.flow(input_X_train, output_Y_train, batch_size=8, subset='validation'),\n",
        "    steps_per_epoch=input_X_train.shape[0]//BATCH_SIZE, epochs=5, verbose=VERBOSE\n",
        ")\n"
      ]
    },
    {
      "cell_type": "code",
      "execution_count": 136,
      "metadata": {},
      "outputs": [],
      "source": [
        "# plotting helper function\n",
        "def plot_history(target_model, test_x, test_y, learning_history):\n",
        "    #Testing\n",
        "    score = target_model.evaluate(test_x, test_y, batch_size=BATCH_SIZE, verbose=VERBOSE)\n",
        "    print(\"\\nTest score/loss:\", score[0])\n",
        "    print('Test accuracy:', score[1])\n",
        "\n",
        "    # list all data in history\n",
        "    print(learning_history.history.keys())\n",
        "\n",
        "    # summarize history for accuracy\n",
        "    #plt.plot(mo)\n",
        "    plt.plot(learning_history.history['accuracy'])\n",
        "    plt.plot(learning_history.history['val_accuracy'])\n",
        "    plt.title('model accuracy')\n",
        "    plt.ylabel('accuracy')\n",
        "    plt.xlabel('epoch')\n",
        "    plt.legend(['train', 'test'], loc='upper left')\n",
        "    plt.show()\n",
        "\n",
        "    # summarize history for loss\n",
        "    plt.plot(learning_history.history['loss'])\n",
        "    plt.plot(learning_history.history['val_loss'])\n",
        "    plt.title('model loss')\n",
        "    plt.ylabel('loss')\n",
        "    plt.xlabel('epoch')\n",
        "    plt.legend(['train', 'test'], loc='upper left')\n",
        "    plt.show()\n",
        "\n"
      ]
    },
    {
      "cell_type": "code",
      "execution_count": 137,
      "metadata": {},
      "outputs": [
        {
          "ename": "ValueError",
          "evalue": "in user code:\n\n    File \"c:\\Users\\1192k\\anaconda3\\envs\\sml1\\lib\\site-packages\\keras\\engine\\training.py\", line 1727, in test_function  *\n        return step_function(self, iterator)\n    File \"c:\\Users\\1192k\\anaconda3\\envs\\sml1\\lib\\site-packages\\keras\\engine\\training.py\", line 1713, in step_function  **\n        outputs = model.distribute_strategy.run(run_step, args=(data,))\n    File \"c:\\Users\\1192k\\anaconda3\\envs\\sml1\\lib\\site-packages\\keras\\engine\\training.py\", line 1701, in run_step  **\n        outputs = model.test_step(data)\n    File \"c:\\Users\\1192k\\anaconda3\\envs\\sml1\\lib\\site-packages\\keras\\engine\\training.py\", line 1667, in test_step\n        self.compute_loss(x, y, y_pred, sample_weight)\n    File \"c:\\Users\\1192k\\anaconda3\\envs\\sml1\\lib\\site-packages\\keras\\engine\\training.py\", line 1052, in compute_loss\n        return self.compiled_loss(\n    File \"c:\\Users\\1192k\\anaconda3\\envs\\sml1\\lib\\site-packages\\keras\\engine\\compile_utils.py\", line 265, in __call__\n        loss_value = loss_obj(y_t, y_p, sample_weight=sw)\n    File \"c:\\Users\\1192k\\anaconda3\\envs\\sml1\\lib\\site-packages\\keras\\losses.py\", line 152, in __call__\n        losses = call_fn(y_true, y_pred)\n    File \"c:\\Users\\1192k\\anaconda3\\envs\\sml1\\lib\\site-packages\\keras\\losses.py\", line 272, in call  **\n        return ag_fn(y_true, y_pred, **self._fn_kwargs)\n    File \"c:\\Users\\1192k\\anaconda3\\envs\\sml1\\lib\\site-packages\\keras\\losses.py\", line 1990, in categorical_crossentropy\n        return backend.categorical_crossentropy(\n    File \"c:\\Users\\1192k\\anaconda3\\envs\\sml1\\lib\\site-packages\\keras\\backend.py\", line 5529, in categorical_crossentropy\n        target.shape.assert_is_compatible_with(output.shape)\n\n    ValueError: Shapes (None, 1) and (None, 10) are incompatible\n",
          "output_type": "error",
          "traceback": [
            "\u001b[1;31m---------------------------------------------------------------------------\u001b[0m",
            "\u001b[1;31mValueError\u001b[0m                                Traceback (most recent call last)",
            "Cell \u001b[1;32mIn[137], line 1\u001b[0m\n\u001b[1;32m----> 1\u001b[0m plot_history(model, input_X_test, output_y_test, history)\n",
            "Cell \u001b[1;32mIn[136], line 4\u001b[0m, in \u001b[0;36mplot_history\u001b[1;34m(target_model, test_x, test_y, learning_history)\u001b[0m\n\u001b[0;32m      2\u001b[0m \u001b[39mdef\u001b[39;00m \u001b[39mplot_history\u001b[39m(target_model, test_x, test_y, learning_history):\n\u001b[0;32m      3\u001b[0m     \u001b[39m#Testing\u001b[39;00m\n\u001b[1;32m----> 4\u001b[0m     score \u001b[39m=\u001b[39m target_model\u001b[39m.\u001b[39;49mevaluate(test_x, test_y, batch_size\u001b[39m=\u001b[39;49mBATCH_SIZE, verbose\u001b[39m=\u001b[39;49mVERBOSE)\n\u001b[0;32m      5\u001b[0m     \u001b[39mprint\u001b[39m(\u001b[39m\"\u001b[39m\u001b[39m\\n\u001b[39;00m\u001b[39mTest score/loss:\u001b[39m\u001b[39m\"\u001b[39m, score[\u001b[39m0\u001b[39m])\n\u001b[0;32m      6\u001b[0m     \u001b[39mprint\u001b[39m(\u001b[39m'\u001b[39m\u001b[39mTest accuracy:\u001b[39m\u001b[39m'\u001b[39m, score[\u001b[39m1\u001b[39m])\n",
            "File \u001b[1;32mc:\\Users\\1192k\\anaconda3\\envs\\sml1\\lib\\site-packages\\keras\\utils\\traceback_utils.py:70\u001b[0m, in \u001b[0;36mfilter_traceback.<locals>.error_handler\u001b[1;34m(*args, **kwargs)\u001b[0m\n\u001b[0;32m     67\u001b[0m     filtered_tb \u001b[39m=\u001b[39m _process_traceback_frames(e\u001b[39m.\u001b[39m__traceback__)\n\u001b[0;32m     68\u001b[0m     \u001b[39m# To get the full stack trace, call:\u001b[39;00m\n\u001b[0;32m     69\u001b[0m     \u001b[39m# `tf.debugging.disable_traceback_filtering()`\u001b[39;00m\n\u001b[1;32m---> 70\u001b[0m     \u001b[39mraise\u001b[39;00m e\u001b[39m.\u001b[39mwith_traceback(filtered_tb) \u001b[39mfrom\u001b[39;00m \u001b[39mNone\u001b[39m\n\u001b[0;32m     71\u001b[0m \u001b[39mfinally\u001b[39;00m:\n\u001b[0;32m     72\u001b[0m     \u001b[39mdel\u001b[39;00m filtered_tb\n",
            "File \u001b[1;32m~\\AppData\\Local\\Temp\\__autograph_generated_fileu722qy8b.py:15\u001b[0m, in \u001b[0;36mouter_factory.<locals>.inner_factory.<locals>.tf__test_function\u001b[1;34m(iterator)\u001b[0m\n\u001b[0;32m     13\u001b[0m \u001b[39mtry\u001b[39;00m:\n\u001b[0;32m     14\u001b[0m     do_return \u001b[39m=\u001b[39m \u001b[39mTrue\u001b[39;00m\n\u001b[1;32m---> 15\u001b[0m     retval_ \u001b[39m=\u001b[39m ag__\u001b[39m.\u001b[39mconverted_call(ag__\u001b[39m.\u001b[39mld(step_function), (ag__\u001b[39m.\u001b[39mld(\u001b[39mself\u001b[39m), ag__\u001b[39m.\u001b[39mld(iterator)), \u001b[39mNone\u001b[39;00m, fscope)\n\u001b[0;32m     16\u001b[0m \u001b[39mexcept\u001b[39;00m:\n\u001b[0;32m     17\u001b[0m     do_return \u001b[39m=\u001b[39m \u001b[39mFalse\u001b[39;00m\n",
            "\u001b[1;31mValueError\u001b[0m: in user code:\n\n    File \"c:\\Users\\1192k\\anaconda3\\envs\\sml1\\lib\\site-packages\\keras\\engine\\training.py\", line 1727, in test_function  *\n        return step_function(self, iterator)\n    File \"c:\\Users\\1192k\\anaconda3\\envs\\sml1\\lib\\site-packages\\keras\\engine\\training.py\", line 1713, in step_function  **\n        outputs = model.distribute_strategy.run(run_step, args=(data,))\n    File \"c:\\Users\\1192k\\anaconda3\\envs\\sml1\\lib\\site-packages\\keras\\engine\\training.py\", line 1701, in run_step  **\n        outputs = model.test_step(data)\n    File \"c:\\Users\\1192k\\anaconda3\\envs\\sml1\\lib\\site-packages\\keras\\engine\\training.py\", line 1667, in test_step\n        self.compute_loss(x, y, y_pred, sample_weight)\n    File \"c:\\Users\\1192k\\anaconda3\\envs\\sml1\\lib\\site-packages\\keras\\engine\\training.py\", line 1052, in compute_loss\n        return self.compiled_loss(\n    File \"c:\\Users\\1192k\\anaconda3\\envs\\sml1\\lib\\site-packages\\keras\\engine\\compile_utils.py\", line 265, in __call__\n        loss_value = loss_obj(y_t, y_p, sample_weight=sw)\n    File \"c:\\Users\\1192k\\anaconda3\\envs\\sml1\\lib\\site-packages\\keras\\losses.py\", line 152, in __call__\n        losses = call_fn(y_true, y_pred)\n    File \"c:\\Users\\1192k\\anaconda3\\envs\\sml1\\lib\\site-packages\\keras\\losses.py\", line 272, in call  **\n        return ag_fn(y_true, y_pred, **self._fn_kwargs)\n    File \"c:\\Users\\1192k\\anaconda3\\envs\\sml1\\lib\\site-packages\\keras\\losses.py\", line 1990, in categorical_crossentropy\n        return backend.categorical_crossentropy(\n    File \"c:\\Users\\1192k\\anaconda3\\envs\\sml1\\lib\\site-packages\\keras\\backend.py\", line 5529, in categorical_crossentropy\n        target.shape.assert_is_compatible_with(output.shape)\n\n    ValueError: Shapes (None, 1) and (None, 10) are incompatible\n"
          ]
        }
      ],
      "source": [
        "plot_history(model, input_X_test, output_y_test, history)"
      ]
    },
    {
      "attachments": {},
      "cell_type": "markdown",
      "metadata": {},
      "source": [
        "## Model 3-2: Data Augmentation\n",
        "- https://www.tensorflow.org/tutorials/images/classification#compile_the_model\n",
        "- https://www.tensorflow.org/tutorials/images/data_augmentation"
      ]
    },
    {
      "cell_type": "code",
      "execution_count": 92,
      "metadata": {},
      "outputs": [],
      "source": [
        "from sklearn.model_selection import train_test_split\n",
        "X_train, X_val, y_train, y_val = train_test_split(input_X_train, output_Y_train, test_size=VALIDATION_SPLIT)"
      ]
    },
    {
      "cell_type": "code",
      "execution_count": 109,
      "metadata": {},
      "outputs": [
        {
          "name": "stdout",
          "output_type": "stream",
          "text": [
            "Augmenting training set images...\n"
          ]
        }
      ],
      "source": [
        "from tensorflow.keras.preprocessing.image import ImageDataGenerator\n",
        "#from keras.datasets import cifar10\n",
        "\n",
        "#load dataset\n",
        "#(input_X_train, output_y_train), (input_X_test, output_y_test) = cifar10.load_data()\n",
        "\n",
        "# augumenting\n",
        "print(\"Augmenting training set images...\")\n",
        "    \n",
        "train_datagen = ImageDataGenerator(\n",
        "   rotation_range=40,\n",
        "   width_shift_range=0.2,\n",
        "   height_shift_range=0.2,\n",
        "   zoom_range=0.2,\n",
        "   horizontal_flip=True,\n",
        "   fill_mode='nearest'\n",
        "   # validation_split=VALIDATION_SPLIT\n",
        "   )\n",
        "\n",
        "# rotation_range is a value in degrees (0 - 180) for randomly rotating pictures\n",
        "# width_shift and height_shift are ranges for randomly translating pictures vertically or horizontally\n",
        "# zoom_range is for randomly zooming pictures \n",
        "# horizontal_flip is for randomly flipping the images horizontally\n",
        "# fill_mode fills in new pixels that can appear after a rotation or a shift\n",
        "\n",
        "train_datagen.fit(X_train)\n",
        "train_data = train_datagen.flow(X_train, y_train, batch_size=BATCH_SIZE)"
      ]
    },
    {
      "cell_type": "code",
      "execution_count": 110,
      "metadata": {},
      "outputs": [],
      "source": [
        "val_datagen = ImageDataGenerator()\n",
        "val_datagen.fit(X_val)\n",
        "val_data = val_datagen.flow(X_val, y_val, batch_size=BATCH_SIZE)"
      ]
    },
    {
      "cell_type": "code",
      "execution_count": 111,
      "metadata": {},
      "outputs": [],
      "source": [
        "train_generator = datagen.flow(X_train, y_train, batch_size=BATCH_SIZE, subset='training')\n",
        "validation_generator = datagen.flow(X_val, y_val, batch_size=BATCH_SIZE, subset='validation')"
      ]
    },
    {
      "cell_type": "code",
      "execution_count": 112,
      "metadata": {},
      "outputs": [
        {
          "name": "stdout",
          "output_type": "stream",
          "text": [
            "Epoch 1/5\n"
          ]
        },
        {
          "name": "stderr",
          "output_type": "stream",
          "text": [
            "C:\\Users\\1192k\\AppData\\Local\\Temp\\ipykernel_30880\\947434083.py:1: UserWarning: `Model.fit_generator` is deprecated and will be removed in a future version. Please use `Model.fit`, which supports generators.\n",
            "  history = deeper_model.fit_generator(train_data, epochs=5, validation_data=val_data, verbose=VERBOSE)\n"
          ]
        },
        {
          "name": "stdout",
          "output_type": "stream",
          "text": [
            "313/313 [==============================] - 31s 98ms/step - loss: 1.3554 - accuracy: 0.5307 - val_loss: 1.0546 - val_accuracy: 0.6252\n",
            "Epoch 2/5\n",
            "313/313 [==============================] - 30s 95ms/step - loss: 1.3418 - accuracy: 0.5316 - val_loss: 0.9923 - val_accuracy: 0.6566\n",
            "Epoch 3/5\n",
            "313/313 [==============================] - 31s 100ms/step - loss: 1.3211 - accuracy: 0.5408 - val_loss: 1.1421 - val_accuracy: 0.6023\n",
            "Epoch 4/5\n",
            "313/313 [==============================] - 33s 104ms/step - loss: 1.3218 - accuracy: 0.5436 - val_loss: 1.0581 - val_accuracy: 0.6366\n",
            "Epoch 5/5\n",
            "313/313 [==============================] - 35s 113ms/step - loss: 1.3157 - accuracy: 0.5422 - val_loss: 1.2166 - val_accuracy: 0.5876\n"
          ]
        }
      ],
      "source": [
        "history = deeper_model.fit_generator(train_data, epochs=5, validation_data=val_data, verbose=VERBOSE)"
      ]
    },
    {
      "cell_type": "code",
      "execution_count": 114,
      "metadata": {},
      "outputs": [
        {
          "name": "stdout",
          "output_type": "stream",
          "text": [
            "79/79 [==============================] - 1s 11ms/step - loss: 1.2810 - accuracy: 0.5743\n",
            "\n",
            "Test score/loss: 1.2810337543487549\n",
            "Test accuracy: 0.5742999911308289\n",
            "dict_keys(['loss', 'accuracy', 'val_loss', 'val_accuracy'])\n"
          ]
        },
        {
          "data": {
            "image/png": "[encoded data removed]",
            "text/plain": [
              "<Figure size 640x480 with 1 Axes>"
            ]
          },
          "metadata": {},
          "output_type": "display_data"
        },
        {
          "data": {
            "image/png": "[encoded data removed]",
            "text/plain": [
              "<Figure size 640x480 with 1 Axes>"
            ]
          },
          "metadata": {},
          "output_type": "display_data"
        }
      ],
      "source": [
        "#Testing\n",
        "score = model.evaluate(input_X_test, output_Y_test, batch_size=BATCH_SIZE, verbose=VERBOSE)\n",
        "print(\"\\nTest score/loss:\", score[0])\n",
        "print('Test accuracy:', score[1])\n",
        "\n",
        "# list all data in history\n",
        "print(history.history.keys())\n",
        "\n",
        "# summarize history for accuracy\n",
        "#plt.plot(mo)\n",
        "plt.plot(history.history['accuracy'])\n",
        "plt.plot(history.history['val_accuracy'])\n",
        "plt.title('model accuracy')\n",
        "plt.ylabel('accuracy')\n",
        "plt.xlabel('epoch')\n",
        "plt.legend(['train', 'test'], loc='upper left')\n",
        "plt.show()\n",
        "\n",
        "# summarize history for loss\n",
        "plt.plot(history.history['loss'])\n",
        "plt.plot(history.history['val_loss'])\n",
        "plt.title('model loss')\n",
        "plt.ylabel('loss')\n",
        "plt.xlabel('epoch')\n",
        "plt.legend(['train', 'test'], loc='upper left')\n",
        "plt.show()\n",
        "\n"
      ]
    },
    {
      "attachments": {},
      "cell_type": "markdown",
      "metadata": {},
      "source": [
        "## Model 3-3 Data Augmentation\n",
        "- https://github.com/moritzhambach/Image-Augmentation-in-Keras-CIFAR-10-/blob/master/CNN%20with%20Image%20Augmentation%20(CIFAR10).ipynb"
      ]
    },
    {
      "cell_type": "code",
      "execution_count": 139,
      "metadata": {},
      "outputs": [
        {
          "name": "stdout",
          "output_type": "stream",
          "text": [
            "CNN network definition.\n"
          ]
        }
      ],
      "source": [
        "deeper_model = Sequential()\n",
        "deeper_model.add(Conv2D(32, (3, 3), padding='same', input_shape=(IMG_ROWS, IMG_COLS, IMG_CHANNELS)))\n",
        "deeper_model.add(Activation('relu'))\n",
        "deeper_model.add(Conv2D(32, (3, 3), padding='same', input_shape=(IMG_ROWS, IMG_COLS, IMG_CHANNELS)))\n",
        "deeper_model.add(Activation('relu'))\n",
        "deeper_model.add(MaxPooling2D(pool_size=(2, 2)))\n",
        "deeper_model.add(Dropout(0.25))\n",
        "\n",
        "deeper_model.add(Conv2D(32, (3, 3), padding='same', input_shape=(IMG_ROWS, IMG_COLS, IMG_CHANNELS)))\n",
        "deeper_model.add(Activation('relu'))\n",
        "deeper_model.add(Conv2D(32, (3, 3), padding='same', input_shape=(IMG_ROWS, IMG_COLS, IMG_CHANNELS)))\n",
        "deeper_model.add(Activation('relu'))\n",
        "deeper_model.add(MaxPooling2D(pool_size=(2, 2)))\n",
        "deeper_model.add(Dropout(0.25))\n",
        "\n",
        "deeper_model.add(Conv2D(32, (3, 3), padding='same', input_shape=(IMG_ROWS, IMG_COLS, IMG_CHANNELS)))\n",
        "deeper_model.add(Activation('relu'))\n",
        "deeper_model.add(Conv2D(32, (3, 3), padding='same', input_shape=(IMG_ROWS, IMG_COLS, IMG_CHANNELS)))\n",
        "deeper_model.add(Activation('relu'))\n",
        "deeper_model.add(MaxPooling2D(pool_size=(2, 2)))\n",
        "deeper_model.add(Dropout(0.25))\n",
        "\n",
        "deeper_model.add(Flatten())\n",
        "deeper_model.add(Dense(512))\n",
        "deeper_model.add(Activation('relu'))\n",
        "deeper_model.add(Dropout(0.5))\n",
        "\n",
        "deeper_model.add(Flatten())\n",
        "deeper_model.add(Dense(512))\n",
        "deeper_model.add(Activation('relu'))\n",
        "deeper_model.add(Dropout(0.5))\n",
        "\n",
        "deeper_model.add(Dense(N_CLASSES))\n",
        "deeper_model.add(Activation('softmax'))\n",
        "\n",
        "print('CNN network definition.')\n",
        "\n",
        "\n",
        "deeper_model.compile(loss='categorical_crossentropy', optimizer=OPTIM, metrics=['accuracy'])"
      ]
    },
    {
      "cell_type": "code",
      "execution_count": null,
      "metadata": {},
      "outputs": [],
      "source": [
        "X_train, X_val, y_train, y_val = train_test_split(input_X_train, output_Y_train, test_size=VALIDATION_SPLIT)"
      ]
    },
    {
      "cell_type": "code",
      "execution_count": 141,
      "metadata": {},
      "outputs": [
        {
          "name": "stdout",
          "output_type": "stream",
          "text": [
            "Epoch 1/5\n"
          ]
        },
        {
          "name": "stderr",
          "output_type": "stream",
          "text": [
            "C:\\Users\\1192k\\AppData\\Local\\Temp\\ipykernel_30880\\1161036969.py:2: UserWarning: `Model.fit_generator` is deprecated and will be removed in a future version. Please use `Model.fit`, which supports generators.\n",
            "  history2=deeper_model.fit_generator(datagen.flow(X_train, y_train, batch_size=128),\n"
          ]
        },
        {
          "name": "stdout",
          "output_type": "stream",
          "text": [
            "312/312 [==============================] - 29s 93ms/step - loss: 2.0775 - accuracy: 0.2292 - val_loss: 1.8191 - val_accuracy: 0.3240\n",
            "Epoch 2/5\n",
            "312/312 [==============================] - 34s 109ms/step - loss: 1.8587 - accuracy: 0.3196 - val_loss: 1.6566 - val_accuracy: 0.3719\n",
            "Epoch 3/5\n",
            "312/312 [==============================] - 32s 101ms/step - loss: 1.7484 - accuracy: 0.3610 - val_loss: 1.5539 - val_accuracy: 0.4091\n",
            "Epoch 4/5\n",
            "312/312 [==============================] - 30s 97ms/step - loss: 1.6658 - accuracy: 0.3967 - val_loss: 1.3999 - val_accuracy: 0.4818\n",
            "Epoch 5/5\n",
            "312/312 [==============================] - 35s 111ms/step - loss: 1.6018 - accuracy: 0.4187 - val_loss: 1.4381 - val_accuracy: 0.4578\n"
          ]
        }
      ],
      "source": [
        "# train with image augmentation\n",
        "history2=deeper_model.fit_generator(datagen.flow(X_train, y_train, batch_size=128),\n",
        "                    steps_per_epoch = len(X_train) / 128, epochs=5, validation_data=(X_val, y_val))\n"
      ]
    },
    {
      "cell_type": "code",
      "execution_count": 149,
      "metadata": {},
      "outputs": [
        {
          "name": "stdout",
          "output_type": "stream",
          "text": [
            "79/79 [==============================] - 1s 17ms/step - loss: 1.4318 - accuracy: 0.4643\n",
            "\n",
            "Test score/loss: 1.4317822456359863\n",
            "Test accuracy: 0.4643000066280365\n",
            "dict_keys(['loss', 'accuracy', 'val_loss', 'val_accuracy'])\n"
          ]
        },
        {
          "data": {
            "image/png": "[encoded data removed]",
            "text/plain": [
              "<Figure size 640x480 with 1 Axes>"
            ]
          },
          "metadata": {},
          "output_type": "display_data"
        },
        {
          "data": {
            "image/png": "[encoded data removed]",
            "text/plain": [
              "<Figure size 640x480 with 1 Axes>"
            ]
          },
          "metadata": {},
          "output_type": "display_data"
        }
      ],
      "source": [
        "plot_history(deeper_model, input_X_test, output_Y_test, history2)"
      ]
    },
    {
      "attachments": {},
      "cell_type": "markdown",
      "metadata": {},
      "source": [
        "## Model 4: ResNet\n",
        "- https://www.kaggle.com/code/kutaykutlu/resnet50-transfer-learning-cifar-10-beginner"
      ]
    },
    {
      "cell_type": "code",
      "execution_count": 160,
      "metadata": {},
      "outputs": [],
      "source": [
        "def feature_extractor(inputs):\n",
        "    feature_extractor = tf.keras.applications.ResNet50(input_shape=(IMG_COLS, IMG_ROWS, IMG_CHANNELS), \n",
        "                                                       include_top=False, weights='imagenet')(inputs)\n",
        "                                                       \n",
        "    return feature_extractor\n",
        "\n",
        "\n",
        "def classifier(inputs):\n",
        "    x = tf.keras.layers.GlobalAveragePooling2D()(inputs)\n",
        "    x = tf.keras.layers.Flatten()(x)\n",
        "    x = tf.keras.layers.Dense(1024, activation='relu')(x)\n",
        "    x = tf.keras.layers.Dense(512, activation='relu')(x)\n",
        "    x = tf.keras.layers.Dense(N_CLASSES, activation=\"softmax\", name=\"classification\")(x)\n",
        "\n",
        "    return x\n",
        "\n",
        "\n",
        "def final_model(inputs):\n",
        "    resize = tf.keras.layers.UpSampling2D((7, 7))(inputs)\n",
        "\n",
        "    resnet_feature_extractor = feature_extractor(resize)\n",
        "    classification_output = classifier(resnet_feature_extractor)\n",
        "\n",
        "    return classification_output\n",
        "\n",
        "\n",
        "def define_compilie_model():\n",
        "    inputs = tf.keras.layers.Input(shape=(IMG_COLS, IMG_ROWS, IMG_CHANNELS))\n",
        "\n",
        "    classification_output = final_model(inputs)\n",
        "    model = tf.keras.Model(inputs=inputs, outputs=classification_output)\n",
        "\n",
        "    model.compile(optimizer='SGD', loss='sparse_categorical_crosentropy', metrics=['accuracy'])\n",
        "\n",
        "    return model\n"
      ]
    },
    {
      "cell_type": "code",
      "execution_count": 161,
      "metadata": {},
      "outputs": [
        {
          "name": "stdout",
          "output_type": "stream",
          "text": [
            "WARNING:tensorflow:Model was constructed with shape (None, 32, 32, 3) for input KerasTensor(type_spec=TensorSpec(shape=(None, 32, 32, 3), dtype=tf.float32, name='input_11'), name='input_11', description=\"created by layer 'input_11'\"), but it was called on an input with incompatible shape (None, 224, 224, 3).\n",
            "Model: \"model_1\"\n",
            "_________________________________________________________________\n",
            " Layer (type)                Output Shape              Param #   \n",
            "=================================================================\n",
            " input_10 (InputLayer)       [(None, 32, 32, 3)]       0         \n",
            "                                                                 \n",
            " up_sampling2d_3 (UpSampling  (None, 224, 224, 3)      0         \n",
            " 2D)                                                             \n",
            "                                                                 \n",
            " resnet50 (Functional)       (None, 1, 1, 2048)        23587712  \n",
            "                                                                 \n",
            " global_average_pooling2d_3   (None, 2048)             0         \n",
            " (GlobalAveragePooling2D)                                        \n",
            "                                                                 \n",
            " flatten_33 (Flatten)        (None, 2048)              0         \n",
            "                                                                 \n",
            " dense_56 (Dense)            (None, 1024)              2098176   \n",
            "                                                                 \n",
            " dense_57 (Dense)            (None, 512)               524800    \n",
            "                                                                 \n",
            " classification (Dense)      (None, 10)                5130      \n",
            "                                                                 \n",
            "=================================================================\n",
            "Total params: 26,215,818\n",
            "Trainable params: 26,162,698\n",
            "Non-trainable params: 53,120\n",
            "_________________________________________________________________\n"
          ]
        }
      ],
      "source": [
        "model = define_compilie_model()\n",
        "model.summary()"
      ]
    },
    {
      "cell_type": "code",
      "execution_count": 163,
      "metadata": {},
      "outputs": [
        {
          "name": "stdout",
          "output_type": "stream",
          "text": [
            "Epoch 1/3\n"
          ]
        },
        {
          "ename": "ValueError",
          "evalue": "in user code:\n\n    File \"c:\\Users\\1192k\\anaconda3\\envs\\sml1\\lib\\site-packages\\keras\\engine\\training.py\", line 1160, in train_function  *\n        return step_function(self, iterator)\n    File \"c:\\Users\\1192k\\anaconda3\\envs\\sml1\\lib\\site-packages\\keras\\engine\\training.py\", line 1146, in step_function  **\n        outputs = model.distribute_strategy.run(run_step, args=(data,))\n    File \"c:\\Users\\1192k\\anaconda3\\envs\\sml1\\lib\\site-packages\\keras\\engine\\training.py\", line 1135, in run_step  **\n        outputs = model.train_step(data)\n    File \"c:\\Users\\1192k\\anaconda3\\envs\\sml1\\lib\\site-packages\\keras\\engine\\training.py\", line 993, in train_step\n        y_pred = self(x, training=True)\n    File \"c:\\Users\\1192k\\anaconda3\\envs\\sml1\\lib\\site-packages\\keras\\utils\\traceback_utils.py\", line 70, in error_handler\n        raise e.with_traceback(filtered_tb) from None\n    File \"c:\\Users\\1192k\\anaconda3\\envs\\sml1\\lib\\site-packages\\keras\\engine\\input_spec.py\", line 295, in assert_input_compatibility\n        raise ValueError(\n\n    ValueError: Exception encountered when calling layer \"model_1\" \"                 f\"(type Functional).\n    \n    Input 0 of layer \"resnet50\" is incompatible with the layer: expected shape=(None, 32, 32, 3), found shape=(32, 224, 224, 3)\n    \n    Call arguments received by layer \"model_1\" \"                 f\"(type Functional):\n      • inputs=tf.Tensor(shape=(32, 32, 32, 3), dtype=float32)\n      • training=True\n      • mask=None\n",
          "output_type": "error",
          "traceback": [
            "\u001b[1;31m---------------------------------------------------------------------------\u001b[0m",
            "\u001b[1;31mValueError\u001b[0m                                Traceback (most recent call last)",
            "Cell \u001b[1;32mIn[163], line 1\u001b[0m\n\u001b[1;32m----> 1\u001b[0m history \u001b[39m=\u001b[39m model\u001b[39m.\u001b[39;49mfit(X_train, y_train, epochs\u001b[39m=\u001b[39;49m\u001b[39m3\u001b[39;49m, validation_data\u001b[39m=\u001b[39;49m(X_val  , y_val))\n",
            "File \u001b[1;32mc:\\Users\\1192k\\anaconda3\\envs\\sml1\\lib\\site-packages\\keras\\utils\\traceback_utils.py:70\u001b[0m, in \u001b[0;36mfilter_traceback.<locals>.error_handler\u001b[1;34m(*args, **kwargs)\u001b[0m\n\u001b[0;32m     67\u001b[0m     filtered_tb \u001b[39m=\u001b[39m _process_traceback_frames(e\u001b[39m.\u001b[39m__traceback__)\n\u001b[0;32m     68\u001b[0m     \u001b[39m# To get the full stack trace, call:\u001b[39;00m\n\u001b[0;32m     69\u001b[0m     \u001b[39m# `tf.debugging.disable_traceback_filtering()`\u001b[39;00m\n\u001b[1;32m---> 70\u001b[0m     \u001b[39mraise\u001b[39;00m e\u001b[39m.\u001b[39mwith_traceback(filtered_tb) \u001b[39mfrom\u001b[39;00m \u001b[39mNone\u001b[39m\n\u001b[0;32m     71\u001b[0m \u001b[39mfinally\u001b[39;00m:\n\u001b[0;32m     72\u001b[0m     \u001b[39mdel\u001b[39;00m filtered_tb\n",
            "File \u001b[1;32m~\\AppData\\Local\\Temp\\__autograph_generated_filezpu5rq6h.py:15\u001b[0m, in \u001b[0;36mouter_factory.<locals>.inner_factory.<locals>.tf__train_function\u001b[1;34m(iterator)\u001b[0m\n\u001b[0;32m     13\u001b[0m \u001b[39mtry\u001b[39;00m:\n\u001b[0;32m     14\u001b[0m     do_return \u001b[39m=\u001b[39m \u001b[39mTrue\u001b[39;00m\n\u001b[1;32m---> 15\u001b[0m     retval_ \u001b[39m=\u001b[39m ag__\u001b[39m.\u001b[39mconverted_call(ag__\u001b[39m.\u001b[39mld(step_function), (ag__\u001b[39m.\u001b[39mld(\u001b[39mself\u001b[39m), ag__\u001b[39m.\u001b[39mld(iterator)), \u001b[39mNone\u001b[39;00m, fscope)\n\u001b[0;32m     16\u001b[0m \u001b[39mexcept\u001b[39;00m:\n\u001b[0;32m     17\u001b[0m     do_return \u001b[39m=\u001b[39m \u001b[39mFalse\u001b[39;00m\n",
            "\u001b[1;31mValueError\u001b[0m: in user code:\n\n    File \"c:\\Users\\1192k\\anaconda3\\envs\\sml1\\lib\\site-packages\\keras\\engine\\training.py\", line 1160, in train_function  *\n        return step_function(self, iterator)\n    File \"c:\\Users\\1192k\\anaconda3\\envs\\sml1\\lib\\site-packages\\keras\\engine\\training.py\", line 1146, in step_function  **\n        outputs = model.distribute_strategy.run(run_step, args=(data,))\n    File \"c:\\Users\\1192k\\anaconda3\\envs\\sml1\\lib\\site-packages\\keras\\engine\\training.py\", line 1135, in run_step  **\n        outputs = model.train_step(data)\n    File \"c:\\Users\\1192k\\anaconda3\\envs\\sml1\\lib\\site-packages\\keras\\engine\\training.py\", line 993, in train_step\n        y_pred = self(x, training=True)\n    File \"c:\\Users\\1192k\\anaconda3\\envs\\sml1\\lib\\site-packages\\keras\\utils\\traceback_utils.py\", line 70, in error_handler\n        raise e.with_traceback(filtered_tb) from None\n    File \"c:\\Users\\1192k\\anaconda3\\envs\\sml1\\lib\\site-packages\\keras\\engine\\input_spec.py\", line 295, in assert_input_compatibility\n        raise ValueError(\n\n    ValueError: Exception encountered when calling layer \"model_1\" \"                 f\"(type Functional).\n    \n    Input 0 of layer \"resnet50\" is incompatible with the layer: expected shape=(None, 32, 32, 3), found shape=(32, 224, 224, 3)\n    \n    Call arguments received by layer \"model_1\" \"                 f\"(type Functional):\n      • inputs=tf.Tensor(shape=(32, 32, 32, 3), dtype=float32)\n      • training=True\n      • mask=None\n"
          ]
        }
      ],
      "source": [
        "history = model.fit(X_train, y_train, epochs=3, validation_data=(X_val  , y_val))"
      ]
    },
    {
      "cell_type": "code",
      "execution_count": 164,
      "metadata": {},
      "outputs": [
        {
          "data": {
            "text/plain": [
              "(40000, 32, 32, 3)"
            ]
          },
          "execution_count": 164,
          "metadata": {},
          "output_type": "execute_result"
        }
      ],
      "source": [
        "X_train.shape"
      ]
    },
    {
      "attachments": {},
      "cell_type": "markdown",
      "metadata": {},
      "source": [
        "## Model 4-2 resnet\n",
        "- resnet50-transdfer-learning-cifar-10-beginner.ipynb (https://www.kaggle.com/code/kutaykutlu/resnet50-transfer-learning-cifar-10-beginner)\n"
      ]
    },
    {
      "cell_type": "code",
      "execution_count": null,
      "metadata": {},
      "outputs": [],
      "source": [
        "\n",
        "# utility to display training and validation curves\n",
        "def plot_metrics(metric_name, title, ylim=5):\n",
        "  plt.title(title)\n",
        "  plt.ylim(0,ylim)\n",
        "  plt.plot(history.history[metric_name],color='blue',label=metric_name)\n",
        "  plt.plot(history.history['val_' + metric_name],color='green',label='val_' + metric_name)"
      ]
    },
    {
      "attachments": {},
      "cell_type": "markdown",
      "metadata": {},
      "source": [
        "# Parameter Tuning"
      ]
    },
    {
      "cell_type": "code",
      "execution_count": 74,
      "metadata": {},
      "outputs": [],
      "source": [
        "from hyperopt import hp\n",
        "from keras.callbacks import EarlyStopping\n",
        "from keras.layers import BatchNormalization\n",
        "from keras.layers import PReLU\n",
        "from sklearn.preprocessing import StandardScaler\n",
        "\n",
        "# Baseline Parameter\n",
        "base_param = {\n",
        "    'input_dropout': 0.0,\n",
        "    'hidden_layers': 3,\n",
        "    'hidden_units': 96,\n",
        "    'hidden_activation': 'relu',\n",
        "    'hidden_dropout': 0.2,\n",
        "    'batch_norm': 'before_act',\n",
        "    'optimizer': {'type': 'adam', 'lr': 0.001},\n",
        "    'batch_size': 64,\n",
        "}\n",
        "\n",
        "# Set exploration space\n",
        "param_space = {\n",
        "    'input_dropout': hp.quniform('input_dropout', 0, 0.2, 0.05),\n",
        "    'hidden_layers': hp.quniform('hidden_layers', 2, 4, 1),\n",
        "    'hidden_units': hp.quniform('hidden_units', 32, 256, 32),\n",
        "    'hidden_activation': hp.choice('hidden_activation', ['prelu', 'relu']),\n",
        "    'hidden_dropout': hp.quniform('hidden_dropout', 0, 0.3, 0.05),\n",
        "    'batch_norm': hp.choice('batch_norm', ['before_act', 'no']),\n",
        "    'optimizer': hp.choice('optimizer', \n",
        "                           [{'type': 'adam', 'lr': hp.loguniform('adam_lr', np.log(0.0001), np.log(0.1))},\n",
        "                            {'type': 'rmsprop', 'lr': hp.loguniform('rmsprop_lr', np.log(0.0001), np.log(0.1))},\n",
        "                            {'type': 'sgd', 'lr': hp.loguniform('sgd_lr', np.log(0.0001), np.log(0.1))}]),\n",
        "    'batch_size': hp.quniform('batch_size', 32, 128, 32),\n",
        "}\n",
        "\n",
        "class CNN_parameter_tuning:\n",
        "    def __init__(self, params) -> None:\n",
        "        self.params = params\n",
        "        self.scaler = None\n",
        "        self.model = None\n",
        "    \n",
        "    def fit(self, tr_x, tr_y, val_x, val_y):\n",
        "\n",
        "        # parameter setting\n",
        "        input_dropout = self.params['input_dropout']\n",
        "        hidden_layers = int(self.params['hidden_layers'])\n",
        "        hidden_units = int(self.params['hidden_units'])\n",
        "        hidden_activation = self.params['hidden_activation']\n",
        "        hidden_dropout = self.params['hidden_dropout']\n",
        "        batch_norm = self.params['batch_norm']\n",
        "        optimizer_type = self.params['optimizer']['type']\n",
        "        optimizer_lr = self.params['optimizer']['lr']\n",
        "        batch_size = int(self.params['batch_size'])\n",
        "\n",
        "        self.model = Sequential()\n",
        "\n",
        "        # Input layer\n",
        "        # self.model.add(Dropout(input_dropout, input_shape=(tr_x.shape[1],)))\n",
        "\n",
        "        # Hidden layers\n",
        "        for i in range(hidden_layers):\n",
        "            self.model.add(Dense(hidden_units))\n",
        "            if batch_norm == 'before_act':\n",
        "                self.model.add(BatchNormalization())\n",
        "            if hidden_activation == 'prelu':\n",
        "                self.model.add(PReLU())\n",
        "            elif hidden_activation == 'relu':\n",
        "                self.model.add(Activation('relu'))\n",
        "            else:\n",
        "                raise NotImplementedError\n",
        "            self.model.add(Dropout(hidden_dropout))\n",
        "\n",
        "        # Output layer\n",
        "        self.model.add(Flatten())\n",
        "        self.model.add(Dense(512, activation='relu'))\n",
        "        self.add(Dropout(0.5))\n",
        "        self.model.add(Dense(N_CLASSES, activation='softmax'))\n",
        "\n",
        "        # Optimizer"
      ]
    },
    {
      "attachments": {},
      "cell_type": "markdown",
      "metadata": {},
      "source": [
        "# Parameter tuning 2\n",
        "- https://www.analyticsvidhya.com/blog/2021/06/create-convolutional-neural-network-model-and-optimize-using-keras-tuner-deep-learning/\n",
        "- https://www.kaggle.com/code/rahulkumarpatro/optimising-cnn-using-keras-tuner\n"
      ]
    },
    {
      "cell_type": "code",
      "execution_count": 79,
      "metadata": {},
      "outputs": [],
      "source": [
        "def build_model(hp):\n",
        "    # create model object\n",
        "    model = Sequential()\n",
        "    model.add(Conv2D(\n",
        "        #adding filter\n",
        "        filters=hp.Int('conv_1_filter', min_value=32, max_value=128, step=16),\n",
        "        kernel_size=hp.Choice('conv_1_kernel', values=[3,5]),\n",
        "        activation='relu',\n",
        "        padding='same',\n",
        "        input_shape=(IMG_ROWS, IMG_COLS, IMG_CHANNELS)\n",
        "    )),\n",
        "    model.add(Conv2D(\n",
        "        filters=hp.Int('conv_2_filter', min_value=32, max_value=64, step=16),\n",
        "        kernel_size=hp.Choice('conv_2_kernel', values=[3,5]),\n",
        "        activation='relu',\n",
        "        padding='same'\n",
        "    )),\n",
        "    model.add(MaxPooling2D(pool_size=(2,2))),\n",
        "    model.add(Flatten()),\n",
        "    model.add(Dense(\n",
        "        units=hp.Int('dense_1_units', min_value=32, max_value=128, step=16),\n",
        "        activation='relu',\n",
        "    )),\n",
        "    model.add(Dropout(0.5)),\n",
        "    model.add(Dense(N_CLASSES, activation='softmax'))\n",
        "\n",
        "    # compile model\n",
        "    model.compile(loss='categorical_crossentropy', optimizer=OPTIM, metrics=['accuracy'])\n",
        "\n",
        "    return model\n"
      ]
    },
    {
      "cell_type": "code",
      "execution_count": 80,
      "metadata": {},
      "outputs": [],
      "source": [
        "from kerastuner import RandomSearch\n",
        "from kerastuner.engine.hyperparameters import HyperParameters\n",
        "\n",
        "tuner_search = RandomSearch(build_model, objective='val_accuracy', max_trials=5, directory='output', project_name=\"Mnist Fashion\")"
      ]
    },
    {
      "cell_type": "code",
      "execution_count": 82,
      "metadata": {},
      "outputs": [
        {
          "name": "stdout",
          "output_type": "stream",
          "text": [
            "Trial 5 Complete [00h 03m 44s]\n",
            "val_accuracy: 0.5946999788284302\n",
            "\n",
            "Best val_accuracy So Far: 0.6151000261306763\n",
            "Total elapsed time: 00h 16m 07s\n",
            "INFO:tensorflow:Oracle triggered exit\n"
          ]
        }
      ],
      "source": [
        "tuner_search.search(input_X_train, output_Y_train, epochs=3, validation_split=VALIDATION_SPLIT)"
      ]
    },
    {
      "cell_type": "code",
      "execution_count": 83,
      "metadata": {},
      "outputs": [
        {
          "name": "stdout",
          "output_type": "stream",
          "text": [
            "Model: \"sequential\"\n",
            "_________________________________________________________________\n",
            " Layer (type)                Output Shape              Param #   \n",
            "=================================================================\n",
            " conv2d (Conv2D)             (None, 32, 32, 48)        3648      \n",
            "                                                                 \n",
            " conv2d_1 (Conv2D)           (None, 32, 32, 48)        20784     \n",
            "                                                                 \n",
            " max_pooling2d (MaxPooling2D  (None, 16, 16, 48)       0         \n",
            " )                                                               \n",
            "                                                                 \n",
            " flatten (Flatten)           (None, 12288)             0         \n",
            "                                                                 \n",
            " dense (Dense)               (None, 96)                1179744   \n",
            "                                                                 \n",
            " dropout (Dropout)           (None, 96)                0         \n",
            "                                                                 \n",
            " dense_1 (Dense)             (None, 10)                970       \n",
            "                                                                 \n",
            "=================================================================\n",
            "Total params: 1,205,146\n",
            "Trainable params: 1,205,146\n",
            "Non-trainable params: 0\n",
            "_________________________________________________________________\n"
          ]
        }
      ],
      "source": [
        "model = tuner_search.get_best_models(num_models=1)[0]\n",
        "model.summary()"
      ]
    },
    {
      "attachments": {},
      "cell_type": "markdown",
      "metadata": {},
      "source": [
        "## Parameter Tuning 3\n",
        "Tensorflow tutorial\n",
        "- https://www.tensorflow.org/tutorials/keras/keras_tuner"
      ]
    },
    {
      "cell_type": "code",
      "execution_count": 84,
      "metadata": {},
      "outputs": [],
      "source": [
        "def build_model_tutorial(hp):\n",
        "    # create model object\n",
        "    model = Sequential()\n",
        "    model.add(Conv2D(\n",
        "        #adding filter\n",
        "        filters=hp.Int('conv_1_filter', min_value=32, max_value=128, step=16),\n",
        "        kernel_size=hp.Choice('conv_1_kernel', values=[3,5]),\n",
        "        activation='relu',\n",
        "        padding='same',\n",
        "        input_shape=(IMG_ROWS, IMG_COLS, IMG_CHANNELS)\n",
        "    )),\n",
        "    model.add(Conv2D(\n",
        "        filters=hp.Int('conv_2_filter', min_value=32, max_value=64, step=16),\n",
        "        kernel_size=hp.Choice('conv_2_kernel', values=[3,5]),\n",
        "        activation='relu',\n",
        "        padding='same'\n",
        "    )),\n",
        "    model.add(MaxPooling2D(pool_size=(2,2))),\n",
        "    model.add(Flatten()),\n",
        "    model.add(Dense(\n",
        "        units=hp.Int('dense_1_units', min_value=32, max_value=128, step=16),\n",
        "        activation='relu',\n",
        "    )),\n",
        "    model.add(Dropout(0.5)),\n",
        "    model.add(Dense(N_CLASSES, activation='softmax'))\n",
        "\n",
        "    # Tune the learning rate for the optimizer\n",
        "    # Choose an optimal value from 0.01, 0.001, or 0.0001\n",
        "    hp_learning_rate = hp.Choice('learning_rate', values=[1e-2, 1e-3, 1e-4])\n",
        "\n",
        "    # compile model\n",
        "    model.compile(loss='categorical_crossentropy', \n",
        "                  optimizer=Adam(learning_rate=hp_learning_rate), \n",
        "                  metrics=['accuracy'])\n",
        "\n",
        "    return model\n"
      ]
    },
    {
      "cell_type": "code",
      "execution_count": 86,
      "metadata": {},
      "outputs": [],
      "source": [
        "import keras_tuner as kt\n",
        "\n",
        "tuner = kt.Hyperband(build_model_tutorial,\n",
        "                     objective='val_accuracy',\n",
        "                     max_epochs=10,\n",
        "                     factor=3,\n",
        "                     directory='my_dir',\n",
        "                        project_name='intro_to_kt')\n"
      ]
    },
    {
      "cell_type": "code",
      "execution_count": 87,
      "metadata": {},
      "outputs": [],
      "source": [
        "stop_early = tf.keras.callbacks.EarlyStopping(monitor='val_loss', patience=5)"
      ]
    },
    {
      "cell_type": "code",
      "execution_count": 88,
      "metadata": {},
      "outputs": [
        {
          "name": "stdout",
          "output_type": "stream",
          "text": [
            "Trial 30 Complete [06h 04m 38s]\n",
            "val_accuracy: 0.10249999910593033\n",
            "\n",
            "Best val_accuracy So Far: 0.6567000150680542\n",
            "Total elapsed time: 08h 40m 20s\n",
            "INFO:tensorflow:Oracle triggered exit\n"
          ]
        },
        {
          "ename": "KeyError",
          "evalue": "'units does not exist.'",
          "output_type": "error",
          "traceback": [
            "\u001b[1;31m---------------------------------------------------------------------------\u001b[0m",
            "\u001b[1;31mKeyError\u001b[0m                                  Traceback (most recent call last)",
            "Cell \u001b[1;32mIn[88], line 8\u001b[0m\n\u001b[0;32m      3\u001b[0m \u001b[39m# Get the optimal hyperparameters\u001b[39;00m\n\u001b[0;32m      4\u001b[0m best_hps\u001b[39m=\u001b[39mtuner\u001b[39m.\u001b[39mget_best_hyperparameters(num_trials\u001b[39m=\u001b[39m\u001b[39m1\u001b[39m)[\u001b[39m0\u001b[39m]\n\u001b[0;32m      6\u001b[0m \u001b[39mprint\u001b[39m(\u001b[39mf\u001b[39m\u001b[39m\"\"\"\u001b[39m\n\u001b[0;32m      7\u001b[0m \u001b[39mThe hyperparameter search is complete. The optimal number of units in the first densely-connected\u001b[39m\n\u001b[1;32m----> 8\u001b[0m \u001b[39mlayer is \u001b[39m\u001b[39m{\u001b[39;00mbest_hps\u001b[39m.\u001b[39;49mget(\u001b[39m'\u001b[39;49m\u001b[39munits\u001b[39;49m\u001b[39m'\u001b[39;49m)\u001b[39m}\u001b[39;49;00m\u001b[39m and the optimal learning rate for the optimizer\u001b[39;49m\n\u001b[0;32m      9\u001b[0m \u001b[39mis \u001b[39m\u001b[39m{\u001b[39;00mbest_hps\u001b[39m.\u001b[39mget(\u001b[39m'\u001b[39m\u001b[39mlearning_rate\u001b[39m\u001b[39m'\u001b[39m)\u001b[39m}\u001b[39;00m\u001b[39m.\u001b[39m\n\u001b[0;32m     10\u001b[0m \u001b[39m\"\"\"\u001b[39m)\n",
            "File \u001b[1;32mc:\\Users\\1192k\\anaconda3\\envs\\sml1\\lib\\site-packages\\keras_tuner\\engine\\hyperparameters\\hyperparameters.py:241\u001b[0m, in \u001b[0;36mHyperParameters.get\u001b[1;34m(self, name)\u001b[0m\n\u001b[0;32m    239\u001b[0m     \u001b[39mraise\u001b[39;00m \u001b[39mValueError\u001b[39;00m(\u001b[39mf\u001b[39m\u001b[39m\"\u001b[39m\u001b[39m{\u001b[39;00mname\u001b[39m}\u001b[39;00m\u001b[39m is currently inactive.\u001b[39m\u001b[39m\"\u001b[39m)\n\u001b[0;32m    240\u001b[0m \u001b[39melse\u001b[39;00m:\n\u001b[1;32m--> 241\u001b[0m     \u001b[39mraise\u001b[39;00m \u001b[39mKeyError\u001b[39;00m(\u001b[39mf\u001b[39m\u001b[39m\"\u001b[39m\u001b[39m{\u001b[39;00mname\u001b[39m}\u001b[39;00m\u001b[39m does not exist.\u001b[39m\u001b[39m\"\u001b[39m)\n",
            "\u001b[1;31mKeyError\u001b[0m: 'units does not exist.'"
          ]
        }
      ],
      "source": [
        "tuner.search(input_X_train, output_Y_train, epochs=50, validation_split=VALIDATION_SPLIT, callbacks=[stop_early])\n",
        "\n",
        "# Get the optimal hyperparameters\n",
        "best_hps=tuner.get_best_hyperparameters(num_trials=1)[0]\n"
      ]
    },
    {
      "cell_type": "code",
      "execution_count": 93,
      "metadata": {},
      "outputs": [
        {
          "data": {
            "text/plain": [
              "80"
            ]
          },
          "execution_count": 93,
          "metadata": {},
          "output_type": "execute_result"
        }
      ],
      "source": [
        "best_hps.get('conv_1_filter')"
      ]
    },
    {
      "cell_type": "code",
      "execution_count": 95,
      "metadata": {},
      "outputs": [
        {
          "name": "stdout",
          "output_type": "stream",
          "text": [
            "Epoch 1/50\n",
            " 547/1250 [============>.................] - ETA: 26s - loss: 1.8631 - accuracy: 0.3028"
          ]
        },
        {
          "ename": "KeyboardInterrupt",
          "evalue": "",
          "output_type": "error",
          "traceback": [
            "\u001b[1;31m---------------------------------------------------------------------------\u001b[0m",
            "\u001b[1;31mKeyboardInterrupt\u001b[0m                         Traceback (most recent call last)",
            "Cell \u001b[1;32mIn[95], line 3\u001b[0m\n\u001b[0;32m      1\u001b[0m \u001b[39m# Train the model with the optimal hyperparameters and run the trained model on the test set\u001b[39;00m\n\u001b[0;32m      2\u001b[0m model \u001b[39m=\u001b[39m tuner\u001b[39m.\u001b[39mhypermodel\u001b[39m.\u001b[39mbuild(best_hps)\n\u001b[1;32m----> 3\u001b[0m history \u001b[39m=\u001b[39m model\u001b[39m.\u001b[39;49mfit(input_X_train, output_Y_train, epochs\u001b[39m=\u001b[39;49m\u001b[39m50\u001b[39;49m, validation_split\u001b[39m=\u001b[39;49mVALIDATION_SPLIT, callbacks\u001b[39m=\u001b[39;49m[stop_early])\n",
            "File \u001b[1;32mc:\\Users\\1192k\\anaconda3\\envs\\sml1\\lib\\site-packages\\keras\\utils\\traceback_utils.py:65\u001b[0m, in \u001b[0;36mfilter_traceback.<locals>.error_handler\u001b[1;34m(*args, **kwargs)\u001b[0m\n\u001b[0;32m     63\u001b[0m filtered_tb \u001b[39m=\u001b[39m \u001b[39mNone\u001b[39;00m\n\u001b[0;32m     64\u001b[0m \u001b[39mtry\u001b[39;00m:\n\u001b[1;32m---> 65\u001b[0m     \u001b[39mreturn\u001b[39;00m fn(\u001b[39m*\u001b[39margs, \u001b[39m*\u001b[39m\u001b[39m*\u001b[39mkwargs)\n\u001b[0;32m     66\u001b[0m \u001b[39mexcept\u001b[39;00m \u001b[39mException\u001b[39;00m \u001b[39mas\u001b[39;00m e:\n\u001b[0;32m     67\u001b[0m     filtered_tb \u001b[39m=\u001b[39m _process_traceback_frames(e\u001b[39m.\u001b[39m__traceback__)\n",
            "File \u001b[1;32mc:\\Users\\1192k\\anaconda3\\envs\\sml1\\lib\\site-packages\\keras\\engine\\training.py:1564\u001b[0m, in \u001b[0;36mModel.fit\u001b[1;34m(self, x, y, batch_size, epochs, verbose, callbacks, validation_split, validation_data, shuffle, class_weight, sample_weight, initial_epoch, steps_per_epoch, validation_steps, validation_batch_size, validation_freq, max_queue_size, workers, use_multiprocessing)\u001b[0m\n\u001b[0;32m   1556\u001b[0m \u001b[39mwith\u001b[39;00m tf\u001b[39m.\u001b[39mprofiler\u001b[39m.\u001b[39mexperimental\u001b[39m.\u001b[39mTrace(\n\u001b[0;32m   1557\u001b[0m     \u001b[39m\"\u001b[39m\u001b[39mtrain\u001b[39m\u001b[39m\"\u001b[39m,\n\u001b[0;32m   1558\u001b[0m     epoch_num\u001b[39m=\u001b[39mepoch,\n\u001b[1;32m   (...)\u001b[0m\n\u001b[0;32m   1561\u001b[0m     _r\u001b[39m=\u001b[39m\u001b[39m1\u001b[39m,\n\u001b[0;32m   1562\u001b[0m ):\n\u001b[0;32m   1563\u001b[0m     callbacks\u001b[39m.\u001b[39mon_train_batch_begin(step)\n\u001b[1;32m-> 1564\u001b[0m     tmp_logs \u001b[39m=\u001b[39m \u001b[39mself\u001b[39;49m\u001b[39m.\u001b[39;49mtrain_function(iterator)\n\u001b[0;32m   1565\u001b[0m     \u001b[39mif\u001b[39;00m data_handler\u001b[39m.\u001b[39mshould_sync:\n\u001b[0;32m   1566\u001b[0m         context\u001b[39m.\u001b[39masync_wait()\n",
            "File \u001b[1;32mc:\\Users\\1192k\\anaconda3\\envs\\sml1\\lib\\site-packages\\tensorflow\\python\\util\\traceback_utils.py:150\u001b[0m, in \u001b[0;36mfilter_traceback.<locals>.error_handler\u001b[1;34m(*args, **kwargs)\u001b[0m\n\u001b[0;32m    148\u001b[0m filtered_tb \u001b[39m=\u001b[39m \u001b[39mNone\u001b[39;00m\n\u001b[0;32m    149\u001b[0m \u001b[39mtry\u001b[39;00m:\n\u001b[1;32m--> 150\u001b[0m   \u001b[39mreturn\u001b[39;00m fn(\u001b[39m*\u001b[39margs, \u001b[39m*\u001b[39m\u001b[39m*\u001b[39mkwargs)\n\u001b[0;32m    151\u001b[0m \u001b[39mexcept\u001b[39;00m \u001b[39mException\u001b[39;00m \u001b[39mas\u001b[39;00m e:\n\u001b[0;32m    152\u001b[0m   filtered_tb \u001b[39m=\u001b[39m _process_traceback_frames(e\u001b[39m.\u001b[39m__traceback__)\n",
            "File \u001b[1;32mc:\\Users\\1192k\\anaconda3\\envs\\sml1\\lib\\site-packages\\tensorflow\\python\\eager\\def_function.py:915\u001b[0m, in \u001b[0;36mFunction.__call__\u001b[1;34m(self, *args, **kwds)\u001b[0m\n\u001b[0;32m    912\u001b[0m compiler \u001b[39m=\u001b[39m \u001b[39m\"\u001b[39m\u001b[39mxla\u001b[39m\u001b[39m\"\u001b[39m \u001b[39mif\u001b[39;00m \u001b[39mself\u001b[39m\u001b[39m.\u001b[39m_jit_compile \u001b[39melse\u001b[39;00m \u001b[39m\"\u001b[39m\u001b[39mnonXla\u001b[39m\u001b[39m\"\u001b[39m\n\u001b[0;32m    914\u001b[0m \u001b[39mwith\u001b[39;00m OptionalXlaContext(\u001b[39mself\u001b[39m\u001b[39m.\u001b[39m_jit_compile):\n\u001b[1;32m--> 915\u001b[0m   result \u001b[39m=\u001b[39m \u001b[39mself\u001b[39m\u001b[39m.\u001b[39m_call(\u001b[39m*\u001b[39margs, \u001b[39m*\u001b[39m\u001b[39m*\u001b[39mkwds)\n\u001b[0;32m    917\u001b[0m new_tracing_count \u001b[39m=\u001b[39m \u001b[39mself\u001b[39m\u001b[39m.\u001b[39mexperimental_get_tracing_count()\n\u001b[0;32m    918\u001b[0m without_tracing \u001b[39m=\u001b[39m (tracing_count \u001b[39m==\u001b[39m new_tracing_count)\n",
            "File \u001b[1;32mc:\\Users\\1192k\\anaconda3\\envs\\sml1\\lib\\site-packages\\tensorflow\\python\\eager\\def_function.py:947\u001b[0m, in \u001b[0;36mFunction._call\u001b[1;34m(self, *args, **kwds)\u001b[0m\n\u001b[0;32m    944\u001b[0m   \u001b[39mself\u001b[39m\u001b[39m.\u001b[39m_lock\u001b[39m.\u001b[39mrelease()\n\u001b[0;32m    945\u001b[0m   \u001b[39m# In this case we have created variables on the first call, so we run the\u001b[39;00m\n\u001b[0;32m    946\u001b[0m   \u001b[39m# defunned version which is guaranteed to never create variables.\u001b[39;00m\n\u001b[1;32m--> 947\u001b[0m   \u001b[39mreturn\u001b[39;00m \u001b[39mself\u001b[39m\u001b[39m.\u001b[39m_stateless_fn(\u001b[39m*\u001b[39margs, \u001b[39m*\u001b[39m\u001b[39m*\u001b[39mkwds)  \u001b[39m# pylint: disable=not-callable\u001b[39;00m\n\u001b[0;32m    948\u001b[0m \u001b[39melif\u001b[39;00m \u001b[39mself\u001b[39m\u001b[39m.\u001b[39m_stateful_fn \u001b[39mis\u001b[39;00m \u001b[39mnot\u001b[39;00m \u001b[39mNone\u001b[39;00m:\n\u001b[0;32m    949\u001b[0m   \u001b[39m# Release the lock early so that multiple threads can perform the call\u001b[39;00m\n\u001b[0;32m    950\u001b[0m   \u001b[39m# in parallel.\u001b[39;00m\n\u001b[0;32m    951\u001b[0m   \u001b[39mself\u001b[39m\u001b[39m.\u001b[39m_lock\u001b[39m.\u001b[39mrelease()\n",
            "File \u001b[1;32mc:\\Users\\1192k\\anaconda3\\envs\\sml1\\lib\\site-packages\\tensorflow\\python\\eager\\function.py:2496\u001b[0m, in \u001b[0;36mFunction.__call__\u001b[1;34m(self, *args, **kwargs)\u001b[0m\n\u001b[0;32m   2493\u001b[0m \u001b[39mwith\u001b[39;00m \u001b[39mself\u001b[39m\u001b[39m.\u001b[39m_lock:\n\u001b[0;32m   2494\u001b[0m   (graph_function,\n\u001b[0;32m   2495\u001b[0m    filtered_flat_args) \u001b[39m=\u001b[39m \u001b[39mself\u001b[39m\u001b[39m.\u001b[39m_maybe_define_function(args, kwargs)\n\u001b[1;32m-> 2496\u001b[0m \u001b[39mreturn\u001b[39;00m graph_function\u001b[39m.\u001b[39;49m_call_flat(\n\u001b[0;32m   2497\u001b[0m     filtered_flat_args, captured_inputs\u001b[39m=\u001b[39;49mgraph_function\u001b[39m.\u001b[39;49mcaptured_inputs)\n",
            "File \u001b[1;32mc:\\Users\\1192k\\anaconda3\\envs\\sml1\\lib\\site-packages\\tensorflow\\python\\eager\\function.py:1862\u001b[0m, in \u001b[0;36mConcreteFunction._call_flat\u001b[1;34m(self, args, captured_inputs, cancellation_manager)\u001b[0m\n\u001b[0;32m   1858\u001b[0m possible_gradient_type \u001b[39m=\u001b[39m gradients_util\u001b[39m.\u001b[39mPossibleTapeGradientTypes(args)\n\u001b[0;32m   1859\u001b[0m \u001b[39mif\u001b[39;00m (possible_gradient_type \u001b[39m==\u001b[39m gradients_util\u001b[39m.\u001b[39mPOSSIBLE_GRADIENT_TYPES_NONE\n\u001b[0;32m   1860\u001b[0m     \u001b[39mand\u001b[39;00m executing_eagerly):\n\u001b[0;32m   1861\u001b[0m   \u001b[39m# No tape is watching; skip to running the function.\u001b[39;00m\n\u001b[1;32m-> 1862\u001b[0m   \u001b[39mreturn\u001b[39;00m \u001b[39mself\u001b[39m\u001b[39m.\u001b[39m_build_call_outputs(\u001b[39mself\u001b[39;49m\u001b[39m.\u001b[39;49m_inference_function\u001b[39m.\u001b[39;49mcall(\n\u001b[0;32m   1863\u001b[0m       ctx, args, cancellation_manager\u001b[39m=\u001b[39;49mcancellation_manager))\n\u001b[0;32m   1864\u001b[0m forward_backward \u001b[39m=\u001b[39m \u001b[39mself\u001b[39m\u001b[39m.\u001b[39m_select_forward_and_backward_functions(\n\u001b[0;32m   1865\u001b[0m     args,\n\u001b[0;32m   1866\u001b[0m     possible_gradient_type,\n\u001b[0;32m   1867\u001b[0m     executing_eagerly)\n\u001b[0;32m   1868\u001b[0m forward_function, args_with_tangents \u001b[39m=\u001b[39m forward_backward\u001b[39m.\u001b[39mforward()\n",
            "File \u001b[1;32mc:\\Users\\1192k\\anaconda3\\envs\\sml1\\lib\\site-packages\\tensorflow\\python\\eager\\function.py:499\u001b[0m, in \u001b[0;36m_EagerDefinedFunction.call\u001b[1;34m(self, ctx, args, cancellation_manager)\u001b[0m\n\u001b[0;32m    497\u001b[0m \u001b[39mwith\u001b[39;00m _InterpolateFunctionError(\u001b[39mself\u001b[39m):\n\u001b[0;32m    498\u001b[0m   \u001b[39mif\u001b[39;00m cancellation_manager \u001b[39mis\u001b[39;00m \u001b[39mNone\u001b[39;00m:\n\u001b[1;32m--> 499\u001b[0m     outputs \u001b[39m=\u001b[39m execute\u001b[39m.\u001b[39;49mexecute(\n\u001b[0;32m    500\u001b[0m         \u001b[39mstr\u001b[39;49m(\u001b[39mself\u001b[39;49m\u001b[39m.\u001b[39;49msignature\u001b[39m.\u001b[39;49mname),\n\u001b[0;32m    501\u001b[0m         num_outputs\u001b[39m=\u001b[39;49m\u001b[39mself\u001b[39;49m\u001b[39m.\u001b[39;49m_num_outputs,\n\u001b[0;32m    502\u001b[0m         inputs\u001b[39m=\u001b[39;49margs,\n\u001b[0;32m    503\u001b[0m         attrs\u001b[39m=\u001b[39;49mattrs,\n\u001b[0;32m    504\u001b[0m         ctx\u001b[39m=\u001b[39;49mctx)\n\u001b[0;32m    505\u001b[0m   \u001b[39melse\u001b[39;00m:\n\u001b[0;32m    506\u001b[0m     outputs \u001b[39m=\u001b[39m execute\u001b[39m.\u001b[39mexecute_with_cancellation(\n\u001b[0;32m    507\u001b[0m         \u001b[39mstr\u001b[39m(\u001b[39mself\u001b[39m\u001b[39m.\u001b[39msignature\u001b[39m.\u001b[39mname),\n\u001b[0;32m    508\u001b[0m         num_outputs\u001b[39m=\u001b[39m\u001b[39mself\u001b[39m\u001b[39m.\u001b[39m_num_outputs,\n\u001b[1;32m   (...)\u001b[0m\n\u001b[0;32m    511\u001b[0m         ctx\u001b[39m=\u001b[39mctx,\n\u001b[0;32m    512\u001b[0m         cancellation_manager\u001b[39m=\u001b[39mcancellation_manager)\n",
            "File \u001b[1;32mc:\\Users\\1192k\\anaconda3\\envs\\sml1\\lib\\site-packages\\tensorflow\\python\\eager\\execute.py:54\u001b[0m, in \u001b[0;36mquick_execute\u001b[1;34m(op_name, num_outputs, inputs, attrs, ctx, name)\u001b[0m\n\u001b[0;32m     52\u001b[0m \u001b[39mtry\u001b[39;00m:\n\u001b[0;32m     53\u001b[0m   ctx\u001b[39m.\u001b[39mensure_initialized()\n\u001b[1;32m---> 54\u001b[0m   tensors \u001b[39m=\u001b[39m pywrap_tfe\u001b[39m.\u001b[39;49mTFE_Py_Execute(ctx\u001b[39m.\u001b[39;49m_handle, device_name, op_name,\n\u001b[0;32m     55\u001b[0m                                       inputs, attrs, num_outputs)\n\u001b[0;32m     56\u001b[0m \u001b[39mexcept\u001b[39;00m core\u001b[39m.\u001b[39m_NotOkStatusException \u001b[39mas\u001b[39;00m e:\n\u001b[0;32m     57\u001b[0m   \u001b[39mif\u001b[39;00m name \u001b[39mis\u001b[39;00m \u001b[39mnot\u001b[39;00m \u001b[39mNone\u001b[39;00m:\n",
            "\u001b[1;31mKeyboardInterrupt\u001b[0m: "
          ]
        }
      ],
      "source": [
        "# Train the model with the optimal hyperparameters and run the trained model on the test set\n",
        "model = tuner.hypermodel.build(best_hps)\n",
        "history = model.fit(input_X_train, output_Y_train, epochs=50, validation_split=VALIDATION_SPLIT, callbacks=[stop_early])\n"
      ]
    },
    {
      "cell_type": "code",
      "execution_count": null,
      "metadata": {},
      "outputs": [],
      "source": [
        "\n",
        "val_acc_per_epoch = history.history['val_accuracy']\n",
        "best_epoch = val_acc_per_epoch.index(max(val_acc_per_epoch)) + 1\n",
        "print('Best epoch: %d' % (best_epoch,))"
      ]
    },
    {
      "cell_type": "markdown",
      "metadata": {
        "id": "v-Mzs-L7IpkZ"
      },
      "source": [
        "Data Augmentation\n",
        "-------------\n",
        "\n",
        "To further improve the performance of the model, it is advisable to use a larger training set, to expose the network to more variations of the images.\n",
        "One way to achieve this, without having to collect new images from the real world, is to __augment__ the existing images with multiple types of transformations of the dataset stimuli. This can include rotation of the image, rescaling, horizontal/vertical flip, zooming, channel shift, etc.\n",
        "\n",
        "Below is an example of the code that augments the current datase.\n",
        "\n",
        "\n"
      ]
    },
    {
      "cell_type": "code",
      "execution_count": 14,
      "metadata": {
        "colab": {
          "base_uri": "https://localhost:8080/"
        },
        "id": "-85_nYLXIpkZ",
        "outputId": "5a395f4a-4765-4dbc-ee9b-e7df04a05705"
      },
      "outputs": [
        {
          "name": "stdout",
          "output_type": "stream",
          "text": [
            "Augmenting training set images...\n"
          ]
        }
      ],
      "source": [
        "from tensorflow.keras.preprocessing.image import ImageDataGenerator\n",
        "#from keras.datasets import cifar10\n",
        "\n",
        "#load dataset\n",
        "#(input_X_train, output_y_train), (input_X_test, output_y_test) = cifar10.load_data()\n",
        "\n",
        "# augumenting\n",
        "print(\"Augmenting training set images...\")\n",
        "    \n",
        "datagen = ImageDataGenerator(\n",
        "   rotation_range=40,\n",
        "   width_shift_range=0.2,\n",
        "   height_shift_range=0.2,\n",
        "   zoom_range=0.2,\n",
        "   horizontal_flip=True,\n",
        "   fill_mode='nearest')\n",
        "\n",
        "# rotation_range is a value in degrees (0 - 180) for randomly rotating pictures\n",
        "# width_shift and height_shift are ranges for randomly translating pictures vertically or horizontally\n",
        "# zoom_range is for randomly zooming pictures \n",
        "# horizontal_flip is for randomly flipping the images horizontally\n",
        "# fill_mode fills in new pixels that can appear after a rotation or a shift\n"
      ]
    },
    {
      "cell_type": "markdown",
      "metadata": {
        "id": "yWIpifR4Ipkc"
      },
      "source": [
        "__Training with augmented data__\n",
        "\n",
        "The function below used the dynamic generation of the augmented data during the training (just in time)."
      ]
    },
    {
      "cell_type": "code",
      "execution_count": 15,
      "metadata": {
        "colab": {
          "base_uri": "https://localhost:8080/"
        },
        "id": "kd_JgZM9Ipkd",
        "outputId": "a1ba44e7-87da-40a8-8aee-6fdcb702bf00"
      },
      "outputs": [
        {
          "name": "stdout",
          "output_type": "stream",
          "text": [
            "Epoch 1/40\n"
          ]
        },
        {
          "name": "stderr",
          "output_type": "stream",
          "text": [
            "C:\\Users\\1192k\\AppData\\Local\\Temp\\ipykernel_31684\\3979763547.py:6: UserWarning: `Model.fit_generator` is deprecated and will be removed in a future version. Please use `Model.fit`, which supports generators.\n",
            "  history = model.fit_generator(datagen.flow(input_X_train, output_Y_train, batch_size=BATCH_SIZE), steps_per_epoch=input_X_train.shape[0]//BATCH_SIZE, epochs=N_EPOCH, verbose=VERBOSE)\n"
          ]
        },
        {
          "name": "stdout",
          "output_type": "stream",
          "text": [
            "390/390 [==============================] - 33s 83ms/step - loss: 1.4824 - accuracy: 0.4856\n",
            "Epoch 2/40\n",
            "390/390 [==============================] - 35s 91ms/step - loss: 1.4329 - accuracy: 0.5044\n",
            "Epoch 3/40\n",
            "390/390 [==============================] - 33s 84ms/step - loss: 1.4105 - accuracy: 0.5091\n",
            "Epoch 4/40\n",
            "390/390 [==============================] - 34s 86ms/step - loss: 1.3955 - accuracy: 0.5158\n",
            "Epoch 5/40\n",
            "390/390 [==============================] - 33s 83ms/step - loss: 1.3896 - accuracy: 0.5172\n",
            "Epoch 6/40\n",
            "390/390 [==============================] - 34s 87ms/step - loss: 1.3759 - accuracy: 0.5230\n",
            "Epoch 7/40\n",
            "390/390 [==============================] - 33s 84ms/step - loss: 1.3629 - accuracy: 0.5234\n",
            "Epoch 8/40\n",
            "390/390 [==============================] - 33s 86ms/step - loss: 1.3598 - accuracy: 0.5264\n",
            "Epoch 9/40\n",
            "390/390 [==============================] - 33s 85ms/step - loss: 1.3548 - accuracy: 0.5276\n",
            "Epoch 10/40\n",
            "390/390 [==============================] - 34s 87ms/step - loss: 1.3509 - accuracy: 0.5286\n",
            "Epoch 11/40\n",
            "390/390 [==============================] - 33s 85ms/step - loss: 1.3426 - accuracy: 0.5290\n",
            "Epoch 12/40\n",
            "390/390 [==============================] - 33s 84ms/step - loss: 1.3397 - accuracy: 0.5332\n",
            "Epoch 13/40\n",
            "390/390 [==============================] - 38s 97ms/step - loss: 1.3304 - accuracy: 0.5397\n",
            "Epoch 14/40\n",
            "390/390 [==============================] - 35s 89ms/step - loss: 1.3360 - accuracy: 0.5389\n",
            "Epoch 15/40\n",
            "390/390 [==============================] - 33s 85ms/step - loss: 1.3267 - accuracy: 0.5396\n",
            "Epoch 16/40\n",
            "390/390 [==============================] - 33s 85ms/step - loss: 1.3235 - accuracy: 0.5402\n",
            "Epoch 17/40\n",
            "390/390 [==============================] - 35s 89ms/step - loss: 1.3241 - accuracy: 0.5420\n",
            "Epoch 18/40\n",
            "390/390 [==============================] - 35s 89ms/step - loss: 1.3209 - accuracy: 0.5425\n",
            "Epoch 19/40\n",
            "390/390 [==============================] - 33s 85ms/step - loss: 1.3243 - accuracy: 0.5393\n",
            "Epoch 20/40\n",
            "390/390 [==============================] - 33s 84ms/step - loss: 1.3296 - accuracy: 0.5399\n",
            "Epoch 21/40\n",
            "390/390 [==============================] - 35s 90ms/step - loss: 1.3244 - accuracy: 0.5408\n",
            "Epoch 22/40\n",
            "390/390 [==============================] - 35s 89ms/step - loss: 1.3161 - accuracy: 0.5434\n",
            "Epoch 23/40\n",
            "390/390 [==============================] - 33s 85ms/step - loss: 1.3116 - accuracy: 0.5427\n",
            "Epoch 24/40\n",
            "390/390 [==============================] - 33s 85ms/step - loss: 1.3146 - accuracy: 0.5481\n",
            "Epoch 25/40\n",
            "390/390 [==============================] - 35s 89ms/step - loss: 1.3148 - accuracy: 0.5421\n",
            "Epoch 26/40\n",
            "390/390 [==============================] - 35s 89ms/step - loss: 1.3068 - accuracy: 0.5447\n",
            "Epoch 27/40\n",
            "390/390 [==============================] - 33s 84ms/step - loss: 1.3155 - accuracy: 0.5400\n",
            "Epoch 28/40\n",
            "390/390 [==============================] - 33s 85ms/step - loss: 1.3086 - accuracy: 0.5467\n",
            "Epoch 29/40\n",
            "390/390 [==============================] - 34s 88ms/step - loss: 1.3207 - accuracy: 0.5405\n",
            "Epoch 30/40\n",
            "390/390 [==============================] - 35s 89ms/step - loss: 1.3201 - accuracy: 0.5416\n",
            "Epoch 31/40\n",
            "390/390 [==============================] - 33s 84ms/step - loss: 1.3164 - accuracy: 0.5436\n",
            "Epoch 32/40\n",
            "390/390 [==============================] - 33s 85ms/step - loss: 1.3223 - accuracy: 0.5408\n",
            "Epoch 33/40\n",
            "390/390 [==============================] - 35s 89ms/step - loss: 1.3172 - accuracy: 0.5426\n",
            "Epoch 34/40\n",
            "390/390 [==============================] - 35s 88ms/step - loss: 1.3227 - accuracy: 0.5424\n",
            "Epoch 35/40\n",
            "390/390 [==============================] - 33s 84ms/step - loss: 1.3207 - accuracy: 0.5429\n",
            "Epoch 36/40\n",
            "390/390 [==============================] - 33s 85ms/step - loss: 1.3183 - accuracy: 0.5421\n",
            "Epoch 37/40\n",
            "390/390 [==============================] - 34s 86ms/step - loss: 1.3191 - accuracy: 0.5393\n",
            "Epoch 38/40\n",
            "390/390 [==============================] - 35s 89ms/step - loss: 1.3198 - accuracy: 0.5453\n",
            "Epoch 39/40\n",
            "390/390 [==============================] - 33s 84ms/step - loss: 1.3271 - accuracy: 0.5395\n",
            "Epoch 40/40\n",
            "390/390 [==============================] - 33s 85ms/step - loss: 1.3250 - accuracy: 0.5403\n"
          ]
        }
      ],
      "source": [
        "\n",
        "#fit the dataset\n",
        "datagen.fit(input_X_train)\n",
        "\n",
        "\n",
        "# train by fitting the model on batches with real-time data augmentation\n",
        "history = model.fit_generator(datagen.flow(input_X_train, output_Y_train, batch_size=BATCH_SIZE), steps_per_epoch=input_X_train.shape[0]//BATCH_SIZE, epochs=N_EPOCH, verbose=VERBOSE)\n",
        "\n"
      ]
    },
    {
      "cell_type": "markdown",
      "metadata": {
        "id": "Y0ZLORlPIpkh"
      },
      "source": [
        "**Analysis of the Data Augmented, Deeper CNN results**\n",
        "\n",
        "This generates the test scores and plots for the deeper DNN trained on the augmented data."
      ]
    },
    {
      "cell_type": "code",
      "execution_count": 16,
      "metadata": {
        "colab": {
          "base_uri": "https://localhost:8080/",
          "height": 660
        },
        "id": "BxZG9aM2Ipki",
        "outputId": "f933118e-27aa-4a70-ac96-e2313d2e435a"
      },
      "outputs": [
        {
          "name": "stdout",
          "output_type": "stream",
          "text": [
            "79/79 [==============================] - 1s 16ms/step - loss: 1.1579 - accuracy: 0.5841\n",
            "\n",
            "Test score/loss: 1.1578571796417236\n",
            "Test accuracy: 0.5841000080108643\n",
            "dict_keys(['loss', 'accuracy'])\n"
          ]
        },
        {
          "data": {
            "image/png": "[encoded data removed]",
            "text/plain": [
              "<Figure size 640x480 with 1 Axes>"
            ]
          },
          "metadata": {},
          "output_type": "display_data"
        },
        {
          "data": {
            "image/png": "[encoded data removed]",
            "text/plain": [
              "<Figure size 640x480 with 1 Axes>"
            ]
          },
          "metadata": {},
          "output_type": "display_data"
        }
      ],
      "source": [
        "#Testing\n",
        "score = model.evaluate(input_X_test, output_Y_test, batch_size=BATCH_SIZE, verbose=VERBOSE)\n",
        "print(\"\\nTest score/loss:\", score[0])\n",
        "print('Test accuracy:', score[1])\n",
        "\n",
        "# list all data in history\n",
        "print(history.history.keys())\n",
        "\n",
        "# summarize history for accuracy\n",
        "#plt.plot(mo)\n",
        "plt.plot(history.history['accuracy'])\n",
        "plt.title('model accuracy')\n",
        "plt.ylabel('accuracy')\n",
        "plt.xlabel('epoch')\n",
        "plt.legend(['train', 'test'], loc='upper left')\n",
        "plt.show()\n",
        "\n",
        "# summarize history for loss\n",
        "plt.plot(history.history['loss'])\n",
        "plt.title('model loss')\n",
        "plt.ylabel('loss')\n",
        "plt.xlabel('epoch')\n",
        "plt.legend(['train', 'test'], loc='upper left')\n",
        "plt.show()\n",
        "\n"
      ]
    },
    {
      "cell_type": "code",
      "execution_count": 20,
      "metadata": {},
      "outputs": [
        {
          "name": "stderr",
          "output_type": "stream",
          "text": [
            "C:\\Users\\1192k\\AppData\\Local\\Temp\\ipykernel_31684\\3542207279.py:8: UserWarning: `Model.fit_generator` is deprecated and will be removed in a future version. Please use `Model.fit`, which supports generators.\n",
            "  history = model.fit_generator(datagen.flow(X_train, Y_train, batch_size=BATCH_SIZE),\n"
          ]
        },
        {
          "name": "stdout",
          "output_type": "stream",
          "text": [
            "Epoch 1/40\n",
            "312/312 [==============================] - 34s 109ms/step - loss: 1.1027 - accuracy: 0.6200 - val_loss: 0.9239 - val_accuracy: 0.6679\n",
            "Epoch 2/40\n",
            "312/312 [==============================] - 38s 121ms/step - loss: 1.0804 - accuracy: 0.6296 - val_loss: 0.8757 - val_accuracy: 0.6913\n",
            "Epoch 3/40\n",
            "312/312 [==============================] - 33s 104ms/step - loss: 1.0778 - accuracy: 0.6337 - val_loss: 0.8734 - val_accuracy: 0.6931\n",
            "Epoch 4/40\n",
            "312/312 [==============================] - 31s 99ms/step - loss: 1.0687 - accuracy: 0.6339 - val_loss: 1.0162 - val_accuracy: 0.6454\n",
            "Epoch 5/40\n",
            "312/312 [==============================] - 32s 102ms/step - loss: 1.0604 - accuracy: 0.6353 - val_loss: 0.9898 - val_accuracy: 0.6536\n",
            "Epoch 6/40\n",
            "312/312 [==============================] - 30s 97ms/step - loss: 1.0576 - accuracy: 0.6375 - val_loss: 0.9435 - val_accuracy: 0.6722\n",
            "Epoch 7/40\n",
            "312/312 [==============================] - 32s 102ms/step - loss: 1.0495 - accuracy: 0.6403 - val_loss: 0.9529 - val_accuracy: 0.6687\n",
            "Epoch 8/40\n",
            "312/312 [==============================] - 31s 99ms/step - loss: 1.0467 - accuracy: 0.6400 - val_loss: 0.9283 - val_accuracy: 0.6746\n",
            "Epoch 9/40\n",
            "312/312 [==============================] - 31s 98ms/step - loss: 1.0551 - accuracy: 0.6392 - val_loss: 0.8632 - val_accuracy: 0.6991\n",
            "Epoch 10/40\n",
            "312/312 [==============================] - 34s 107ms/step - loss: 1.0455 - accuracy: 0.6422 - val_loss: 0.9759 - val_accuracy: 0.6508\n",
            "Epoch 11/40\n",
            "312/312 [==============================] - 31s 99ms/step - loss: 1.0430 - accuracy: 0.6443 - val_loss: 0.9648 - val_accuracy: 0.6685\n",
            "Epoch 12/40\n",
            "312/312 [==============================] - 32s 103ms/step - loss: 1.0506 - accuracy: 0.6376 - val_loss: 1.0239 - val_accuracy: 0.6460\n",
            "Epoch 13/40\n",
            "312/312 [==============================] - 33s 104ms/step - loss: 1.0480 - accuracy: 0.6427 - val_loss: 0.8646 - val_accuracy: 0.6954\n",
            "Epoch 14/40\n",
            "312/312 [==============================] - 30s 97ms/step - loss: 1.0481 - accuracy: 0.6429 - val_loss: 0.8958 - val_accuracy: 0.6860\n",
            "Epoch 15/40\n",
            "312/312 [==============================] - 30s 97ms/step - loss: 1.0491 - accuracy: 0.6429 - val_loss: 0.9256 - val_accuracy: 0.6789\n",
            "Epoch 16/40\n",
            "312/312 [==============================] - 31s 100ms/step - loss: 1.0517 - accuracy: 0.6410 - val_loss: 0.9111 - val_accuracy: 0.6743\n",
            "Epoch 17/40\n",
            "312/312 [==============================] - 31s 98ms/step - loss: 1.0395 - accuracy: 0.6445 - val_loss: 0.8960 - val_accuracy: 0.6810\n",
            "Epoch 18/40\n",
            "312/312 [==============================] - 31s 100ms/step - loss: 1.0442 - accuracy: 0.6439 - val_loss: 0.8791 - val_accuracy: 0.6900\n",
            "Epoch 19/40\n",
            "312/312 [==============================] - 32s 101ms/step - loss: 1.0483 - accuracy: 0.6442 - val_loss: 0.8545 - val_accuracy: 0.7045\n",
            "Epoch 20/40\n",
            "312/312 [==============================] - 32s 103ms/step - loss: 1.0441 - accuracy: 0.6444 - val_loss: 0.9038 - val_accuracy: 0.6758\n",
            "Epoch 21/40\n",
            "312/312 [==============================] - 36s 114ms/step - loss: 1.0365 - accuracy: 0.6437 - val_loss: 1.0039 - val_accuracy: 0.6581\n",
            "Epoch 22/40\n",
            "312/312 [==============================] - 32s 101ms/step - loss: 1.0416 - accuracy: 0.6448 - val_loss: 0.8994 - val_accuracy: 0.6847\n",
            "Epoch 23/40\n",
            "312/312 [==============================] - 31s 99ms/step - loss: 1.0471 - accuracy: 0.6449 - val_loss: 1.4119 - val_accuracy: 0.5694\n",
            "Epoch 24/40\n",
            "312/312 [==============================] - 32s 101ms/step - loss: 1.0525 - accuracy: 0.6434 - val_loss: 1.0425 - val_accuracy: 0.6374\n",
            "Epoch 25/40\n",
            "312/312 [==============================] - 34s 108ms/step - loss: 1.0474 - accuracy: 0.6411 - val_loss: 0.8570 - val_accuracy: 0.6996\n",
            "Epoch 26/40\n",
            "312/312 [==============================] - 35s 111ms/step - loss: 1.0434 - accuracy: 0.6444 - val_loss: 0.9229 - val_accuracy: 0.6810\n",
            "Epoch 27/40\n",
            "312/312 [==============================] - 33s 106ms/step - loss: 1.0420 - accuracy: 0.6443 - val_loss: 0.9755 - val_accuracy: 0.6733\n",
            "Epoch 28/40\n",
            "312/312 [==============================] - 32s 102ms/step - loss: 1.0529 - accuracy: 0.6413 - val_loss: 0.9355 - val_accuracy: 0.6770\n",
            "Epoch 29/40\n",
            "312/312 [==============================] - 39s 126ms/step - loss: 1.0525 - accuracy: 0.6420 - val_loss: 0.8456 - val_accuracy: 0.7004\n",
            "Epoch 30/40\n",
            "312/312 [==============================] - 32s 101ms/step - loss: 1.0513 - accuracy: 0.6411 - val_loss: 0.8425 - val_accuracy: 0.7077\n",
            "Epoch 31/40\n",
            "312/312 [==============================] - 31s 101ms/step - loss: 1.0587 - accuracy: 0.6406 - val_loss: 0.9995 - val_accuracy: 0.6508\n",
            "Epoch 32/40\n",
            "312/312 [==============================] - 35s 111ms/step - loss: 1.0525 - accuracy: 0.6430 - val_loss: 0.9025 - val_accuracy: 0.6772\n",
            "Epoch 33/40\n",
            "312/312 [==============================] - 32s 103ms/step - loss: 1.0477 - accuracy: 0.6431 - val_loss: 0.8822 - val_accuracy: 0.6905\n",
            "Epoch 34/40\n",
            "312/312 [==============================] - 35s 111ms/step - loss: 1.0503 - accuracy: 0.6418 - val_loss: 0.9265 - val_accuracy: 0.6725\n",
            "Epoch 35/40\n",
            "312/312 [==============================] - 31s 98ms/step - loss: 1.0601 - accuracy: 0.6431 - val_loss: 0.9358 - val_accuracy: 0.6721\n",
            "Epoch 36/40\n",
            "312/312 [==============================] - 30s 97ms/step - loss: 1.0567 - accuracy: 0.6396 - val_loss: 0.8827 - val_accuracy: 0.6928\n",
            "Epoch 37/40\n",
            "312/312 [==============================] - 33s 105ms/step - loss: 1.0578 - accuracy: 0.6403 - val_loss: 0.8723 - val_accuracy: 0.6945\n",
            "Epoch 38/40\n",
            "312/312 [==============================] - 31s 98ms/step - loss: 1.0540 - accuracy: 0.6433 - val_loss: 0.8606 - val_accuracy: 0.7006\n",
            "Epoch 39/40\n",
            "312/312 [==============================] - 31s 99ms/step - loss: 1.0527 - accuracy: 0.6440 - val_loss: 1.1705 - val_accuracy: 0.6226\n",
            "Epoch 40/40\n",
            "312/312 [==============================] - 32s 102ms/step - loss: 1.0565 - accuracy: 0.6423 - val_loss: 0.8407 - val_accuracy: 0.7080\n"
          ]
        }
      ],
      "source": [
        "# want to add val plot\n",
        "from sklearn.model_selection import train_test_split\n",
        "\n",
        "# Split the data into training and validation sets\n",
        "X_train, X_val, Y_train, Y_val = train_test_split(input_X_train, output_Y_train, test_size=VALIDATION_SPLIT, random_state=42)\n",
        "\n",
        "# Train the model using data augmentation and validation data\n",
        "history = model.fit_generator(datagen.flow(X_train, Y_train, batch_size=BATCH_SIZE),\n",
        "                              steps_per_epoch=X_train.shape[0]//BATCH_SIZE,\n",
        "                              epochs=N_EPOCH,\n",
        "                              verbose=VERBOSE,\n",
        "                              validation_data=(X_val, Y_val))\n"
      ]
    },
    {
      "cell_type": "code",
      "execution_count": 25,
      "metadata": {},
      "outputs": [
        {
          "name": "stdout",
          "output_type": "stream",
          "text": [
            "79/79 [==============================] - 2s 20ms/step - loss: 0.8564 - accuracy: 0.7051\n",
            "\n",
            "Test score/loss: 0.8564433455467224\n",
            "Test accuracy: 0.7050999999046326\n",
            "dict_keys(['loss', 'accuracy', 'val_loss', 'val_accuracy'])\n"
          ]
        },
        {
          "data": {
            "image/png": "[encoded data removed]",
            "text/plain": [
              "<Figure size 640x480 with 1 Axes>"
            ]
          },
          "metadata": {},
          "output_type": "display_data"
        },
        {
          "data": {
            "image/png": "[encoded data removed]",
            "text/plain": [
              "<Figure size 640x480 with 1 Axes>"
            ]
          },
          "metadata": {},
          "output_type": "display_data"
        }
      ],
      "source": [
        "# Plot with validation data\n",
        "#Testing\n",
        "score = model.evaluate(input_X_test, output_Y_test, batch_size=BATCH_SIZE, verbose=VERBOSE)\n",
        "print(\"\\nTest score/loss:\", score[0])\n",
        "print('Test accuracy:', score[1])\n",
        "\n",
        "# list all data in history\n",
        "print(history.history.keys())\n",
        "\n",
        "# summarize history for accuracy\n",
        "#plt.plot(mo)\n",
        "plt.plot(history.history['accuracy'])\n",
        "plt.plot(history.history['val_accuracy'])\n",
        "plt.title('model accuracy')\n",
        "plt.ylabel('accuracy')\n",
        "plt.xlabel('epoch')\n",
        "plt.legend(['train', 'test'], loc='upper left')\n",
        "plt.show()\n",
        "\n",
        "# summarize history for loss\n",
        "plt.plot(history.history['loss'])\n",
        "plt.plot(history.history['val_loss'])\n",
        "plt.title('model loss')\n",
        "plt.ylabel('loss')\n",
        "plt.xlabel('epoch')\n",
        "plt.legend(['train', 'test'], loc='upper left')\n",
        "plt.show()\n",
        "\n"
      ]
    },
    {
      "cell_type": "markdown",
      "metadata": {
        "id": "4Bwi-kLYIpkl"
      },
      "source": [
        "Below is a commented different example of a data augmentation approach. \n",
        "\n",
        "But we have carried out plenty of slow, long simulations for this class, and we can stop here."
      ]
    },
    {
      "cell_type": "code",
      "execution_count": 17,
      "metadata": {
        "id": "q_JAWfc4Ipkm"
      },
      "outputs": [],
      "source": [
        "\n",
        "from tensorflow.keras.preprocessing.image import ImageDataGenerator\n",
        "\n",
        "datagen = ImageDataGenerator(\n",
        "        featurewise_center=False,  # set input mean to 0 over the dataset\n",
        "        samplewise_center=False,  # set each sample mean to 0\n",
        "        featurewise_std_normalization=False,  # divide inputs by std of the dataset\n",
        "        samplewise_std_normalization=False,  # divide each input by its std\n",
        "        zca_whitening=False,  # apply ZCA whitening\n",
        "        rotation_range=0,  # randomly rotate images in the range (degrees, 0 to 180)\n",
        "        width_shift_range=0.1,  # randomly shift images horizontally (fraction of total width)\n",
        "        height_shift_range=0.1,  # randomly shift images vertically (fraction of total height)\n",
        "        horizontal_flip=True,  # randomly flip images\n",
        "        vertical_flip=False)  # randomly flip images\n",
        "\n",
        "datagen.fit(input_X_train)"
      ]
    },
    {
      "cell_type": "markdown",
      "metadata": {
        "id": "ouCjBST_Ipkq"
      },
      "source": [
        "Conclusions\n",
        "-------------\n",
        "\n",
        "Today we learned to train more complex DNNs, and to use data augmentation to further improve the network training and performance.\n",
        "\n",
        "**Copyright (c)** 2022 Angelo Cangelosi, MIT License. Code and examples adapted from Gulli & Pal (2017) Deep Learning with Kera. Punkt Publishing. With support from Wenjie Huang."
      ]
    }
  ],
  "metadata": {
    "accelerator": "GPU",
    "colab": {
      "provenance": []
    },
    "kernelspec": {
      "display_name": "Python 3 (ipykernel)",
      "language": "python",
      "name": "python3"
    },
    "language_info": {
      "codemirror_mode": {
        "name": "ipython",
        "version": 3
      },
      "file_extension": ".py",
      "mimetype": "text/x-python",
      "name": "python",
      "nbconvert_exporter": "python",
      "pygments_lexer": "ipython3",
      "version": "3.9.7"
    }
  },
  "nbformat": 4,
  "nbformat_minor": 0
}
