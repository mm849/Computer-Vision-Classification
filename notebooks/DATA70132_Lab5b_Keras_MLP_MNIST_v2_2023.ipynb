{
  "cells": [
    {
      "cell_type": "markdown",
      "metadata": {
        "id": "WWWn1oMdMP0d"
      },
      "source": [
        "MLP for Complex Problems: The MNIST dataset\n",
        "=========\n",
        "\n",
        "\n",
        "In this exercise we will first learn to use the simple perceptron network (input-output layers only) and a Multi-Layer Perceptron (MLP, with one or more hidden layers). To make the task more interesting than the XOR problem, we will be using a more complex training set. This will be the MNIST dataset, a well known neural network problem for the recognition of the 10 handwritten characters from 0 to 9 ([MNIST](http://yann.lecun.com/exdb/mnist/)).\n",
        "\n",
        "This exercise is based on the  Gulli & Pal (2017) 'Deep Learning with Keras' textbook, with some additional code to help us understand and test the programme.\n"
      ]
    },
    {
      "cell_type": "markdown",
      "metadata": {
        "id": "ezwPEU5UMP0o"
      },
      "source": [
        "**Importing the libraries and defining the main training parameters**\n",
        "\n",
        "The initial code is necessary to prepare the data and the simulation (hyper)parameters.\n",
        "We first import numpy. In our case we will use it to create and pre-process the array of the training data sets. We then import a few functions from Keras (we used some of these in our previous XOR exercise). The matplotlib library will be used for visualising some MNIST images and the plot of the training results.\n",
        "\n",
        "The code also defines the variables for some of the main parameters used throughout this program. \n",
        "The random seed definition is also important to be able to repeat the same parameter configuration."
      ]
    },
    {
      "cell_type": "code",
      "execution_count": 2,
      "metadata": {
        "id": "YpM98ckGMP0u"
      },
      "outputs": [],
      "source": [
        "# import of numpy and keras libraries\n",
        "from __future__ import print_function\n",
        "import numpy as np\n",
        "from tensorflow.keras.datasets import mnist\n",
        "from tensorflow.keras.models import Sequential\n",
        "from tensorflow.keras.layers import Dense, Activation\n",
        "from tensorflow.keras.optimizers.legacy import SGD\n",
        "from tensorflow.keras import utils\n",
        "import matplotlib.pyplot as plt\n",
        "\n",
        "# variables for network and training\n",
        "N_EPOCH = 200 # initially set at 200 ; you can change this later \n",
        "BATCH_SIZE = 128  \n",
        "VERBOSE = 1\n",
        "N_CLASSES = 10   # number of classes/categories of digits from 0 to 9, i.e. number of output units \n",
        "OPTIMIZER = SGD(learning_rate=0.1) # Stochastic gradient descent optimiser\n",
        "N_HIDDEN = 128   # number of hidden units\n",
        "VALIDATION_SPLIT=0.2 # proportion of the dataset used for validation, with remaining .8 for training \n",
        "\n",
        "#each 2D image consists of 28x28 values/pixels, which needs to be reshaped in a vector of 784 pixels\n",
        "RESHAPED = 784\n",
        "\n",
        "# random seed number to be used for reproducibility\n",
        "np.random.seed(1671)  \n"
      ]
    },
    {
      "cell_type": "markdown",
      "metadata": {
        "id": "2rgZEImMMP08"
      },
      "source": [
        "**Preparing the MNIST dataset and visualising the input images**\n",
        "\n",
        "This part of the code prepares the input and output training set, and the corresponding test sets. \n",
        "It also visualises a sample image. The MNIST dataset is included in the Keras program and we do not need to use and external file."
      ]
    },
    {
      "cell_type": "code",
      "execution_count": 3,
      "metadata": {
        "colab": {
          "base_uri": "https://localhost:8080/",
          "height": 1000
        },
        "id": "l4-TuW2_MP0-",
        "outputId": "89fbc4e9-f9c5-460c-d2c6-6831b05e1f09"
      },
      "outputs": [
        {
          "name": "stdout",
          "output_type": "stream",
          "text": [
            "Downloading data from https://storage.googleapis.com/tensorflow/tf-keras-datasets/mnist.npz\n",
            "11490434/11490434 [==============================] - 1s 0us/step\n",
            "Training data input shape:  (60000, 28, 28)\n",
            "Training data output shape:  (60000,)\n",
            "Test data input shape:  (10000, 28, 28)\n",
            "Test data ouput shape:  (10000,)\n",
            "Sample input image: [[  0   0   0   0   0   0   0   0   0   0   0   0   0   0   0   0   0   0\n",
            "    0   0   0   0   0   0   0   0   0   0]\n",
            " [  0   0   0   0   0   0   0   0   0   0   0   0   0   0   0   0   0   0\n",
            "    0   0   0   0   0   0   0   0   0   0]\n",
            " [  0   0   0   0   0   0   0   0   0   0   0   0   0   0   0   0   0   0\n",
            "    0   0   0   0   0   0   0   0   0   0]\n",
            " [  0   0   0   0   0   0   0   0   0   0   0   0   0   0   0   0   0   0\n",
            "    0   0   0   0   0   0   0   0   0   0]\n",
            " [  0   0   0   0   0   0   0   0   0   0   0   0   0   0   0   0   0   0\n",
            "    0   0   0   0   0   0   0   0   0   0]\n",
            " [  0   0   0   0   0   0   0   0   0   0   0   0   0   0   0   0   0   0\n",
            "    0   0  67 232  39   0   0   0   0   0]\n",
            " [  0   0   0   0  62  81   0   0   0   0   0   0   0   0   0   0   0   0\n",
            "    0   0 120 180  39   0   0   0   0   0]\n",
            " [  0   0   0   0 126 163   0   0   0   0   0   0   0   0   0   0   0   0\n",
            "    0   2 153 210  40   0   0   0   0   0]\n",
            " [  0   0   0   0 220 163   0   0   0   0   0   0   0   0   0   0   0   0\n",
            "    0  27 254 162   0   0   0   0   0   0]\n",
            " [  0   0   0   0 222 163   0   0   0   0   0   0   0   0   0   0   0   0\n",
            "    0 183 254 125   0   0   0   0   0   0]\n",
            " [  0   0   0  46 245 163   0   0   0   0   0   0   0   0   0   0   0   0\n",
            "    0 198 254  56   0   0   0   0   0   0]\n",
            " [  0   0   0 120 254 163   0   0   0   0   0   0   0   0   0   0   0   0\n",
            "   23 231 254  29   0   0   0   0   0   0]\n",
            " [  0   0   0 159 254 120   0   0   0   0   0   0   0   0   0   0   0   0\n",
            "  163 254 216  16   0   0   0   0   0   0]\n",
            " [  0   0   0 159 254  67   0   0   0   0   0   0   0   0   0  14  86 178\n",
            "  248 254  91   0   0   0   0   0   0   0]\n",
            " [  0   0   0 159 254  85   0   0   0  47  49 116 144 150 241 243 234 179\n",
            "  241 252  40   0   0   0   0   0   0   0]\n",
            " [  0   0   0 150 253 237 207 207 207 253 254 250 240 198 143  91  28   5\n",
            "  233 250   0   0   0   0   0   0   0   0]\n",
            " [  0   0   0   0 119 177 177 177 177 177  98  56   0   0   0   0   0 102\n",
            "  254 220   0   0   0   0   0   0   0   0]\n",
            " [  0   0   0   0   0   0   0   0   0   0   0   0   0   0   0   0   0 169\n",
            "  254 137   0   0   0   0   0   0   0   0]\n",
            " [  0   0   0   0   0   0   0   0   0   0   0   0   0   0   0   0   0 169\n",
            "  254  57   0   0   0   0   0   0   0   0]\n",
            " [  0   0   0   0   0   0   0   0   0   0   0   0   0   0   0   0   0 169\n",
            "  254  57   0   0   0   0   0   0   0   0]\n",
            " [  0   0   0   0   0   0   0   0   0   0   0   0   0   0   0   0   0 169\n",
            "  255  94   0   0   0   0   0   0   0   0]\n",
            " [  0   0   0   0   0   0   0   0   0   0   0   0   0   0   0   0   0 169\n",
            "  254  96   0   0   0   0   0   0   0   0]\n",
            " [  0   0   0   0   0   0   0   0   0   0   0   0   0   0   0   0   0 169\n",
            "  254 153   0   0   0   0   0   0   0   0]\n",
            " [  0   0   0   0   0   0   0   0   0   0   0   0   0   0   0   0   0 169\n",
            "  255 153   0   0   0   0   0   0   0   0]\n",
            " [  0   0   0   0   0   0   0   0   0   0   0   0   0   0   0   0   0  96\n",
            "  254 153   0   0   0   0   0   0   0   0]\n",
            " [  0   0   0   0   0   0   0   0   0   0   0   0   0   0   0   0   0   0\n",
            "    0   0   0   0   0   0   0   0   0   0]\n",
            " [  0   0   0   0   0   0   0   0   0   0   0   0   0   0   0   0   0   0\n",
            "    0   0   0   0   0   0   0   0   0   0]\n",
            " [  0   0   0   0   0   0   0   0   0   0   0   0   0   0   0   0   0   0\n",
            "    0   0   0   0   0   0   0   0   0   0]]\n"
          ]
        },
        {
          "data": {
            "image/png": "[encoded data removed]",
            "text/plain": [
              "<Figure size 640x480 with 1 Axes>"
            ]
          },
          "metadata": {},
          "output_type": "display_data"
        }
      ],
      "source": [
        "\n",
        "# data: shuffled and split between train and test sets, loading and using the Keras mnist dataset\n",
        "(input_X_train, output_Y_train), (input_X_test, output_Y_test) = mnist.load_data()\n",
        "\n",
        "# print the shapes of the input and output data\n",
        "print(\"Training data input shape: \" , input_X_train.shape)\n",
        "print(\"Training data output shape: \" , output_Y_train.shape)\n",
        "print(\"Test data input shape: \" , input_X_test.shape)\n",
        "print(\"Test data ouput shape: \" , output_Y_test.shape)\n",
        "\n",
        "# visualisation of the numerical vector and plot of a selected image\n",
        "Selected_Image = 2\n",
        "image = input_X_train[Selected_Image]\n",
        "print (\"Sample input image: \" + str(image))\n",
        "plt.imshow(image, cmap='gray')\n",
        "plt.show() \n"
      ]
    },
    {
      "cell_type": "markdown",
      "metadata": {
        "id": "cDqNl3taMP1P"
      },
      "source": [
        "The input images now have to be reshaped as a linear vector. That is, we go from a 2D image of 28x28 pixels, to a linear vector of 784 (i.e. 28*28) pixels, to be passed as the 784 input units. Moreover, the initial pixel grey values given as type __int__ in the range 0-255 will be normalised to the __float32__ type in the range 0-1. \n"
      ]
    },
    {
      "cell_type": "code",
      "execution_count": 4,
      "metadata": {
        "colab": {
          "base_uri": "https://localhost:8080/"
        },
        "id": "fB15FrXOMP1R",
        "outputId": "967d8aef-42c7-45eb-8a7a-5f44fb4fe7ba"
      },
      "outputs": [
        {
          "name": "stdout",
          "output_type": "stream",
          "text": [
            "Input data ready\n"
          ]
        }
      ],
      "source": [
        "# use 60000 images for training, 10000 for validation test\n",
        "input_X_train = input_X_train.reshape(60000, RESHAPED)\n",
        "input_X_test = input_X_test.reshape(10000, RESHAPED)\n",
        "input_X_train = input_X_train.astype('float32')\n",
        "input_X_test = input_X_test.astype('float32')\n",
        "\n",
        "# normalisation of the pixel values from 0-255 range to 0-1 range \n",
        "input_X_train /= 255\n",
        "input_X_test /= 255\n",
        "\n",
        "print (\"Input data ready\")"
      ]
    },
    {
      "cell_type": "markdown",
      "metadata": {
        "id": "KsCwC5y7MP1Z"
      },
      "source": [
        "**Preparing the output labels**\n",
        "\n",
        "This code converts the output data into categorical (one-hot encoding) vectors of 0s and 1s.\n",
        "See example of the visualisation of the one-hot vector for the selected image."
      ]
    },
    {
      "cell_type": "code",
      "execution_count": 5,
      "metadata": {
        "colab": {
          "base_uri": "https://localhost:8080/"
        },
        "id": "Rc4dgAqqMP1c",
        "outputId": "dd676410-e919-4bf7-b6e9-08d10a5fefe0"
      },
      "outputs": [
        {
          "name": "stdout",
          "output_type": "stream",
          "text": [
            "One-hot-vector: [0. 0. 0. 0. 1. 0. 0. 0. 0. 0.]\n"
          ]
        }
      ],
      "source": [
        "# convert class vectors to binary class matrices\n",
        "output_Y_train = utils.to_categorical(output_Y_train, N_CLASSES)\n",
        "output_Y_test = utils.to_categorical(output_Y_test, N_CLASSES)\n",
        "\n",
        "# print the categorical, one-hot output vector for the sample image\n",
        "label = output_Y_train[Selected_Image]\n",
        "print (\"One-hot-vector: \" + str(label))"
      ]
    },
    {
      "cell_type": "markdown",
      "metadata": {
        "id": "h-rcBfv8MP1q"
      },
      "source": [
        "Training the Simple Perceptron\n",
        "=========\n",
        "\n",
        "**Defining the network: Simple Perceptron**\n",
        "\n",
        "We will start by training a simple perceptron, i.e. a network with an input layer (the 784 input values/pixels) connected to the output layer (the 10 number classes)"
      ]
    },
    {
      "cell_type": "code",
      "execution_count": 6,
      "metadata": {
        "colab": {
          "base_uri": "https://localhost:8080/"
        },
        "id": "HTb4RC7zMP1s",
        "outputId": "28758ce9-9f80-4cea-9197-853195fed760"
      },
      "outputs": [
        {
          "name": "stdout",
          "output_type": "stream",
          "text": [
            "Model: \"sequential\"\n",
            "_________________________________________________________________\n",
            " Layer (type)                Output Shape              Param #   \n",
            "=================================================================\n",
            " dense (Dense)               (None, 10)                7850      \n",
            "                                                                 \n",
            " activation (Activation)     (None, 10)                0         \n",
            "                                                                 \n",
            "=================================================================\n",
            "Total params: 7,850\n",
            "Trainable params: 7,850\n",
            "Non-trainable params: 0\n",
            "_________________________________________________________________\n"
          ]
        }
      ],
      "source": [
        "# Defaults sequential model\n",
        "model = Sequential()\n",
        "\n",
        "# Dense layer for all to all connections\n",
        "# Define the output layer with 10 output units, and softmax activation as categorical output\n",
        "model.add(Dense(N_CLASSES, input_shape=(RESHAPED,)))\n",
        "model.add(Activation('softmax'))\n",
        "\n",
        "# Use categorical crossentropy for the loss evaluation, and the accuracy metrics\n",
        "# we previously chose the SGD optimiser in the OPTIMIZER variable definition  \n",
        "model.compile(loss='categorical_crossentropy', optimizer=OPTIMIZER, metrics=['accuracy'])\n",
        "\n",
        "#show the model summary\n",
        "model.summary()\n"
      ]
    },
    {
      "cell_type": "markdown",
      "metadata": {
        "id": "uHyq0YoRMP1y"
      },
      "source": [
        "**Let's train the simple perceptron network**\n",
        "\n",
        "Let's now train (fit) the network with the above-defined batch size (128), and number of epochs (200). We save the training results into the history variable.\n",
        "\n",
        "Here we use the previous __VALIDATION_SPLIT=0.2__ definition to split the dataset into a 20% (0.2) validation set and the remaning 80% as training set. "
      ]
    },
    {
      "cell_type": "code",
      "execution_count": 7,
      "metadata": {
        "colab": {
          "base_uri": "https://localhost:8080/",
          "height": 1000
        },
        "id": "lg3RCFukMP10",
        "outputId": "7234ab20-e116-4998-822f-281622625dba"
      },
      "outputs": [
        {
          "name": "stdout",
          "output_type": "stream",
          "text": [
            "Epoch 1/200\n",
            "375/375 [==============================] - 1s 2ms/step - loss: 0.6283 - accuracy: 0.8413 - val_loss: 0.3992 - val_accuracy: 0.8948\n",
            "Epoch 2/200\n",
            "375/375 [==============================] - 1s 1ms/step - loss: 0.3955 - accuracy: 0.8926 - val_loss: 0.3504 - val_accuracy: 0.9023\n",
            "Epoch 3/200\n",
            "375/375 [==============================] - 1s 1ms/step - loss: 0.3590 - accuracy: 0.9010 - val_loss: 0.3278 - val_accuracy: 0.9101\n",
            "Epoch 4/200\n",
            "375/375 [==============================] - 0s 1ms/step - loss: 0.3402 - accuracy: 0.9051 - val_loss: 0.3170 - val_accuracy: 0.9119\n",
            "Epoch 5/200\n",
            "375/375 [==============================] - 1s 1ms/step - loss: 0.3281 - accuracy: 0.9084 - val_loss: 0.3083 - val_accuracy: 0.9135\n",
            "Epoch 6/200\n",
            "375/375 [==============================] - 1s 2ms/step - loss: 0.3194 - accuracy: 0.9105 - val_loss: 0.3022 - val_accuracy: 0.9166\n",
            "Epoch 7/200\n",
            "375/375 [==============================] - 1s 1ms/step - loss: 0.3128 - accuracy: 0.9125 - val_loss: 0.2978 - val_accuracy: 0.9172\n",
            "Epoch 8/200\n",
            "375/375 [==============================] - 0s 1ms/step - loss: 0.3076 - accuracy: 0.9137 - val_loss: 0.2941 - val_accuracy: 0.9178\n",
            "Epoch 9/200\n",
            "375/375 [==============================] - 0s 1ms/step - loss: 0.3030 - accuracy: 0.9155 - val_loss: 0.2926 - val_accuracy: 0.9180\n",
            "Epoch 10/200\n",
            "375/375 [==============================] - 1s 2ms/step - loss: 0.2994 - accuracy: 0.9166 - val_loss: 0.2882 - val_accuracy: 0.9202\n",
            "Epoch 11/200\n",
            "375/375 [==============================] - 1s 2ms/step - loss: 0.2962 - accuracy: 0.9171 - val_loss: 0.2870 - val_accuracy: 0.9200\n",
            "Epoch 12/200\n",
            "375/375 [==============================] - 1s 2ms/step - loss: 0.2934 - accuracy: 0.9182 - val_loss: 0.2859 - val_accuracy: 0.9210\n",
            "Epoch 13/200\n",
            "375/375 [==============================] - 1s 1ms/step - loss: 0.2910 - accuracy: 0.9186 - val_loss: 0.2842 - val_accuracy: 0.9208\n",
            "Epoch 14/200\n",
            "375/375 [==============================] - 0s 1ms/step - loss: 0.2886 - accuracy: 0.9187 - val_loss: 0.2820 - val_accuracy: 0.9222\n",
            "Epoch 15/200\n",
            "375/375 [==============================] - 0s 1ms/step - loss: 0.2868 - accuracy: 0.9197 - val_loss: 0.2805 - val_accuracy: 0.9220\n",
            "Epoch 16/200\n",
            "375/375 [==============================] - 0s 1ms/step - loss: 0.2849 - accuracy: 0.9201 - val_loss: 0.2805 - val_accuracy: 0.9216\n",
            "Epoch 17/200\n",
            "375/375 [==============================] - 0s 1ms/step - loss: 0.2835 - accuracy: 0.9211 - val_loss: 0.2800 - val_accuracy: 0.9216\n",
            "Epoch 18/200\n",
            "375/375 [==============================] - 0s 1ms/step - loss: 0.2818 - accuracy: 0.9208 - val_loss: 0.2775 - val_accuracy: 0.9235\n",
            "Epoch 19/200\n",
            "375/375 [==============================] - 0s 1ms/step - loss: 0.2805 - accuracy: 0.9220 - val_loss: 0.2765 - val_accuracy: 0.9238\n",
            "Epoch 20/200\n",
            "375/375 [==============================] - 0s 1ms/step - loss: 0.2791 - accuracy: 0.9222 - val_loss: 0.2759 - val_accuracy: 0.9229\n",
            "Epoch 21/200\n",
            "375/375 [==============================] - 0s 1ms/step - loss: 0.2780 - accuracy: 0.9223 - val_loss: 0.2758 - val_accuracy: 0.9231\n",
            "Epoch 22/200\n",
            "375/375 [==============================] - 1s 2ms/step - loss: 0.2767 - accuracy: 0.9232 - val_loss: 0.2750 - val_accuracy: 0.9242\n",
            "Epoch 23/200\n",
            "375/375 [==============================] - 1s 1ms/step - loss: 0.2757 - accuracy: 0.9226 - val_loss: 0.2749 - val_accuracy: 0.9239\n",
            "Epoch 24/200\n",
            "375/375 [==============================] - 0s 1ms/step - loss: 0.2748 - accuracy: 0.9232 - val_loss: 0.2743 - val_accuracy: 0.9237\n",
            "Epoch 25/200\n",
            "375/375 [==============================] - 0s 1ms/step - loss: 0.2738 - accuracy: 0.9234 - val_loss: 0.2733 - val_accuracy: 0.9250\n",
            "Epoch 26/200\n",
            "375/375 [==============================] - 1s 1ms/step - loss: 0.2728 - accuracy: 0.9243 - val_loss: 0.2739 - val_accuracy: 0.9249\n",
            "Epoch 27/200\n",
            "375/375 [==============================] - 1s 1ms/step - loss: 0.2721 - accuracy: 0.9241 - val_loss: 0.2725 - val_accuracy: 0.9253\n",
            "Epoch 28/200\n",
            "375/375 [==============================] - 0s 1ms/step - loss: 0.2713 - accuracy: 0.9240 - val_loss: 0.2727 - val_accuracy: 0.9238\n",
            "Epoch 29/200\n",
            "375/375 [==============================] - 0s 1ms/step - loss: 0.2704 - accuracy: 0.9248 - val_loss: 0.2722 - val_accuracy: 0.9252\n",
            "Epoch 30/200\n",
            "375/375 [==============================] - 1s 1ms/step - loss: 0.2695 - accuracy: 0.9250 - val_loss: 0.2711 - val_accuracy: 0.9258\n",
            "Epoch 31/200\n",
            "375/375 [==============================] - 1s 1ms/step - loss: 0.2691 - accuracy: 0.9247 - val_loss: 0.2714 - val_accuracy: 0.9249\n",
            "Epoch 32/200\n",
            "375/375 [==============================] - 1s 1ms/step - loss: 0.2683 - accuracy: 0.9251 - val_loss: 0.2710 - val_accuracy: 0.9252\n",
            "Epoch 33/200\n",
            "375/375 [==============================] - 1s 1ms/step - loss: 0.2677 - accuracy: 0.9250 - val_loss: 0.2702 - val_accuracy: 0.9262\n",
            "Epoch 34/200\n",
            "375/375 [==============================] - 0s 1ms/step - loss: 0.2671 - accuracy: 0.9252 - val_loss: 0.2703 - val_accuracy: 0.9258\n",
            "Epoch 35/200\n",
            "375/375 [==============================] - 1s 1ms/step - loss: 0.2664 - accuracy: 0.9256 - val_loss: 0.2701 - val_accuracy: 0.9249\n",
            "Epoch 36/200\n",
            "375/375 [==============================] - 1s 1ms/step - loss: 0.2659 - accuracy: 0.9254 - val_loss: 0.2695 - val_accuracy: 0.9260\n",
            "Epoch 37/200\n",
            "375/375 [==============================] - 1s 2ms/step - loss: 0.2653 - accuracy: 0.9254 - val_loss: 0.2703 - val_accuracy: 0.9258\n",
            "Epoch 38/200\n",
            "375/375 [==============================] - 1s 1ms/step - loss: 0.2649 - accuracy: 0.9260 - val_loss: 0.2686 - val_accuracy: 0.9268\n",
            "Epoch 39/200\n",
            "375/375 [==============================] - 0s 1ms/step - loss: 0.2640 - accuracy: 0.9264 - val_loss: 0.2692 - val_accuracy: 0.9261\n",
            "Epoch 40/200\n",
            "375/375 [==============================] - 0s 1ms/step - loss: 0.2638 - accuracy: 0.9263 - val_loss: 0.2691 - val_accuracy: 0.9247\n",
            "Epoch 41/200\n",
            "375/375 [==============================] - 0s 1ms/step - loss: 0.2633 - accuracy: 0.9266 - val_loss: 0.2687 - val_accuracy: 0.9264\n",
            "Epoch 42/200\n",
            "375/375 [==============================] - 1s 2ms/step - loss: 0.2630 - accuracy: 0.9262 - val_loss: 0.2687 - val_accuracy: 0.9249\n",
            "Epoch 43/200\n",
            "375/375 [==============================] - 0s 1ms/step - loss: 0.2622 - accuracy: 0.9269 - val_loss: 0.2691 - val_accuracy: 0.9256\n",
            "Epoch 44/200\n",
            "375/375 [==============================] - 1s 2ms/step - loss: 0.2617 - accuracy: 0.9268 - val_loss: 0.2684 - val_accuracy: 0.9263\n",
            "Epoch 45/200\n",
            "375/375 [==============================] - 0s 1ms/step - loss: 0.2611 - accuracy: 0.9274 - val_loss: 0.2691 - val_accuracy: 0.9262\n",
            "Epoch 46/200\n",
            "375/375 [==============================] - 0s 1ms/step - loss: 0.2610 - accuracy: 0.9273 - val_loss: 0.2692 - val_accuracy: 0.9258\n",
            "Epoch 47/200\n",
            "375/375 [==============================] - 1s 1ms/step - loss: 0.2605 - accuracy: 0.9275 - val_loss: 0.2682 - val_accuracy: 0.9262\n",
            "Epoch 48/200\n",
            "375/375 [==============================] - 0s 1ms/step - loss: 0.2601 - accuracy: 0.9272 - val_loss: 0.2678 - val_accuracy: 0.9274\n",
            "Epoch 49/200\n",
            "375/375 [==============================] - 0s 1ms/step - loss: 0.2599 - accuracy: 0.9271 - val_loss: 0.2683 - val_accuracy: 0.9258\n",
            "Epoch 50/200\n",
            "375/375 [==============================] - 0s 1ms/step - loss: 0.2596 - accuracy: 0.9274 - val_loss: 0.2671 - val_accuracy: 0.9277\n",
            "Epoch 51/200\n",
            "375/375 [==============================] - 0s 1ms/step - loss: 0.2591 - accuracy: 0.9278 - val_loss: 0.2679 - val_accuracy: 0.9263\n",
            "Epoch 52/200\n",
            "375/375 [==============================] - 0s 1ms/step - loss: 0.2589 - accuracy: 0.9276 - val_loss: 0.2675 - val_accuracy: 0.9268\n",
            "Epoch 53/200\n",
            "375/375 [==============================] - 0s 1ms/step - loss: 0.2585 - accuracy: 0.9280 - val_loss: 0.2676 - val_accuracy: 0.9262\n",
            "Epoch 54/200\n",
            "375/375 [==============================] - 0s 1ms/step - loss: 0.2581 - accuracy: 0.9277 - val_loss: 0.2676 - val_accuracy: 0.9269\n",
            "Epoch 55/200\n",
            "375/375 [==============================] - 0s 1ms/step - loss: 0.2578 - accuracy: 0.9283 - val_loss: 0.2672 - val_accuracy: 0.9278\n",
            "Epoch 56/200\n",
            "375/375 [==============================] - 0s 1ms/step - loss: 0.2573 - accuracy: 0.9279 - val_loss: 0.2677 - val_accuracy: 0.9266\n",
            "Epoch 57/200\n",
            "375/375 [==============================] - 0s 1ms/step - loss: 0.2571 - accuracy: 0.9283 - val_loss: 0.2676 - val_accuracy: 0.9269\n",
            "Epoch 58/200\n",
            "375/375 [==============================] - 0s 1ms/step - loss: 0.2567 - accuracy: 0.9283 - val_loss: 0.2679 - val_accuracy: 0.9262\n",
            "Epoch 59/200\n",
            "375/375 [==============================] - 0s 1ms/step - loss: 0.2565 - accuracy: 0.9284 - val_loss: 0.2666 - val_accuracy: 0.9273\n",
            "Epoch 60/200\n",
            "375/375 [==============================] - 0s 1ms/step - loss: 0.2559 - accuracy: 0.9289 - val_loss: 0.2664 - val_accuracy: 0.9273\n",
            "Epoch 61/200\n",
            "375/375 [==============================] - 0s 1ms/step - loss: 0.2557 - accuracy: 0.9285 - val_loss: 0.2675 - val_accuracy: 0.9270\n",
            "Epoch 62/200\n",
            "375/375 [==============================] - 0s 1ms/step - loss: 0.2554 - accuracy: 0.9286 - val_loss: 0.2669 - val_accuracy: 0.9276\n",
            "Epoch 63/200\n",
            "375/375 [==============================] - 0s 1ms/step - loss: 0.2552 - accuracy: 0.9290 - val_loss: 0.2679 - val_accuracy: 0.9270\n",
            "Epoch 64/200\n",
            "375/375 [==============================] - 0s 1ms/step - loss: 0.2550 - accuracy: 0.9285 - val_loss: 0.2660 - val_accuracy: 0.9281\n",
            "Epoch 65/200\n",
            "375/375 [==============================] - 0s 1ms/step - loss: 0.2546 - accuracy: 0.9293 - val_loss: 0.2665 - val_accuracy: 0.9276\n",
            "Epoch 66/200\n",
            "375/375 [==============================] - 0s 1ms/step - loss: 0.2543 - accuracy: 0.9288 - val_loss: 0.2664 - val_accuracy: 0.9279\n",
            "Epoch 67/200\n",
            "375/375 [==============================] - 0s 1ms/step - loss: 0.2543 - accuracy: 0.9291 - val_loss: 0.2660 - val_accuracy: 0.9274\n",
            "Epoch 68/200\n",
            "375/375 [==============================] - 0s 1ms/step - loss: 0.2540 - accuracy: 0.9294 - val_loss: 0.2666 - val_accuracy: 0.9283\n",
            "Epoch 69/200\n",
            "375/375 [==============================] - 0s 1ms/step - loss: 0.2537 - accuracy: 0.9290 - val_loss: 0.2664 - val_accuracy: 0.9269\n",
            "Epoch 70/200\n",
            "375/375 [==============================] - 0s 1ms/step - loss: 0.2534 - accuracy: 0.9290 - val_loss: 0.2665 - val_accuracy: 0.9281\n",
            "Epoch 71/200\n",
            "375/375 [==============================] - 0s 1ms/step - loss: 0.2532 - accuracy: 0.9293 - val_loss: 0.2665 - val_accuracy: 0.9275\n",
            "Epoch 72/200\n",
            "375/375 [==============================] - 1s 1ms/step - loss: 0.2529 - accuracy: 0.9295 - val_loss: 0.2665 - val_accuracy: 0.9277\n",
            "Epoch 73/200\n",
            "375/375 [==============================] - 0s 1ms/step - loss: 0.2525 - accuracy: 0.9297 - val_loss: 0.2676 - val_accuracy: 0.9271\n",
            "Epoch 74/200\n",
            "375/375 [==============================] - 1s 1ms/step - loss: 0.2525 - accuracy: 0.9291 - val_loss: 0.2663 - val_accuracy: 0.9277\n",
            "Epoch 75/200\n",
            "375/375 [==============================] - 1s 1ms/step - loss: 0.2523 - accuracy: 0.9295 - val_loss: 0.2670 - val_accuracy: 0.9263\n",
            "Epoch 76/200\n",
            "375/375 [==============================] - 1s 2ms/step - loss: 0.2520 - accuracy: 0.9300 - val_loss: 0.2674 - val_accuracy: 0.9281\n",
            "Epoch 77/200\n",
            "375/375 [==============================] - 1s 1ms/step - loss: 0.2519 - accuracy: 0.9296 - val_loss: 0.2660 - val_accuracy: 0.9283\n",
            "Epoch 78/200\n",
            "375/375 [==============================] - 1s 1ms/step - loss: 0.2515 - accuracy: 0.9296 - val_loss: 0.2658 - val_accuracy: 0.9272\n",
            "Epoch 79/200\n",
            "375/375 [==============================] - 1s 1ms/step - loss: 0.2512 - accuracy: 0.9300 - val_loss: 0.2657 - val_accuracy: 0.9279\n",
            "Epoch 80/200\n",
            "375/375 [==============================] - 0s 1ms/step - loss: 0.2511 - accuracy: 0.9294 - val_loss: 0.2661 - val_accuracy: 0.9283\n",
            "Epoch 81/200\n",
            "375/375 [==============================] - 1s 2ms/step - loss: 0.2508 - accuracy: 0.9299 - val_loss: 0.2664 - val_accuracy: 0.9289\n",
            "Epoch 82/200\n",
            "375/375 [==============================] - 1s 2ms/step - loss: 0.2509 - accuracy: 0.9302 - val_loss: 0.2673 - val_accuracy: 0.9279\n",
            "Epoch 83/200\n",
            "375/375 [==============================] - 1s 1ms/step - loss: 0.2506 - accuracy: 0.9299 - val_loss: 0.2659 - val_accuracy: 0.9280\n",
            "Epoch 84/200\n",
            "375/375 [==============================] - 0s 1ms/step - loss: 0.2505 - accuracy: 0.9298 - val_loss: 0.2660 - val_accuracy: 0.9287\n",
            "Epoch 85/200\n",
            "375/375 [==============================] - 1s 1ms/step - loss: 0.2501 - accuracy: 0.9301 - val_loss: 0.2659 - val_accuracy: 0.9287\n",
            "Epoch 86/200\n",
            "375/375 [==============================] - 1s 1ms/step - loss: 0.2498 - accuracy: 0.9302 - val_loss: 0.2670 - val_accuracy: 0.9264\n",
            "Epoch 87/200\n",
            "375/375 [==============================] - 0s 1ms/step - loss: 0.2498 - accuracy: 0.9300 - val_loss: 0.2668 - val_accuracy: 0.9270\n",
            "Epoch 88/200\n",
            "375/375 [==============================] - 1s 1ms/step - loss: 0.2492 - accuracy: 0.9302 - val_loss: 0.2667 - val_accuracy: 0.9274\n",
            "Epoch 89/200\n",
            "375/375 [==============================] - 0s 1ms/step - loss: 0.2493 - accuracy: 0.9305 - val_loss: 0.2658 - val_accuracy: 0.9293\n",
            "Epoch 90/200\n",
            "375/375 [==============================] - 0s 1ms/step - loss: 0.2492 - accuracy: 0.9307 - val_loss: 0.2664 - val_accuracy: 0.9283\n",
            "Epoch 91/200\n",
            "375/375 [==============================] - 0s 1ms/step - loss: 0.2490 - accuracy: 0.9300 - val_loss: 0.2677 - val_accuracy: 0.9282\n",
            "Epoch 92/200\n",
            "375/375 [==============================] - 0s 1ms/step - loss: 0.2487 - accuracy: 0.9304 - val_loss: 0.2662 - val_accuracy: 0.9278\n",
            "Epoch 93/200\n",
            "375/375 [==============================] - 0s 1ms/step - loss: 0.2486 - accuracy: 0.9308 - val_loss: 0.2660 - val_accuracy: 0.9281\n",
            "Epoch 94/200\n",
            "375/375 [==============================] - 0s 1ms/step - loss: 0.2483 - accuracy: 0.9306 - val_loss: 0.2663 - val_accuracy: 0.9289\n",
            "Epoch 95/200\n",
            "375/375 [==============================] - 0s 1ms/step - loss: 0.2483 - accuracy: 0.9307 - val_loss: 0.2659 - val_accuracy: 0.9287\n",
            "Epoch 96/200\n",
            "375/375 [==============================] - 0s 1ms/step - loss: 0.2480 - accuracy: 0.9308 - val_loss: 0.2660 - val_accuracy: 0.9293\n",
            "Epoch 97/200\n",
            "375/375 [==============================] - 0s 1ms/step - loss: 0.2479 - accuracy: 0.9304 - val_loss: 0.2670 - val_accuracy: 0.9272\n",
            "Epoch 98/200\n",
            "375/375 [==============================] - 0s 1ms/step - loss: 0.2479 - accuracy: 0.9313 - val_loss: 0.2661 - val_accuracy: 0.9277\n",
            "Epoch 99/200\n",
            "375/375 [==============================] - 0s 1ms/step - loss: 0.2475 - accuracy: 0.9313 - val_loss: 0.2663 - val_accuracy: 0.9279\n",
            "Epoch 100/200\n",
            "375/375 [==============================] - 1s 1ms/step - loss: 0.2474 - accuracy: 0.9305 - val_loss: 0.2664 - val_accuracy: 0.9286\n",
            "Epoch 101/200\n",
            "375/375 [==============================] - 1s 1ms/step - loss: 0.2473 - accuracy: 0.9307 - val_loss: 0.2657 - val_accuracy: 0.9289\n",
            "Epoch 102/200\n",
            "375/375 [==============================] - 1s 2ms/step - loss: 0.2472 - accuracy: 0.9308 - val_loss: 0.2662 - val_accuracy: 0.9285\n",
            "Epoch 103/200\n",
            "375/375 [==============================] - 1s 2ms/step - loss: 0.2470 - accuracy: 0.9312 - val_loss: 0.2665 - val_accuracy: 0.9281\n",
            "Epoch 104/200\n",
            "375/375 [==============================] - 0s 1ms/step - loss: 0.2469 - accuracy: 0.9312 - val_loss: 0.2663 - val_accuracy: 0.9285\n",
            "Epoch 105/200\n",
            "375/375 [==============================] - 1s 1ms/step - loss: 0.2466 - accuracy: 0.9315 - val_loss: 0.2667 - val_accuracy: 0.9287\n",
            "Epoch 106/200\n",
            "375/375 [==============================] - 0s 1ms/step - loss: 0.2467 - accuracy: 0.9307 - val_loss: 0.2656 - val_accuracy: 0.9292\n",
            "Epoch 107/200\n",
            "375/375 [==============================] - 0s 1ms/step - loss: 0.2462 - accuracy: 0.9316 - val_loss: 0.2665 - val_accuracy: 0.9287\n",
            "Epoch 108/200\n",
            "375/375 [==============================] - 0s 1ms/step - loss: 0.2463 - accuracy: 0.9312 - val_loss: 0.2662 - val_accuracy: 0.9283\n",
            "Epoch 109/200\n",
            "375/375 [==============================] - 0s 1ms/step - loss: 0.2460 - accuracy: 0.9312 - val_loss: 0.2659 - val_accuracy: 0.9292\n",
            "Epoch 110/200\n",
            "375/375 [==============================] - 1s 1ms/step - loss: 0.2459 - accuracy: 0.9314 - val_loss: 0.2672 - val_accuracy: 0.9275\n",
            "Epoch 111/200\n",
            "375/375 [==============================] - 0s 1ms/step - loss: 0.2460 - accuracy: 0.9311 - val_loss: 0.2659 - val_accuracy: 0.9284\n",
            "Epoch 112/200\n",
            "375/375 [==============================] - 0s 1ms/step - loss: 0.2455 - accuracy: 0.9315 - val_loss: 0.2665 - val_accuracy: 0.9281\n",
            "Epoch 113/200\n",
            "375/375 [==============================] - 0s 1ms/step - loss: 0.2456 - accuracy: 0.9320 - val_loss: 0.2664 - val_accuracy: 0.9273\n",
            "Epoch 114/200\n",
            "375/375 [==============================] - 1s 1ms/step - loss: 0.2454 - accuracy: 0.9316 - val_loss: 0.2660 - val_accuracy: 0.9281\n",
            "Epoch 115/200\n",
            "375/375 [==============================] - 0s 1ms/step - loss: 0.2453 - accuracy: 0.9321 - val_loss: 0.2660 - val_accuracy: 0.9288\n",
            "Epoch 116/200\n",
            "375/375 [==============================] - 0s 1ms/step - loss: 0.2451 - accuracy: 0.9312 - val_loss: 0.2660 - val_accuracy: 0.9290\n",
            "Epoch 117/200\n",
            "375/375 [==============================] - 0s 1ms/step - loss: 0.2449 - accuracy: 0.9313 - val_loss: 0.2660 - val_accuracy: 0.9283\n",
            "Epoch 118/200\n",
            "375/375 [==============================] - 0s 1ms/step - loss: 0.2449 - accuracy: 0.9314 - val_loss: 0.2671 - val_accuracy: 0.9291\n",
            "Epoch 119/200\n",
            "375/375 [==============================] - 0s 1ms/step - loss: 0.2448 - accuracy: 0.9315 - val_loss: 0.2661 - val_accuracy: 0.9283\n",
            "Epoch 120/200\n",
            "375/375 [==============================] - 0s 1ms/step - loss: 0.2445 - accuracy: 0.9320 - val_loss: 0.2669 - val_accuracy: 0.9283\n",
            "Epoch 121/200\n",
            "375/375 [==============================] - 0s 1ms/step - loss: 0.2443 - accuracy: 0.9316 - val_loss: 0.2665 - val_accuracy: 0.9280\n",
            "Epoch 122/200\n",
            "375/375 [==============================] - 0s 1ms/step - loss: 0.2443 - accuracy: 0.9314 - val_loss: 0.2667 - val_accuracy: 0.9287\n",
            "Epoch 123/200\n",
            "375/375 [==============================] - 0s 1ms/step - loss: 0.2443 - accuracy: 0.9316 - val_loss: 0.2674 - val_accuracy: 0.9283\n",
            "Epoch 124/200\n",
            "375/375 [==============================] - 0s 1ms/step - loss: 0.2441 - accuracy: 0.9323 - val_loss: 0.2675 - val_accuracy: 0.9281\n",
            "Epoch 125/200\n",
            "375/375 [==============================] - 0s 1ms/step - loss: 0.2440 - accuracy: 0.9320 - val_loss: 0.2675 - val_accuracy: 0.9277\n",
            "Epoch 126/200\n",
            "375/375 [==============================] - 1s 2ms/step - loss: 0.2438 - accuracy: 0.9322 - val_loss: 0.2669 - val_accuracy: 0.9287\n",
            "Epoch 127/200\n",
            "375/375 [==============================] - 0s 1ms/step - loss: 0.2437 - accuracy: 0.9319 - val_loss: 0.2664 - val_accuracy: 0.9287\n",
            "Epoch 128/200\n",
            "375/375 [==============================] - 0s 1ms/step - loss: 0.2436 - accuracy: 0.9321 - val_loss: 0.2669 - val_accuracy: 0.9287\n",
            "Epoch 129/200\n",
            "375/375 [==============================] - 1s 1ms/step - loss: 0.2433 - accuracy: 0.9320 - val_loss: 0.2664 - val_accuracy: 0.9284\n",
            "Epoch 130/200\n",
            "375/375 [==============================] - 0s 1ms/step - loss: 0.2434 - accuracy: 0.9321 - val_loss: 0.2664 - val_accuracy: 0.9290\n",
            "Epoch 131/200\n",
            "375/375 [==============================] - 0s 1ms/step - loss: 0.2433 - accuracy: 0.9325 - val_loss: 0.2668 - val_accuracy: 0.9287\n",
            "Epoch 132/200\n",
            "375/375 [==============================] - 0s 1ms/step - loss: 0.2430 - accuracy: 0.9327 - val_loss: 0.2671 - val_accuracy: 0.9280\n",
            "Epoch 133/200\n",
            "375/375 [==============================] - 0s 1ms/step - loss: 0.2429 - accuracy: 0.9323 - val_loss: 0.2679 - val_accuracy: 0.9274\n",
            "Epoch 134/200\n",
            "375/375 [==============================] - 0s 1ms/step - loss: 0.2428 - accuracy: 0.9325 - val_loss: 0.2666 - val_accuracy: 0.9287\n",
            "Epoch 135/200\n",
            "375/375 [==============================] - 0s 1ms/step - loss: 0.2428 - accuracy: 0.9323 - val_loss: 0.2670 - val_accuracy: 0.9281\n",
            "Epoch 136/200\n",
            "375/375 [==============================] - 0s 1ms/step - loss: 0.2426 - accuracy: 0.9328 - val_loss: 0.2662 - val_accuracy: 0.9292\n",
            "Epoch 137/200\n",
            "375/375 [==============================] - 0s 1ms/step - loss: 0.2425 - accuracy: 0.9326 - val_loss: 0.2668 - val_accuracy: 0.9279\n",
            "Epoch 138/200\n",
            "375/375 [==============================] - 0s 1ms/step - loss: 0.2425 - accuracy: 0.9325 - val_loss: 0.2664 - val_accuracy: 0.9285\n",
            "Epoch 139/200\n",
            "375/375 [==============================] - 1s 1ms/step - loss: 0.2424 - accuracy: 0.9326 - val_loss: 0.2667 - val_accuracy: 0.9283\n",
            "Epoch 140/200\n",
            "375/375 [==============================] - 0s 1ms/step - loss: 0.2423 - accuracy: 0.9327 - val_loss: 0.2677 - val_accuracy: 0.9286\n",
            "Epoch 141/200\n",
            "375/375 [==============================] - 0s 1ms/step - loss: 0.2422 - accuracy: 0.9326 - val_loss: 0.2664 - val_accuracy: 0.9290\n",
            "Epoch 142/200\n",
            "375/375 [==============================] - 0s 1ms/step - loss: 0.2420 - accuracy: 0.9328 - val_loss: 0.2668 - val_accuracy: 0.9287\n",
            "Epoch 143/200\n",
            "375/375 [==============================] - 0s 1ms/step - loss: 0.2419 - accuracy: 0.9323 - val_loss: 0.2669 - val_accuracy: 0.9284\n",
            "Epoch 144/200\n",
            "375/375 [==============================] - 0s 1ms/step - loss: 0.2420 - accuracy: 0.9327 - val_loss: 0.2664 - val_accuracy: 0.9280\n",
            "Epoch 145/200\n",
            "375/375 [==============================] - 0s 1ms/step - loss: 0.2418 - accuracy: 0.9329 - val_loss: 0.2667 - val_accuracy: 0.9284\n",
            "Epoch 146/200\n",
            "375/375 [==============================] - 0s 1ms/step - loss: 0.2415 - accuracy: 0.9327 - val_loss: 0.2668 - val_accuracy: 0.9284\n",
            "Epoch 147/200\n",
            "375/375 [==============================] - 0s 1ms/step - loss: 0.2416 - accuracy: 0.9326 - val_loss: 0.2667 - val_accuracy: 0.9284\n",
            "Epoch 148/200\n",
            "375/375 [==============================] - 0s 1ms/step - loss: 0.2414 - accuracy: 0.9324 - val_loss: 0.2664 - val_accuracy: 0.9286\n",
            "Epoch 149/200\n",
            "375/375 [==============================] - 0s 1ms/step - loss: 0.2415 - accuracy: 0.9326 - val_loss: 0.2663 - val_accuracy: 0.9287\n",
            "Epoch 150/200\n",
            "375/375 [==============================] - 0s 1ms/step - loss: 0.2413 - accuracy: 0.9328 - val_loss: 0.2668 - val_accuracy: 0.9287\n",
            "Epoch 151/200\n",
            "375/375 [==============================] - 0s 1ms/step - loss: 0.2413 - accuracy: 0.9332 - val_loss: 0.2663 - val_accuracy: 0.9292\n",
            "Epoch 152/200\n",
            "375/375 [==============================] - 1s 1ms/step - loss: 0.2410 - accuracy: 0.9324 - val_loss: 0.2678 - val_accuracy: 0.9278\n",
            "Epoch 153/200\n",
            "375/375 [==============================] - 0s 1ms/step - loss: 0.2409 - accuracy: 0.9326 - val_loss: 0.2671 - val_accuracy: 0.9288\n",
            "Epoch 154/200\n",
            "375/375 [==============================] - 0s 1ms/step - loss: 0.2409 - accuracy: 0.9329 - val_loss: 0.2672 - val_accuracy: 0.9281\n",
            "Epoch 155/200\n",
            "375/375 [==============================] - 0s 1ms/step - loss: 0.2407 - accuracy: 0.9326 - val_loss: 0.2678 - val_accuracy: 0.9281\n",
            "Epoch 156/200\n",
            "375/375 [==============================] - 0s 1ms/step - loss: 0.2408 - accuracy: 0.9332 - val_loss: 0.2673 - val_accuracy: 0.9283\n",
            "Epoch 157/200\n",
            "375/375 [==============================] - 0s 1ms/step - loss: 0.2406 - accuracy: 0.9329 - val_loss: 0.2682 - val_accuracy: 0.9277\n",
            "Epoch 158/200\n",
            "375/375 [==============================] - 0s 1ms/step - loss: 0.2405 - accuracy: 0.9332 - val_loss: 0.2683 - val_accuracy: 0.9286\n",
            "Epoch 159/200\n",
            "375/375 [==============================] - 0s 1ms/step - loss: 0.2403 - accuracy: 0.9330 - val_loss: 0.2680 - val_accuracy: 0.9276\n",
            "Epoch 160/200\n",
            "375/375 [==============================] - 0s 1ms/step - loss: 0.2402 - accuracy: 0.9330 - val_loss: 0.2680 - val_accuracy: 0.9280\n",
            "Epoch 161/200\n",
            "375/375 [==============================] - 0s 1ms/step - loss: 0.2403 - accuracy: 0.9327 - val_loss: 0.2680 - val_accuracy: 0.9269\n",
            "Epoch 162/200\n",
            "375/375 [==============================] - 0s 1ms/step - loss: 0.2401 - accuracy: 0.9335 - val_loss: 0.2667 - val_accuracy: 0.9288\n",
            "Epoch 163/200\n",
            "375/375 [==============================] - 0s 1ms/step - loss: 0.2400 - accuracy: 0.9331 - val_loss: 0.2671 - val_accuracy: 0.9289\n",
            "Epoch 164/200\n",
            "375/375 [==============================] - 0s 1ms/step - loss: 0.2400 - accuracy: 0.9333 - val_loss: 0.2681 - val_accuracy: 0.9281\n",
            "Epoch 165/200\n",
            "375/375 [==============================] - 0s 1ms/step - loss: 0.2400 - accuracy: 0.9329 - val_loss: 0.2677 - val_accuracy: 0.9278\n",
            "Epoch 166/200\n",
            "375/375 [==============================] - 0s 1ms/step - loss: 0.2396 - accuracy: 0.9334 - val_loss: 0.2687 - val_accuracy: 0.9281\n",
            "Epoch 167/200\n",
            "375/375 [==============================] - 0s 1ms/step - loss: 0.2397 - accuracy: 0.9335 - val_loss: 0.2677 - val_accuracy: 0.9285\n",
            "Epoch 168/200\n",
            "375/375 [==============================] - 0s 1ms/step - loss: 0.2396 - accuracy: 0.9333 - val_loss: 0.2676 - val_accuracy: 0.9286\n",
            "Epoch 169/200\n",
            "375/375 [==============================] - 0s 1ms/step - loss: 0.2395 - accuracy: 0.9338 - val_loss: 0.2673 - val_accuracy: 0.9284\n",
            "Epoch 170/200\n",
            "375/375 [==============================] - 0s 1ms/step - loss: 0.2395 - accuracy: 0.9333 - val_loss: 0.2680 - val_accuracy: 0.9279\n",
            "Epoch 171/200\n",
            "375/375 [==============================] - 0s 1ms/step - loss: 0.2393 - accuracy: 0.9334 - val_loss: 0.2681 - val_accuracy: 0.9279\n",
            "Epoch 172/200\n",
            "375/375 [==============================] - 0s 1ms/step - loss: 0.2393 - accuracy: 0.9334 - val_loss: 0.2685 - val_accuracy: 0.9283\n",
            "Epoch 173/200\n",
            "375/375 [==============================] - 0s 1ms/step - loss: 0.2392 - accuracy: 0.9339 - val_loss: 0.2679 - val_accuracy: 0.9287\n",
            "Epoch 174/200\n",
            "375/375 [==============================] - 0s 1ms/step - loss: 0.2390 - accuracy: 0.9335 - val_loss: 0.2672 - val_accuracy: 0.9290\n",
            "Epoch 175/200\n",
            "375/375 [==============================] - 0s 1ms/step - loss: 0.2389 - accuracy: 0.9339 - val_loss: 0.2676 - val_accuracy: 0.9285\n",
            "Epoch 176/200\n",
            "375/375 [==============================] - 0s 1ms/step - loss: 0.2389 - accuracy: 0.9334 - val_loss: 0.2678 - val_accuracy: 0.9280\n",
            "Epoch 177/200\n",
            "375/375 [==============================] - 0s 1ms/step - loss: 0.2390 - accuracy: 0.9338 - val_loss: 0.2676 - val_accuracy: 0.9283\n",
            "Epoch 178/200\n",
            "375/375 [==============================] - 0s 1ms/step - loss: 0.2386 - accuracy: 0.9343 - val_loss: 0.2675 - val_accuracy: 0.9285\n",
            "Epoch 179/200\n",
            "375/375 [==============================] - 0s 1ms/step - loss: 0.2387 - accuracy: 0.9337 - val_loss: 0.2680 - val_accuracy: 0.9288\n",
            "Epoch 180/200\n",
            "375/375 [==============================] - 0s 1ms/step - loss: 0.2388 - accuracy: 0.9337 - val_loss: 0.2678 - val_accuracy: 0.9282\n",
            "Epoch 181/200\n",
            "375/375 [==============================] - 0s 1ms/step - loss: 0.2386 - accuracy: 0.9337 - val_loss: 0.2688 - val_accuracy: 0.9277\n",
            "Epoch 182/200\n",
            "375/375 [==============================] - 0s 1ms/step - loss: 0.2384 - accuracy: 0.9337 - val_loss: 0.2675 - val_accuracy: 0.9290\n",
            "Epoch 183/200\n",
            "375/375 [==============================] - 0s 1ms/step - loss: 0.2384 - accuracy: 0.9337 - val_loss: 0.2674 - val_accuracy: 0.9290\n",
            "Epoch 184/200\n",
            "375/375 [==============================] - 0s 1ms/step - loss: 0.2384 - accuracy: 0.9339 - val_loss: 0.2686 - val_accuracy: 0.9278\n",
            "Epoch 185/200\n",
            "375/375 [==============================] - 0s 1ms/step - loss: 0.2382 - accuracy: 0.9339 - val_loss: 0.2685 - val_accuracy: 0.9274\n",
            "Epoch 186/200\n",
            "375/375 [==============================] - 0s 1ms/step - loss: 0.2381 - accuracy: 0.9335 - val_loss: 0.2682 - val_accuracy: 0.9288\n",
            "Epoch 187/200\n",
            "375/375 [==============================] - 0s 1ms/step - loss: 0.2382 - accuracy: 0.9337 - val_loss: 0.2676 - val_accuracy: 0.9291\n",
            "Epoch 188/200\n",
            "375/375 [==============================] - 0s 1ms/step - loss: 0.2380 - accuracy: 0.9340 - val_loss: 0.2692 - val_accuracy: 0.9277\n",
            "Epoch 189/200\n",
            "375/375 [==============================] - 0s 1ms/step - loss: 0.2379 - accuracy: 0.9338 - val_loss: 0.2676 - val_accuracy: 0.9282\n",
            "Epoch 190/200\n",
            "375/375 [==============================] - 0s 1ms/step - loss: 0.2379 - accuracy: 0.9340 - val_loss: 0.2681 - val_accuracy: 0.9285\n",
            "Epoch 191/200\n",
            "375/375 [==============================] - 0s 1ms/step - loss: 0.2379 - accuracy: 0.9341 - val_loss: 0.2680 - val_accuracy: 0.9284\n",
            "Epoch 192/200\n",
            "375/375 [==============================] - 0s 1ms/step - loss: 0.2377 - accuracy: 0.9339 - val_loss: 0.2679 - val_accuracy: 0.9287\n",
            "Epoch 193/200\n",
            "375/375 [==============================] - 0s 1ms/step - loss: 0.2377 - accuracy: 0.9337 - val_loss: 0.2693 - val_accuracy: 0.9287\n",
            "Epoch 194/200\n",
            "375/375 [==============================] - 0s 1ms/step - loss: 0.2374 - accuracy: 0.9340 - val_loss: 0.2682 - val_accuracy: 0.9287\n",
            "Epoch 195/200\n",
            "375/375 [==============================] - 0s 1ms/step - loss: 0.2374 - accuracy: 0.9344 - val_loss: 0.2686 - val_accuracy: 0.9285\n",
            "Epoch 196/200\n",
            "375/375 [==============================] - 0s 1ms/step - loss: 0.2374 - accuracy: 0.9339 - val_loss: 0.2682 - val_accuracy: 0.9287\n",
            "Epoch 197/200\n",
            "375/375 [==============================] - 0s 1ms/step - loss: 0.2374 - accuracy: 0.9343 - val_loss: 0.2683 - val_accuracy: 0.9293\n",
            "Epoch 198/200\n",
            "375/375 [==============================] - 0s 1ms/step - loss: 0.2373 - accuracy: 0.9342 - val_loss: 0.2692 - val_accuracy: 0.9278\n",
            "Epoch 199/200\n",
            "375/375 [==============================] - 0s 1ms/step - loss: 0.2372 - accuracy: 0.9344 - val_loss: 0.2683 - val_accuracy: 0.9288\n",
            "Epoch 200/200\n",
            "375/375 [==============================] - 0s 1ms/step - loss: 0.2371 - accuracy: 0.9343 - val_loss: 0.2677 - val_accuracy: 0.9287\n"
          ]
        }
      ],
      "source": [
        "#train the network\n",
        "history = model.fit(input_X_train, output_Y_train, batch_size=BATCH_SIZE, epochs=N_EPOCH, verbose=VERBOSE, validation_split=VALIDATION_SPLIT)\n",
        "\n"
      ]
    },
    {
      "cell_type": "markdown",
      "metadata": {
        "id": "2MpCg_YTMP17"
      },
      "source": [
        "**Looking at the results of the trained network**\n",
        "\n",
        "Let's evaluate the model to see how well it has learned ( or not) the MNIST problem."
      ]
    },
    {
      "cell_type": "code",
      "execution_count": 8,
      "metadata": {
        "id": "ZN9rro7KMP19"
      },
      "outputs": [
        {
          "name": "stdout",
          "output_type": "stream",
          "text": [
            "313/313 [==============================] - 0s 928us/step - loss: 0.2687 - accuracy: 0.9269\n",
            "\n",
            "Test score/loss: 0.2686920762062073\n",
            "Test accuracy: 0.9269000291824341\n"
          ]
        }
      ],
      "source": [
        "#test the network using the generalisation test dataset\n",
        "score = model.evaluate(input_X_test, output_Y_test, verbose=VERBOSE)\n",
        "print(\"\\nTest score/loss:\", score[0])\n",
        "print(\"Test accuracy:\", score[1])\n"
      ]
    },
    {
      "cell_type": "markdown",
      "metadata": {
        "id": "GZuRJvfwMP2K"
      },
      "source": [
        "Training the Multi-Layer Perceptron\n",
        "=========\n",
        "**Defining the network: Multi-Layer Perceptron**\n",
        "\n",
        "We will now create a multi-layer perceptron with 784 input units, two hidden layers with 128 hidden units each, and an output layer with the 10 units.\n",
        "\n"
      ]
    },
    {
      "cell_type": "code",
      "execution_count": 9,
      "metadata": {
        "id": "HoF0ib-SMP2N"
      },
      "outputs": [
        {
          "name": "stdout",
          "output_type": "stream",
          "text": [
            "Model: \"sequential_1\"\n",
            "_________________________________________________________________\n",
            " Layer (type)                Output Shape              Param #   \n",
            "=================================================================\n",
            " dense_1 (Dense)             (None, 128)               100480    \n",
            "                                                                 \n",
            " activation_1 (Activation)   (None, 128)               0         \n",
            "                                                                 \n",
            " dense_2 (Dense)             (None, 128)               16512     \n",
            "                                                                 \n",
            " activation_2 (Activation)   (None, 128)               0         \n",
            "                                                                 \n",
            " dense_3 (Dense)             (None, 10)                1290      \n",
            "                                                                 \n",
            " activation_3 (Activation)   (None, 10)                0         \n",
            "                                                                 \n",
            "=================================================================\n",
            "Total params: 118,282\n",
            "Trainable params: 118,282\n",
            "Non-trainable params: 0\n",
            "_________________________________________________________________\n"
          ]
        }
      ],
      "source": [
        "N_EPOCH = 20 # we need fewer epoch than before, as the multi-layer percetpron can learn faster.\n",
        "N_HIDDEN = 128\n",
        "\n",
        "model = Sequential()\n",
        "\n",
        "# Hidden layer 1 with 128 hidden units and ReLu activation function\n",
        "model.add(Dense(N_HIDDEN, input_shape=(RESHAPED,)))\n",
        "model.add(Activation('relu'))\n",
        "# Hidden layer 2 with 128 hidden units and ReLu activation function\n",
        "model.add(Dense(N_HIDDEN))\n",
        "model.add(Activation('relu'))\n",
        "\n",
        "# output layer with 10 units and softmax activation\n",
        "model.add(Dense(N_CLASSES))\n",
        "model.add(Activation('softmax'))\n",
        "\n",
        "# Summary of the whole model\n",
        "model.summary()\n",
        "\n",
        "# model compilation\n",
        "model.compile(loss='categorical_crossentropy', optimizer=OPTIMIZER, metrics=['accuracy'])"
      ]
    },
    {
      "cell_type": "markdown",
      "metadata": {
        "id": "OgYzi3hyMP2V"
      },
      "source": [
        "**Let's train the mulri-layer perceptron network**\n",
        "\n",
        "Let's now train (fit) the network with the above-defined batch size (128), and number of epochs (20)."
      ]
    },
    {
      "cell_type": "code",
      "execution_count": 10,
      "metadata": {
        "id": "iNa3cmoaMP2X"
      },
      "outputs": [
        {
          "name": "stdout",
          "output_type": "stream",
          "text": [
            "Epoch 1/20\n",
            "375/375 [==============================] - 1s 3ms/step - loss: 0.4926 - accuracy: 0.8625 - val_loss: 0.2917 - val_accuracy: 0.9086\n",
            "Epoch 2/20\n",
            "375/375 [==============================] - 1s 2ms/step - loss: 0.2351 - accuracy: 0.9324 - val_loss: 0.1938 - val_accuracy: 0.9468\n",
            "Epoch 3/20\n",
            "375/375 [==============================] - 1s 2ms/step - loss: 0.1786 - accuracy: 0.9484 - val_loss: 0.1580 - val_accuracy: 0.9561\n",
            "Epoch 4/20\n",
            "375/375 [==============================] - 1s 2ms/step - loss: 0.1461 - accuracy: 0.9575 - val_loss: 0.1436 - val_accuracy: 0.9570\n",
            "Epoch 5/20\n",
            "375/375 [==============================] - 1s 2ms/step - loss: 0.1227 - accuracy: 0.9638 - val_loss: 0.1307 - val_accuracy: 0.9605\n",
            "Epoch 6/20\n",
            "375/375 [==============================] - 1s 2ms/step - loss: 0.1057 - accuracy: 0.9690 - val_loss: 0.1170 - val_accuracy: 0.9658\n",
            "Epoch 7/20\n",
            "375/375 [==============================] - 1s 2ms/step - loss: 0.0921 - accuracy: 0.9732 - val_loss: 0.1080 - val_accuracy: 0.9688\n",
            "Epoch 8/20\n",
            "375/375 [==============================] - 1s 2ms/step - loss: 0.0814 - accuracy: 0.9762 - val_loss: 0.1069 - val_accuracy: 0.9703\n",
            "Epoch 9/20\n",
            "375/375 [==============================] - 1s 2ms/step - loss: 0.0715 - accuracy: 0.9791 - val_loss: 0.1030 - val_accuracy: 0.9690\n",
            "Epoch 10/20\n",
            "375/375 [==============================] - 1s 2ms/step - loss: 0.0638 - accuracy: 0.9824 - val_loss: 0.0935 - val_accuracy: 0.9734\n",
            "Epoch 11/20\n",
            "375/375 [==============================] - 1s 2ms/step - loss: 0.0582 - accuracy: 0.9834 - val_loss: 0.0904 - val_accuracy: 0.9727\n",
            "Epoch 12/20\n",
            "375/375 [==============================] - 1s 2ms/step - loss: 0.0524 - accuracy: 0.9850 - val_loss: 0.0894 - val_accuracy: 0.9746\n",
            "Epoch 13/20\n",
            "375/375 [==============================] - 1s 2ms/step - loss: 0.0467 - accuracy: 0.9871 - val_loss: 0.0860 - val_accuracy: 0.9753\n",
            "Epoch 14/20\n",
            "375/375 [==============================] - 1s 2ms/step - loss: 0.0416 - accuracy: 0.9884 - val_loss: 0.0941 - val_accuracy: 0.9735\n",
            "Epoch 15/20\n",
            "375/375 [==============================] - 1s 2ms/step - loss: 0.0374 - accuracy: 0.9899 - val_loss: 0.0879 - val_accuracy: 0.9752\n",
            "Epoch 16/20\n",
            "375/375 [==============================] - 1s 2ms/step - loss: 0.0347 - accuracy: 0.9907 - val_loss: 0.0888 - val_accuracy: 0.9737\n",
            "Epoch 17/20\n",
            "375/375 [==============================] - 1s 2ms/step - loss: 0.0310 - accuracy: 0.9914 - val_loss: 0.0875 - val_accuracy: 0.9758\n",
            "Epoch 18/20\n",
            "375/375 [==============================] - 1s 2ms/step - loss: 0.0279 - accuracy: 0.9931 - val_loss: 0.0875 - val_accuracy: 0.9750\n",
            "Epoch 19/20\n",
            "375/375 [==============================] - 1s 2ms/step - loss: 0.0256 - accuracy: 0.9940 - val_loss: 0.0872 - val_accuracy: 0.9758\n",
            "Epoch 20/20\n",
            "375/375 [==============================] - 1s 2ms/step - loss: 0.0237 - accuracy: 0.9942 - val_loss: 0.0847 - val_accuracy: 0.9762\n"
          ]
        }
      ],
      "source": [
        "#train the network\n",
        "history = model.fit(input_X_train, output_Y_train, batch_size=BATCH_SIZE, epochs=N_EPOCH, verbose=VERBOSE, validation_split=VALIDATION_SPLIT)\n"
      ]
    },
    {
      "cell_type": "markdown",
      "metadata": {
        "id": "kV5v4LNjMP2e"
      },
      "source": [
        "**Looking at the results of the trained network**\n",
        "\n",
        "Let's explotre the results both for the score and accuracy values, as well as to visualise the plots of these values during the training."
      ]
    },
    {
      "cell_type": "code",
      "execution_count": 11,
      "metadata": {
        "id": "CXpu8p9uMP2f"
      },
      "outputs": [
        {
          "name": "stdout",
          "output_type": "stream",
          "text": [
            "313/313 [==============================] - 0s 1ms/step - loss: 0.0745 - accuracy: 0.9775\n",
            "\n",
            "Test score/loss: 0.07445544749498367\n",
            "Test accuracy: 0.9775000214576721\n"
          ]
        }
      ],
      "source": [
        "#test the network\n",
        "score = model.evaluate(input_X_test, output_Y_test, verbose=VERBOSE)\n",
        "print(\"\\nTest score/loss:\", score[0])\n",
        "print(\"Test accuracy:\", score[1])"
      ]
    },
    {
      "cell_type": "code",
      "execution_count": 12,
      "metadata": {
        "id": "yYRZkVf6MP2t"
      },
      "outputs": [
        {
          "name": "stdout",
          "output_type": "stream",
          "text": [
            "dict_keys(['loss', 'accuracy', 'val_loss', 'val_accuracy'])\n"
          ]
        },
        {
          "data": {
            "image/png": "[encoded data removed]",
            "text/plain": [
              "<Figure size 640x480 with 1 Axes>"
            ]
          },
          "metadata": {},
          "output_type": "display_data"
        }
      ],
      "source": [
        "# list all data in history\n",
        "print(history.history.keys())\n",
        "# summarize history for accuracy\n",
        "plt.plot(history.history['accuracy'])\n",
        "plt.plot(history.history['val_accuracy'])\n",
        "plt.title('model accuracy')\n",
        "plt.ylabel('accuracy')\n",
        "plt.xlabel('epoch')\n",
        "plt.legend(['train', 'test'], loc='upper left')\n",
        "plt.show()\n"
      ]
    },
    {
      "cell_type": "code",
      "execution_count": 13,
      "metadata": {
        "id": "MJ9YbKviMP2z"
      },
      "outputs": [
        {
          "data": {
            "image/png": "[encoded data removed]",
            "text/plain": [
              "<Figure size 640x480 with 1 Axes>"
            ]
          },
          "metadata": {},
          "output_type": "display_data"
        }
      ],
      "source": [
        "# summarize history for loss\n",
        "plt.plot(history.history['loss'])\n",
        "plt.plot(history.history['val_loss'])\n",
        "plt.title('model loss')\n",
        "plt.ylabel('loss')\n",
        "plt.xlabel('epoch')\n",
        "plt.legend(['train', 'test'], loc='upper left')\n",
        "plt.show()"
      ]
    },
    {
      "cell_type": "markdown",
      "metadata": {
        "id": "CV-aShF1MP24"
      },
      "source": [
        "**Adding weight droputs**\n",
        "\n",
        "An efficient way to reduce the number of parameters (weights) to be trained, as well as to increase generalisation capabilities, is to randomly remove (i.e. __dropout__) a certain proportion of the nodes at random in each epoch."
      ]
    },
    {
      "cell_type": "code",
      "execution_count": 14,
      "metadata": {
        "id": "4GNrMiVoMP25"
      },
      "outputs": [
        {
          "name": "stdout",
          "output_type": "stream",
          "text": [
            "Model: \"sequential_2\"\n",
            "_________________________________________________________________\n",
            " Layer (type)                Output Shape              Param #   \n",
            "=================================================================\n",
            " dense_4 (Dense)             (None, 128)               100480    \n",
            "                                                                 \n",
            " activation_4 (Activation)   (None, 128)               0         \n",
            "                                                                 \n",
            " dropout (Dropout)           (None, 128)               0         \n",
            "                                                                 \n",
            " dense_5 (Dense)             (None, 128)               16512     \n",
            "                                                                 \n",
            " activation_5 (Activation)   (None, 128)               0         \n",
            "                                                                 \n",
            " dropout_1 (Dropout)         (None, 128)               0         \n",
            "                                                                 \n",
            " dense_6 (Dense)             (None, 10)                1290      \n",
            "                                                                 \n",
            " activation_6 (Activation)   (None, 10)                0         \n",
            "                                                                 \n",
            "=================================================================\n",
            "Total params: 118,282\n",
            "Trainable params: 118,282\n",
            "Non-trainable params: 0\n",
            "_________________________________________________________________\n"
          ]
        }
      ],
      "source": [
        "# import the dropout layer type\n",
        "from tensorflow.keras.layers import Dropout\n",
        "\n",
        "# Probability of weights dropout\n",
        "P_DROPOUT = 0.3\n",
        "\n",
        "# We can increse this parameter afterwards\n",
        "N_EPOCH = 20\n",
        "\n",
        "model = Sequential()\n",
        "model.add(Dense(N_HIDDEN, input_shape=(RESHAPED,)))\n",
        "model.add(Activation('relu'))\n",
        "model.add(Dropout(P_DROPOUT))\n",
        "model.add(Dense(N_HIDDEN))\n",
        "model.add(Activation('relu'))\n",
        "model.add(Dropout(P_DROPOUT))\n",
        "model.add(Dense(N_CLASSES))\n",
        "model.add(Activation('softmax'))\n",
        "\n",
        "# model compilation\n",
        "model.summary()\n",
        "\n",
        "# model compilation\n",
        "model.compile(loss='categorical_crossentropy', optimizer=OPTIMIZER, metrics=['accuracy'])\n"
      ]
    },
    {
      "cell_type": "markdown",
      "metadata": {
        "id": "NBJJWwueMP2-"
      },
      "source": [
        "**Let's train the multi-layer perceptron network with DROPOUT**\n",
        "\n",
        "Let's now train (fit) the above dropout network with the above-defined batch size (128), and number of epochs (250)."
      ]
    },
    {
      "cell_type": "code",
      "execution_count": 15,
      "metadata": {
        "id": "Xqa-9UHxMP3A"
      },
      "outputs": [
        {
          "name": "stdout",
          "output_type": "stream",
          "text": [
            "Epoch 1/20\n",
            "375/375 [==============================] - 1s 2ms/step - loss: 0.6758 - accuracy: 0.7939 - val_loss: 0.2704 - val_accuracy: 0.9208\n",
            "Epoch 2/20\n",
            "375/375 [==============================] - 1s 2ms/step - loss: 0.3462 - accuracy: 0.8973 - val_loss: 0.2010 - val_accuracy: 0.9404\n",
            "Epoch 3/20\n",
            "375/375 [==============================] - 1s 2ms/step - loss: 0.2756 - accuracy: 0.9193 - val_loss: 0.1671 - val_accuracy: 0.9500\n",
            "Epoch 4/20\n",
            "375/375 [==============================] - 1s 2ms/step - loss: 0.2392 - accuracy: 0.9290 - val_loss: 0.1468 - val_accuracy: 0.9578\n",
            "Epoch 5/20\n",
            "375/375 [==============================] - 1s 2ms/step - loss: 0.2095 - accuracy: 0.9377 - val_loss: 0.1315 - val_accuracy: 0.9620\n",
            "Epoch 6/20\n",
            "375/375 [==============================] - 1s 2ms/step - loss: 0.1855 - accuracy: 0.9442 - val_loss: 0.1213 - val_accuracy: 0.9648\n",
            "Epoch 7/20\n",
            "375/375 [==============================] - 1s 2ms/step - loss: 0.1710 - accuracy: 0.9481 - val_loss: 0.1182 - val_accuracy: 0.9660\n",
            "Epoch 8/20\n",
            "375/375 [==============================] - 1s 2ms/step - loss: 0.1599 - accuracy: 0.9515 - val_loss: 0.1098 - val_accuracy: 0.9681\n",
            "Epoch 9/20\n",
            "375/375 [==============================] - 1s 2ms/step - loss: 0.1501 - accuracy: 0.9547 - val_loss: 0.1053 - val_accuracy: 0.9697\n",
            "Epoch 10/20\n",
            "375/375 [==============================] - 1s 2ms/step - loss: 0.1396 - accuracy: 0.9579 - val_loss: 0.1011 - val_accuracy: 0.9699\n",
            "Epoch 11/20\n",
            "375/375 [==============================] - 1s 2ms/step - loss: 0.1322 - accuracy: 0.9604 - val_loss: 0.0967 - val_accuracy: 0.9712\n",
            "Epoch 12/20\n",
            "375/375 [==============================] - 1s 2ms/step - loss: 0.1264 - accuracy: 0.9617 - val_loss: 0.0975 - val_accuracy: 0.9713\n",
            "Epoch 13/20\n",
            "375/375 [==============================] - 1s 2ms/step - loss: 0.1209 - accuracy: 0.9635 - val_loss: 0.0931 - val_accuracy: 0.9721\n",
            "Epoch 14/20\n",
            "375/375 [==============================] - 1s 2ms/step - loss: 0.1169 - accuracy: 0.9649 - val_loss: 0.0924 - val_accuracy: 0.9735\n",
            "Epoch 15/20\n",
            "375/375 [==============================] - 1s 2ms/step - loss: 0.1103 - accuracy: 0.9668 - val_loss: 0.0901 - val_accuracy: 0.9731\n",
            "Epoch 16/20\n",
            "375/375 [==============================] - 1s 2ms/step - loss: 0.1055 - accuracy: 0.9684 - val_loss: 0.0864 - val_accuracy: 0.9745\n",
            "Epoch 17/20\n",
            "375/375 [==============================] - 1s 2ms/step - loss: 0.1018 - accuracy: 0.9691 - val_loss: 0.0879 - val_accuracy: 0.9732\n",
            "Epoch 18/20\n",
            "375/375 [==============================] - 1s 2ms/step - loss: 0.0993 - accuracy: 0.9700 - val_loss: 0.0861 - val_accuracy: 0.9753\n",
            "Epoch 19/20\n",
            "375/375 [==============================] - 1s 2ms/step - loss: 0.0929 - accuracy: 0.9706 - val_loss: 0.0879 - val_accuracy: 0.9744\n",
            "Epoch 20/20\n",
            "375/375 [==============================] - 1s 2ms/step - loss: 0.0928 - accuracy: 0.9706 - val_loss: 0.0841 - val_accuracy: 0.9747\n"
          ]
        }
      ],
      "source": [
        "#train the network\n",
        "history = model.fit(input_X_train, output_Y_train, batch_size=BATCH_SIZE, epochs=N_EPOCH, verbose=VERBOSE, validation_split=VALIDATION_SPLIT)\n"
      ]
    },
    {
      "cell_type": "markdown",
      "metadata": {
        "id": "x-z1NP88MP3I"
      },
      "source": [
        "**Looking at the results of the trained dropout network**\n",
        "\n",
        "Let's explore the effects of adding the weight dropout on the network performance.\n",
        "\n",
        "You can see that the dropout has further improved our results."
      ]
    },
    {
      "cell_type": "code",
      "execution_count": 16,
      "metadata": {
        "id": "K8qIacDmMP3N"
      },
      "outputs": [
        {
          "name": "stdout",
          "output_type": "stream",
          "text": [
            "313/313 [==============================] - 0s 1ms/step - loss: 0.0778 - accuracy: 0.9754\n",
            "\n",
            "Test score: 0.07775445282459259\n",
            "Test accuracy: 0.9753999710083008\n",
            "dict_keys(['loss', 'accuracy', 'val_loss', 'val_accuracy'])\n"
          ]
        },
        {
          "data": {
            "image/png": "[encoded data removed]",
            "text/plain": [
              "<Figure size 640x480 with 1 Axes>"
            ]
          },
          "metadata": {},
          "output_type": "display_data"
        }
      ],
      "source": [
        "#test the network\n",
        "score = model.evaluate(input_X_test, output_Y_test, verbose=VERBOSE)\n",
        "print(\"\\nTest score:\", score[0])\n",
        "print(\"Test accuracy:\", score[1])\n",
        "\n",
        "# list all data in history\n",
        "print(history.history.keys())\n",
        "\n",
        "# summarize history for accuracy\n",
        "plt.plot(history.history['accuracy'])\n",
        "plt.plot(history.history['val_accuracy'])\n",
        "plt.title('model accuracy')\n",
        "plt.ylabel('accuracy')\n",
        "plt.xlabel('epoch')\n",
        "plt.legend(['train', 'test'], loc='upper left')\n",
        "plt.show()"
      ]
    },
    {
      "cell_type": "markdown",
      "metadata": {
        "id": "8IUIcenlMP3S"
      },
      "source": [
        "Exploring Training Hyperparameters\n",
        "-------------\n",
        "\n",
        "You can explore the role of various hyperparameters to see how you can further improve the MLP model's performance on the MNIST dataset. \n",
        "\n",
        "For example, if you increase the number of epochs for the dropout network to 250, you will see that the test and train accuracy errors will converge (accuracy closer to 97% for both training and test), which means that we have achieved the best tradeoff between training and testing.\n",
        "\n",
        "You can carry out many additional simulations on hypeparameter exploration where you can try for example:\n",
        "\n",
        "- different number of epochs\n",
        "- different learning rate\n",
        "- different number of hidden nodes \n",
        "- different proportion of dropout rates \n",
        "- different optimisers in addition to SGD (e.g. RMSprop, Adam) \n",
        "- different batch size \n",
        "\n",
        "This final exercise will constitute the first neural network coursework. See Coursework specification documenty for more details.\n"
      ]
    },
    {
      "cell_type": "markdown",
      "metadata": {
        "id": "uPKj5NAdMP3T"
      },
      "source": [
        "Conclusions\n",
        "-------------\n",
        "\n",
        "With this tutorial we have practiced the training of both a Simple Perceptron, and a Multi-Layer Perceptron, with a benchmark dataset containing images of handwritten numbers.\n",
        "This helped us understand how to load the datase, visualise it, and visualise the training history and the effects of adding hidden layers and then adding weight dropout.\n",
        "\n",
        "**Copyright (c)** 2022 Angelo Cangelosi, MIT License. Code and examples adapted from Gulli & Pal (2017) Deep Learning with Keras. Punkt Publishing. With further contribution from Wenjie Huang."
      ]
    }
  ],
  "metadata": {
    "colab": {
      "provenance": []
    },
    "kernelspec": {
      "display_name": "Python 3",
      "language": "python",
      "name": "python3"
    },
    "language_info": {
      "codemirror_mode": {
        "name": "ipython",
        "version": 3
      },
      "file_extension": ".py",
      "mimetype": "text/x-python",
      "name": "python",
      "nbconvert_exporter": "python",
      "pygments_lexer": "ipython3",
      "version": "3.9.7"
    }
  },
  "nbformat": 4,
  "nbformat_minor": 0
}
